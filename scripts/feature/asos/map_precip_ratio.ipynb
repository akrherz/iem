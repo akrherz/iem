{
 "metadata": {
  "name": "",
  "signature": "sha256:5b43930c05c43ce1581483828698ed9d34eb2a2acd44b1dd2f183d52645e43c1"
 },
 "nbformat": 3,
 "nbformat_minor": 0,
 "worksheets": [
  {
   "cells": [
    {
     "cell_type": "code",
     "collapsed": false,
     "input": [
      "%pylab inline\n",
      "import psycopg2\n",
      "import network\n",
      "import pandas as pd\n",
      "import datetime\n",
      "\n",
      "ASOS = psycopg2.connect(database='asos', user='nobody',host='iemdb')\n",
      "acursor = ASOS.cursor()\n",
      "\n",
      "MESOSITE = psycopg2.connect(database='mesosite', user='nobody', host='iemdb')\n",
      "mcursor = MESOSITE.cursor()\n",
      "networks = []\n",
      "mcursor.execute(\"\"\"SELECT distinct network from stations where country = 'US' and \n",
      " network ~* 'ASOS' and length(id) < 4\"\"\")\n",
      "for row in mcursor:\n",
      "    networks.append( row[0] )\n",
      "\n",
      "nt = network.Table(networks)\n",
      "\n",
      "#nt = network.Table(('IA_ASOS','MO_ASOS','IL_ASOS', 'ND_ASOS', 'AWOS',\n",
      "#          'WI_ASOS','MN_ASOS', 'SD_ASOS', 'NE_ASOS', 'KS_ASOS',\n",
      "#          'IN_ASOS','KY_ASOS','OH_ASOS','MI_ASOS'))\n",
      "#nt = network.Table(\"IA_ASOS\")\n",
      "rows = []\n",
      "sz = len(nt.sts.keys())\n",
      "for i, sid in enumerate(nt.sts.keys()):\n",
      "    if nt.sts[sid]['archive_begin'] is None or nt.sts[sid]['archive_begin'].year > 1973:\n",
      "        continue\n",
      "    print \"%04i/%04i \" % (i+1, sz),\n",
      "        \n",
      "    # Figure out what our archive coverage is, 41 years would be perfect\n",
      "    acursor.execute(\"\"\"\n",
      "    select yr from \n",
      "        (SELECT substring(d, 1, 4) as yr, count(*) from \n",
      "            (select distinct to_char(valid, 'YYYYmmddHH24') as d from alldata \n",
      "            where station = %s and valid > '1973-01-01' and valid < '2014-01-01') as foo \n",
      "        GROUP by yr) as foo2 \n",
      "    WHERE count > (365. * 24 * .9)\n",
      "    \"\"\", (sid,) )\n",
      "    if acursor.rowcount < 37:\n",
      "        print 'Skipping %s, due to only have %s/41 years of data' % (sid, acursor.rowcount)\n",
      "        continue\n",
      "        \n",
      "    acursor.execute(\"\"\"\n",
      " select sum(case when hr < 8 or hr > 19 then sum else 0 end), sum(sum) from \n",
      " (select substr(d, 9,2)::int as hr, sum(max) from \n",
      " (select to_char((valid at time zone %s ) - '1 minute'::interval, 'YYYYmmddHH24') as d, max(p01i) from alldata \n",
      " where station = %s and valid > '1973-01-01' and valid < '2014-01-01' and\n",
      " extract(month from valid) in (5,6,7) GROUP by d) as foo \n",
      " GROUP by hr ORDER by hr ASC) as foo2\n",
      "\n",
      "    \"\"\", (nt.sts[sid]['tzname'], sid))\n",
      "    \n",
      "    row = acursor.fetchone()\n",
      "    if row[0] is None or row[1] < 1:\n",
      "        continue\n",
      "    val = row[0] / row[1] * 100.\n",
      "    rows.append( dict(sid=sid, lat=nt.sts[sid]['lat'], lon=nt.sts[sid]['lon'], val=val,\n",
      "                      network=nt.sts[sid]['network']))\n",
      "    print \"%s %s => %.2f\" % (sid, nt.sts[sid]['network'], val)\n",
      "\n",
      "df = pd.DataFrame(rows)"
     ],
     "language": "python",
     "metadata": {},
     "outputs": [
      {
       "output_type": "stream",
       "stream": "stdout",
       "text": [
        " Populating the interactive namespace from numpy and matplotlib\n",
        "0002/2195 "
       ]
      },
      {
       "output_type": "stream",
       "stream": "stdout",
       "text": [
        " AGC PA_ASOS => 40.02\n",
        "0007/2195  "
       ]
      },
      {
       "output_type": "stream",
       "stream": "stdout",
       "text": [
        "Skipping NYC, due to only have 13/41 years of data\n",
        "0008/2195  "
       ]
      },
      {
       "output_type": "stream",
       "stream": "stdout",
       "text": [
        "AGS GA_ASOS => 37.78\n",
        "0009/2195  "
       ]
      },
      {
       "output_type": "stream",
       "stream": "stdout",
       "text": [
        "Skipping NYG, due to only have 25/41 years of data\n",
        "0011/2195  "
       ]
      },
      {
       "output_type": "stream",
       "stream": "stdout",
       "text": [
        "Skipping CEW, due to only have 30/41 years of data\n",
        "0013/2195  "
       ]
      },
      {
       "output_type": "stream",
       "stream": "stdout",
       "text": [
        "SPS TX_ASOS => 48.62\n",
        "0015/2195  "
       ]
      },
      {
       "output_type": "stream",
       "stream": "stdout",
       "text": [
        "SPI IL_ASOS => 51.38\n",
        "0016/2195  "
       ]
      },
      {
       "output_type": "stream",
       "stream": "stdout",
       "text": [
        "Skipping BWD, due to only have 11/41 years of data\n",
        "0017/2195  "
       ]
      },
      {
       "output_type": "stream",
       "stream": "stdout",
       "text": [
        "BWG KY_ASOS => 51.68\n",
        "0018/2195  "
       ]
      },
      {
       "output_type": "stream",
       "stream": "stdout",
       "text": [
        "BWI MD_ASOS => 48.16\n",
        "0023/2195  "
       ]
      },
      {
       "output_type": "stream",
       "stream": "stdout",
       "text": [
        "Skipping 4BL, due to only have 0/41 years of data\n",
        "0027/2195  "
       ]
      },
      {
       "output_type": "stream",
       "stream": "stdout",
       "text": [
        "Skipping IXD, due to only have 15/41 years of data\n",
        "0030/2195  "
       ]
      },
      {
       "output_type": "stream",
       "stream": "stdout",
       "text": [
        "Skipping BYH, due to only have 19/41 years of data\n",
        "0031/2195  "
       ]
      },
      {
       "output_type": "stream",
       "stream": "stdout",
       "text": [
        "Skipping BYI, due to only have 32/41 years of data\n",
        "0033/2195  "
       ]
      },
      {
       "output_type": "stream",
       "stream": "stdout",
       "text": [
        "Skipping JNW, due to only have 0/41 years of data\n",
        "0035/2195  "
       ]
      },
      {
       "output_type": "stream",
       "stream": "stdout",
       "text": [
        "Skipping SNA, due to only have 14/41 years of data\n",
        "0036/2195  "
       ]
      },
      {
       "output_type": "stream",
       "stream": "stdout",
       "text": [
        "Skipping PQI, due to only have 19/41 years of data\n",
        "0039/2195  "
       ]
      },
      {
       "output_type": "stream",
       "stream": "stdout",
       "text": [
        "Skipping B23, due to only have 0/41 years of data\n",
        "0044/2195  "
       ]
      },
      {
       "output_type": "stream",
       "stream": "stdout",
       "text": [
        "SNS CA_ASOS => 47.79\n",
        "0045/2195  "
       ]
      },
      {
       "output_type": "stream",
       "stream": "stdout",
       "text": [
        "MAF TX_ASOS => 55.11\n",
        "0046/2195  "
       ]
      },
      {
       "output_type": "stream",
       "stream": "stdout",
       "text": [
        "Skipping MAI, due to only have 3/41 years of data\n",
        "0051/2195  "
       ]
      },
      {
       "output_type": "stream",
       "stream": "stdout",
       "text": [
        "Skipping BEH, due to only have 15/41 years of data\n",
        "0056/2195  "
       ]
      },
      {
       "output_type": "stream",
       "stream": "stdout",
       "text": [
        "Skipping BED, due to only have 14/41 years of data\n",
        "0058/2195  "
       ]
      },
      {
       "output_type": "stream",
       "stream": "stdout",
       "text": [
        "Skipping MLD, due to only have 0/41 years of data\n",
        "0060/2195  "
       ]
      },
      {
       "output_type": "stream",
       "stream": "stdout",
       "text": [
        "EVV IN_ASOS => 52.75\n",
        "0061/2195  "
       ]
      },
      {
       "output_type": "stream",
       "stream": "stdout",
       "text": [
        "Skipping EVW, due to only have 18/41 years of data\n",
        "0062/2195  "
       ]
      },
      {
       "output_type": "stream",
       "stream": "stdout",
       "text": [
        "LSF GA_ASOS => 75.81\n",
        "0063/2195  "
       ]
      },
      {
       "output_type": "stream",
       "stream": "stdout",
       "text": [
        "LSE WI_ASOS => 58.14\n",
        "0068/2195  "
       ]
      },
      {
       "output_type": "stream",
       "stream": "stdout",
       "text": [
        "LSV NV_ASOS => 48.87\n",
        "0069/2195  "
       ]
      },
      {
       "output_type": "stream",
       "stream": "stdout",
       "text": [
        "Skipping TTN, due to only have 15/41 years of data\n",
        "0072/2195  "
       ]
      },
      {
       "output_type": "stream",
       "stream": "stdout",
       "text": [
        "Skipping TTD, due to only have 17/41 years of data\n",
        "0073/2195  "
       ]
      },
      {
       "output_type": "stream",
       "stream": "stdout",
       "text": [
        "GRR MI_ASOS => 52.70\n",
        "0075/2195  "
       ]
      },
      {
       "output_type": "stream",
       "stream": "stdout",
       "text": [
        "Skipping GRF, due to only have 36/41 years of data\n",
        "0077/2195  "
       ]
      },
      {
       "output_type": "stream",
       "stream": "stdout",
       "text": [
        "GRB WI_ASOS => 52.89\n",
        "0078/2195  "
       ]
      },
      {
       "output_type": "stream",
       "stream": "stdout",
       "text": [
        "GRK TX_ASOS => 0.00\n",
        "0079/2195  "
       ]
      },
      {
       "output_type": "stream",
       "stream": "stdout",
       "text": [
        "GRI NE_ASOS => 68.36\n",
        "0082/2195  "
       ]
      },
      {
       "output_type": "stream",
       "stream": "stdout",
       "text": [
        "Skipping NOG, due to only have 26/41 years of data\n",
        "0083/2195  "
       ]
      },
      {
       "output_type": "stream",
       "stream": "stdout",
       "text": [
        "Skipping HLR, due to only have 10/41 years of data\n",
        "0084/2195  "
       ]
      },
      {
       "output_type": "stream",
       "stream": "stdout",
       "text": [
        "HLN MT_ASOS => 41.09\n",
        "0085/2195  "
       ]
      },
      {
       "output_type": "stream",
       "stream": "stdout",
       "text": [
        "Skipping HLG, due to only have 22/41 years of data\n",
        "0087/2195  "
       ]
      },
      {
       "output_type": "stream",
       "stream": "stdout",
       "text": [
        "Skipping HLC, due to only have 16/41 years of data\n",
        "0088/2195  "
       ]
      },
      {
       "output_type": "stream",
       "stream": "stdout",
       "text": [
        "Skipping VBG, due to only have 9/41 years of data\n",
        "0091/2195  "
       ]
      },
      {
       "output_type": "stream",
       "stream": "stdout",
       "text": [
        "Skipping CTY, due to only have 26/41 years of data\n",
        "0094/2195  "
       ]
      },
      {
       "output_type": "stream",
       "stream": "stdout",
       "text": [
        "Skipping CTB, due to only have 12/41 years of data\n",
        "0099/2195  "
       ]
      },
      {
       "output_type": "stream",
       "stream": "stdout",
       "text": [
        "Skipping HYI, due to only have 17/41 years of data\n",
        "0101/2195  "
       ]
      },
      {
       "output_type": "stream",
       "stream": "stdout",
       "text": [
        "Skipping SPA, due to only have 4/41 years of data\n",
        "0104/2195  "
       ]
      },
      {
       "output_type": "stream",
       "stream": "stdout",
       "text": [
        "Skipping EDE, due to only have 14/41 years of data\n",
        "0106/2195  "
       ]
      },
      {
       "output_type": "stream",
       "stream": "stdout",
       "text": [
        "LMT OR_ASOS => 48.69\n",
        "0108/2195  "
       ]
      },
      {
       "output_type": "stream",
       "stream": "stdout",
       "text": [
        "Skipping ORL, due to only have 34/41 years of data\n",
        "0109/2195  "
       ]
      },
      {
       "output_type": "stream",
       "stream": "stdout",
       "text": [
        "Skipping EDW, due to only have 16/41 years of data\n",
        "0110/2195  "
       ]
      },
      {
       "output_type": "stream",
       "stream": "stdout",
       "text": [
        "Skipping ORH, due to only have 34/41 years of data\n",
        "0112/2195  "
       ]
      },
      {
       "output_type": "stream",
       "stream": "stdout",
       "text": [
        "ORF VA_ASOS => 39.77\n",
        "0114/2195  "
       ]
      },
      {
       "output_type": "stream",
       "stream": "stdout",
       "text": [
        "ORD IL_ASOS => 55.18\n",
        "0120/2195  "
       ]
      },
      {
       "output_type": "stream",
       "stream": "stdout",
       "text": [
        "Skipping DPG, due to only have 0/41 years of data\n",
        "0121/2195  "
       ]
      },
      {
       "output_type": "stream",
       "stream": "stdout",
       "text": [
        "Skipping LOZ, due to only have 30/41 years of data\n",
        "0123/2195  "
       ]
      },
      {
       "output_type": "stream",
       "stream": "stdout",
       "text": [
        "Skipping UKI, due to only have 29/41 years of data\n",
        "0126/2195  "
       ]
      },
      {
       "output_type": "stream",
       "stream": "stdout",
       "text": [
        "Skipping ONO, due to only have 15/41 years of data\n",
        "0127/2195  "
       ]
      },
      {
       "output_type": "stream",
       "stream": "stdout",
       "text": [
        "Skipping ONL, due to only have 11/41 years of data\n",
        "0128/2195  "
       ]
      },
      {
       "output_type": "stream",
       "stream": "stdout",
       "text": [
        "Skipping ONM, due to only have 3/41 years of data\n",
        "0133/2195  "
       ]
      },
      {
       "output_type": "stream",
       "stream": "stdout",
       "text": [
        "Skipping ONP, due to only have 12/41 years of data\n",
        "0134/2195  "
       ]
      },
      {
       "output_type": "stream",
       "stream": "stdout",
       "text": [
        "ONT CA_ASOS => 55.98\n",
        "0146/2195  "
       ]
      },
      {
       "output_type": "stream",
       "stream": "stdout",
       "text": [
        "Skipping PNC, due to only have 33/41 years of data\n",
        "0147/2195  "
       ]
      },
      {
       "output_type": "stream",
       "stream": "stdout",
       "text": [
        "Skipping PNE, due to only have 35/41 years of data\n",
        "0152/2195  "
       ]
      },
      {
       "output_type": "stream",
       "stream": "stdout",
       "text": [
        "SAN CA_ASOS => 56.10\n",
        "0153/2195  "
       ]
      },
      {
       "output_type": "stream",
       "stream": "stdout",
       "text": [
        "PRC AZ_ASOS => 26.71\n",
        "0154/2195  "
       ]
      },
      {
       "output_type": "stream",
       "stream": "stdout",
       "text": [
        "PRB CA_ASOS => 14.96\n",
        "0155/2195  "
       ]
      },
      {
       "output_type": "stream",
       "stream": "stdout",
       "text": [
        "SAC CA_ASOS => 39.87\n",
        "0158/2195  "
       ]
      },
      {
       "output_type": "stream",
       "stream": "stdout",
       "text": [
        "Skipping SAF, due to only have 19/41 years of data\n",
        "0159/2195  "
       ]
      },
      {
       "output_type": "stream",
       "stream": "stdout",
       "text": [
        "Skipping SAD, due to only have 15/41 years of data\n",
        "0163/2195  "
       ]
      },
      {
       "output_type": "stream",
       "stream": "stdout",
       "text": [
        "Skipping SAW, due to only have 34/41 years of data\n",
        "0164/2195  "
       ]
      },
      {
       "output_type": "stream",
       "stream": "stdout",
       "text": [
        "SAV GA_ASOS => 27.98\n",
        "0165/2195  "
       ]
      },
      {
       "output_type": "stream",
       "stream": "stdout",
       "text": [
        "SAT TX_ASOS => 43.70\n",
        "0167/2195  "
       ]
      },
      {
       "output_type": "stream",
       "stream": "stdout",
       "text": [
        "CHA TN_ASOS => 37.73\n",
        "0170/2195  "
       ]
      },
      {
       "output_type": "stream",
       "stream": "stdout",
       "text": [
        "JAX FL_ASOS => 28.62\n",
        "0175/2195  "
       ]
      },
      {
       "output_type": "stream",
       "stream": "stdout",
       "text": [
        "Skipping CHO, due to only have 11/41 years of data\n",
        "0176/2195  "
       ]
      },
      {
       "output_type": "stream",
       "stream": "stdout",
       "text": [
        "JAN MS_ASOS => 33.24\n",
        "0178/2195  "
       ]
      },
      {
       "output_type": "stream",
       "stream": "stdout",
       "text": [
        "CHS SC_ASOS => 32.46\n",
        "0182/2195  "
       ]
      },
      {
       "output_type": "stream",
       "stream": "stdout",
       "text": [
        "Skipping MRF, due to only have 28/41 years of data\n",
        "0183/2195  "
       ]
      },
      {
       "output_type": "stream",
       "stream": "stdout",
       "text": [
        "Skipping JAC, due to only have 18/41 years of data\n",
        "0184/2195  "
       ]
      },
      {
       "output_type": "stream",
       "stream": "stdout",
       "text": [
        "MRB WV_ASOS => 40.12\n",
        "0185/2195  "
       ]
      },
      {
       "output_type": "stream",
       "stream": "stdout",
       "text": [
        "MRC TN_ASOS => 43.94\n",
        "0189/2195  "
       ]
      },
      {
       "output_type": "stream",
       "stream": "stdout",
       "text": [
        "APN MI_ASOS => 48.16\n",
        "0190/2195  "
       ]
      },
      {
       "output_type": "stream",
       "stream": "stdout",
       "text": [
        "Skipping DBQ, due to only have 30/41 years of data\n",
        "0191/2195  "
       ]
      },
      {
       "output_type": "stream",
       "stream": "stdout",
       "text": [
        "Skipping APC, due to only have 15/41 years of data\n",
        "0197/2195  "
       ]
      },
      {
       "output_type": "stream",
       "stream": "stdout",
       "text": [
        "Skipping NPA, due to only have 34/41 years of data\n",
        "0203/2195  "
       ]
      },
      {
       "output_type": "stream",
       "stream": "stdout",
       "text": [
        "Skipping HMN, due to only have 31/41 years of data\n",
        "0210/2195  "
       ]
      },
      {
       "output_type": "stream",
       "stream": "stdout",
       "text": [
        "Skipping AFF, due to only have 6/41 years of data\n",
        "0211/2195  "
       ]
      },
      {
       "output_type": "stream",
       "stream": "stdout",
       "text": [
        "DLH MN_ASOS => 54.01\n",
        "0213/2195  "
       ]
      },
      {
       "output_type": "stream",
       "stream": "stdout",
       "text": [
        "Skipping DLN, due to only have 15/41 years of data\n",
        "0215/2195  "
       ]
      },
      {
       "output_type": "stream",
       "stream": "stdout",
       "text": [
        "Skipping GCN, due to only have 15/41 years of data\n",
        "0216/2195  "
       ]
      },
      {
       "output_type": "stream",
       "stream": "stdout",
       "text": [
        "Skipping DLS, due to only have 10/41 years of data\n",
        "0222/2195  "
       ]
      },
      {
       "output_type": "stream",
       "stream": "stdout",
       "text": [
        "BTV VT_ASOS => 45.79\n",
        "0224/2195  "
       ]
      },
      {
       "output_type": "stream",
       "stream": "stdout",
       "text": [
        "BTR LA_ASOS => 24.85\n",
        "0227/2195  "
       ]
      },
      {
       "output_type": "stream",
       "stream": "stdout",
       "text": [
        "Skipping SSI, due to only have 35/41 years of data\n",
        "0230/2195  "
       ]
      },
      {
       "output_type": "stream",
       "stream": "stdout",
       "text": [
        "Skipping BTM, due to only have 22/41 years of data\n",
        "0231/2195  "
       ]
      },
      {
       "output_type": "stream",
       "stream": "stdout",
       "text": [
        "Skipping BTL, due to only have 23/41 years of data\n",
        "0233/2195  "
       ]
      },
      {
       "output_type": "stream",
       "stream": "stdout",
       "text": [
        "SSC SC_ASOS => 35.91\n",
        "0234/2195  "
       ]
      },
      {
       "output_type": "stream",
       "stream": "stdout",
       "text": [
        "Skipping WYS, due to only have 1/41 years of data\n",
        "0236/2195  "
       ]
      },
      {
       "output_type": "stream",
       "stream": "stdout",
       "text": [
        "UIN IL_ASOS => 52.54\n",
        "0237/2195  "
       ]
      },
      {
       "output_type": "stream",
       "stream": "stdout",
       "text": [
        "Skipping ECG, due to only have 15/41 years of data\n",
        "0238/2195  "
       ]
      },
      {
       "output_type": "stream",
       "stream": "stdout",
       "text": [
        "Skipping JKL, due to only have 33/41 years of data\n",
        "0240/2195  "
       ]
      },
      {
       "output_type": "stream",
       "stream": "stdout",
       "text": [
        "Skipping SEE, due to only have 3/41 years of data\n",
        "0241/2195  "
       ]
      },
      {
       "output_type": "stream",
       "stream": "stdout",
       "text": [
        "Skipping LNS, due to only have 14/41 years of data\n",
        "0242/2195  "
       ]
      },
      {
       "output_type": "stream",
       "stream": "stdout",
       "text": [
        "Skipping LNR, due to only have 12/41 years of data\n",
        "0245/2195  "
       ]
      },
      {
       "output_type": "stream",
       "stream": "stdout",
       "text": [
        "Skipping LNN, due to only have 0/41 years of data\n",
        "0247/2195  "
       ]
      },
      {
       "output_type": "stream",
       "stream": "stdout",
       "text": [
        "Skipping RMG, due to only have 3/41 years of data\n",
        "0248/2195  "
       ]
      },
      {
       "output_type": "stream",
       "stream": "stdout",
       "text": [
        "LNK NE_ASOS => 67.82\n",
        "0250/2195  "
       ]
      },
      {
       "output_type": "stream",
       "stream": "stdout",
       "text": [
        "LND WY_ASOS => 50.19\n",
        "0254/2195  "
       ]
      },
      {
       "output_type": "stream",
       "stream": "stdout",
       "text": [
        "SEA WA_ASOS => 53.46\n",
        "0257/2195  "
       ]
      },
      {
       "output_type": "stream",
       "stream": "stdout",
       "text": [
        "EUG OR_ASOS => 47.17\n",
        "0260/2195  "
       ]
      },
      {
       "output_type": "stream",
       "stream": "stdout",
       "text": [
        "Skipping BBW, due to only have 13/41 years of data\n",
        "0262/2195  "
       ]
      },
      {
       "output_type": "stream",
       "stream": "stdout",
       "text": [
        "Skipping TUP, due to only have 31/41 years of data\n",
        "0263/2195  "
       ]
      },
      {
       "output_type": "stream",
       "stream": "stdout",
       "text": [
        "TUS AZ_ASOS => 42.36\n",
        "0264/2195  "
       ]
      },
      {
       "output_type": "stream",
       "stream": "stdout",
       "text": [
        "TUL OK_ASOS => 59.23\n",
        "0270/2195  "
       ]
      },
      {
       "output_type": "stream",
       "stream": "stdout",
       "text": [
        "CYS WY_ASOS => 34.69\n",
        "0276/2195  "
       ]
      },
      {
       "output_type": "stream",
       "stream": "stdout",
       "text": [
        "FYV AR_ASOS => 49.89\n",
        "0279/2195  "
       ]
      },
      {
       "output_type": "stream",
       "stream": "stdout",
       "text": [
        "Skipping POE, due to only have 29/41 years of data\n",
        "0280/2195  "
       ]
      },
      {
       "output_type": "stream",
       "stream": "stdout",
       "text": [
        "POB NC_ASOS => 69.53\n",
        "0283/2195  "
       ]
      },
      {
       "output_type": "stream",
       "stream": "stdout",
       "text": [
        "Skipping FKL, due to only have 20/41 years of data\n",
        "0287/2195  "
       ]
      },
      {
       "output_type": "stream",
       "stream": "stdout",
       "text": [
        "VCT TX_ASOS => 36.69\n",
        "0288/2195  "
       ]
      },
      {
       "output_type": "stream",
       "stream": "stdout",
       "text": [
        "Skipping VCV, due to only have 19/41 years of data\n",
        "0290/2195  "
       ]
      },
      {
       "output_type": "stream",
       "stream": "stdout",
       "text": [
        "Skipping CWA, due to only have 14/41 years of data\n",
        "0293/2195  "
       ]
      },
      {
       "output_type": "stream",
       "stream": "stdout",
       "text": [
        "Skipping CWF, due to only have 4/41 years of data\n",
        "0294/2195  "
       ]
      },
      {
       "output_type": "stream",
       "stream": "stdout",
       "text": [
        "Skipping SNY, due to only have 29/41 years of data\n",
        "0299/2195  "
       ]
      },
      {
       "output_type": "stream",
       "stream": "stdout",
       "text": [
        "Skipping CKB, due to only have 17/41 years of data\n",
        "0303/2195  "
       ]
      },
      {
       "output_type": "stream",
       "stream": "stdout",
       "text": [
        "VLD GA_ASOS => 34.10\n",
        "0305/2195  "
       ]
      },
      {
       "output_type": "stream",
       "stream": "stdout",
       "text": [
        "Skipping PAE, due to only have 14/41 years of data\n",
        "0306/2195  "
       ]
      },
      {
       "output_type": "stream",
       "stream": "stdout",
       "text": [
        "Skipping FDK, due to only have 11/41 years of data\n",
        "0308/2195  "
       ]
      },
      {
       "output_type": "stream",
       "stream": "stdout",
       "text": [
        "Skipping PAH, due to only have 33/41 years of data\n",
        "0309/2195  "
       ]
      },
      {
       "output_type": "stream",
       "stream": "stdout",
       "text": [
        "Skipping PAM, due to only have 36/41 years of data\n",
        "0316/2195  "
       ]
      },
      {
       "output_type": "stream",
       "stream": "stdout",
       "text": [
        "DCA VA_ASOS => 46.91\n",
        "0320/2195  "
       ]
      },
      {
       "output_type": "stream",
       "stream": "stdout",
       "text": [
        "Skipping MQY, due to only have 7/41 years of data\n",
        "0326/2195  "
       ]
      },
      {
       "output_type": "stream",
       "stream": "stdout",
       "text": [
        "FWA IN_ASOS => 46.07\n",
        "0327/2195  "
       ]
      },
      {
       "output_type": "stream",
       "stream": "stdout",
       "text": [
        "Skipping WEY, due to only have 0/41 years of data\n",
        "0331/2195  "
       ]
      },
      {
       "output_type": "stream",
       "stream": "stdout",
       "text": [
        "Skipping OIN, due to only have 12/41 years of data\n",
        "0334/2195  "
       ]
      },
      {
       "output_type": "stream",
       "stream": "stdout",
       "text": [
        "DMA AZ_ASOS => 59.16\n",
        "0338/2195  "
       ]
      },
      {
       "output_type": "stream",
       "stream": "stdout",
       "text": [
        "Skipping AEX, due to only have 24/41 years of data\n",
        "0340/2195  "
       ]
      },
      {
       "output_type": "stream",
       "stream": "stdout",
       "text": [
        "Skipping DMN, due to only have 21/41 years of data\n",
        "0347/2195  "
       ]
      },
      {
       "output_type": "stream",
       "stream": "stdout",
       "text": [
        "BUR CA_ASOS => 60.53\n",
        "0349/2195  "
       ]
      },
      {
       "output_type": "stream",
       "stream": "stdout",
       "text": [
        "Skipping BUO, due to only have 0/41 years of data\n",
        "0350/2195  "
       ]
      },
      {
       "output_type": "stream",
       "stream": "stdout",
       "text": [
        "BUF NY_ASOS => 52.07\n",
        "0354/2195  "
       ]
      },
      {
       "output_type": "stream",
       "stream": "stdout",
       "text": [
        "Skipping INW, due to only have 34/41 years of data\n",
        "0360/2195  "
       ]
      },
      {
       "output_type": "stream",
       "stream": "stdout",
       "text": [
        "PSM NH_ASOS => 50.44\n",
        "0362/2195  "
       ]
      },
      {
       "output_type": "stream",
       "stream": "stdout",
       "text": [
        "Skipping PSC, due to only have 15/41 years of data\n",
        "0364/2195  "
       ]
      },
      {
       "output_type": "stream",
       "stream": "stdout",
       "text": [
        "Skipping PSF, due to only have 11/41 years of data\n",
        "0366/2195  "
       ]
      },
      {
       "output_type": "stream",
       "stream": "stdout",
       "text": [
        "MOT ND_ASOS => 52.35\n",
        "0367/2195  "
       ]
      },
      {
       "output_type": "stream",
       "stream": "stdout",
       "text": [
        "Skipping PSX, due to only have 32/41 years of data\n",
        "0368/2195  "
       ]
      },
      {
       "output_type": "stream",
       "stream": "stdout",
       "text": [
        "PIA IL_ASOS => 54.64\n",
        "0369/2195  "
       ]
      },
      {
       "output_type": "stream",
       "stream": "stdout",
       "text": [
        "MOB AL_ASOS => 29.93\n",
        "0370/2195  "
       ]
      },
      {
       "output_type": "stream",
       "stream": "stdout",
       "text": [
        "Skipping PSP, due to only have 15/41 years of data\n",
        "0371/2195  "
       ]
      },
      {
       "output_type": "stream",
       "stream": "stdout",
       "text": [
        "JLN MO_ASOS => 60.66\n",
        "0372/2195  "
       ]
      },
      {
       "output_type": "stream",
       "stream": "stdout",
       "text": [
        "Skipping MOD, due to only have 14/41 years of data\n",
        "0376/2195  "
       ]
      },
      {
       "output_type": "stream",
       "stream": "stdout",
       "text": [
        "Skipping BCE, due to only have 13/41 years of data\n",
        "0378/2195  "
       ]
      },
      {
       "output_type": "stream",
       "stream": "stdout",
       "text": [
        "PIE FL_ASOS => 32.06\n",
        "0385/2195  "
       ]
      },
      {
       "output_type": "stream",
       "stream": "stdout",
       "text": [
        "Skipping SWO, due to only have 16/41 years of data\n",
        "0387/2195  "
       ]
      },
      {
       "output_type": "stream",
       "stream": "stdout",
       "text": [
        "VRB FL_ASOS => 27.21\n",
        "0389/2195  "
       ]
      },
      {
       "output_type": "stream",
       "stream": "stdout",
       "text": [
        "Skipping TVF, due to only have 21/41 years of data\n",
        "0390/2195  "
       ]
      },
      {
       "output_type": "stream",
       "stream": "stdout",
       "text": [
        "TVC MI_ASOS => 56.33\n",
        "0395/2195  "
       ]
      },
      {
       "output_type": "stream",
       "stream": "stdout",
       "text": [
        "Skipping SRN, due to only have 1/41 years of data\n",
        "0397/2195  "
       ]
      },
      {
       "output_type": "stream",
       "stream": "stdout",
       "text": [
        "Skipping SRQ, due to only have 14/41 years of data\n",
        "0398/2195  "
       ]
      },
      {
       "output_type": "stream",
       "stream": "stdout",
       "text": [
        "Skipping TDO, due to only have 0/41 years of data\n",
        "0401/2195  "
       ]
      },
      {
       "output_type": "stream",
       "stream": "stdout",
       "text": [
        "Skipping TDZ, due to only have 15/41 years of data\n",
        "0403/2195  "
       ]
      },
      {
       "output_type": "stream",
       "stream": "stdout",
       "text": [
        "Skipping NMM, due to only have 32/41 years of data\n",
        "0408/2195  "
       ]
      },
      {
       "output_type": "stream",
       "stream": "stdout",
       "text": [
        "Skipping CVS, due to only have 33/41 years of data\n",
        "0409/2195  "
       ]
      },
      {
       "output_type": "stream",
       "stream": "stdout",
       "text": [
        "Skipping LOL, due to only have 32/41 years of data\n",
        "0412/2195  "
       ]
      },
      {
       "output_type": "stream",
       "stream": "stdout",
       "text": [
        "Skipping CVO, due to only have 19/41 years of data\n",
        "0413/2195  "
       ]
      },
      {
       "output_type": "stream",
       "stream": "stdout",
       "text": [
        "CVH CA_ASOS => 48.33\n",
        "0414/2195  "
       ]
      },
      {
       "output_type": "stream",
       "stream": "stdout",
       "text": [
        "LOU KY_ASOS => 50.43\n",
        "0415/2195  "
       ]
      },
      {
       "output_type": "stream",
       "stream": "stdout",
       "text": [
        "Skipping FHU, due to only have 7/41 years of data\n",
        "0416/2195  "
       ]
      },
      {
       "output_type": "stream",
       "stream": "stdout",
       "text": [
        "CVG KY_ASOS => 46.79\n",
        "0421/2195  "
       ]
      },
      {
       "output_type": "stream",
       "stream": "stdout",
       "text": [
        "ELM NY_ASOS => 43.83\n",
        "0422/2195  "
       ]
      },
      {
       "output_type": "stream",
       "stream": "stdout",
       "text": [
        "HPN NY_ASOS => 47.85\n",
        "0426/2195  "
       ]
      },
      {
       "output_type": "stream",
       "stream": "stdout",
       "text": [
        "Skipping DRT, due to only have 28/41 years of data\n",
        "0430/2195  "
       ]
      },
      {
       "output_type": "stream",
       "stream": "stdout",
       "text": [
        "Skipping DRO, due to only have 16/41 years of data\n",
        "0433/2195  "
       ]
      },
      {
       "output_type": "stream",
       "stream": "stdout",
       "text": [
        "Skipping IOW, due to only have 17/41 years of data\n",
        "0434/2195  "
       ]
      },
      {
       "output_type": "stream",
       "stream": "stdout",
       "text": [
        "UIL WA_ASOS => 55.39\n",
        "0445/2195  "
       ]
      },
      {
       "output_type": "stream",
       "stream": "stdout",
       "text": [
        "Skipping CXY, due to only have 32/41 years of data\n",
        "0448/2195  "
       ]
      },
      {
       "output_type": "stream",
       "stream": "stdout",
       "text": [
        "Skipping CXL, due to only have 30/41 years of data\n",
        "0450/2195  "
       ]
      },
      {
       "output_type": "stream",
       "stream": "stdout",
       "text": [
        "MLC OK_ASOS => 51.19\n",
        "0457/2195  "
       ]
      },
      {
       "output_type": "stream",
       "stream": "stdout",
       "text": [
        "Skipping PTK, due to only have 14/41 years of data\n",
        "0459/2195  "
       ]
      },
      {
       "output_type": "stream",
       "stream": "stdout",
       "text": [
        "SCK CA_ASOS => 48.62\n",
        "0461/2195  "
       ]
      },
      {
       "output_type": "stream",
       "stream": "stdout",
       "text": [
        "Skipping JMS, due to only have 33/41 years of data\n",
        "0466/2195  "
       ]
      },
      {
       "output_type": "stream",
       "stream": "stdout",
       "text": [
        "Skipping MNM, due to only have 19/41 years of data\n",
        "0475/2195  "
       ]
      },
      {
       "output_type": "stream",
       "stream": "stdout",
       "text": [
        "Skipping PBG, due to only have 28/41 years of data\n",
        "0476/2195  "
       ]
      },
      {
       "output_type": "stream",
       "stream": "stdout",
       "text": [
        "Skipping PBF, due to only have 25/41 years of data\n",
        "0479/2195  "
       ]
      },
      {
       "output_type": "stream",
       "stream": "stdout",
       "text": [
        "PBI FL_ASOS => 27.04\n",
        "0481/2195  "
       ]
      },
      {
       "output_type": "stream",
       "stream": "stdout",
       "text": [
        "Skipping AVX, due to only have 13/41 years of data\n",
        "0483/2195  "
       ]
      },
      {
       "output_type": "stream",
       "stream": "stdout",
       "text": [
        "AVP PA_ASOS => 46.55\n",
        "0484/2195  "
       ]
      },
      {
       "output_type": "stream",
       "stream": "stdout",
       "text": [
        "Skipping MPV, due to only have 35/41 years of data\n",
        "0491/2195  "
       ]
      },
      {
       "output_type": "stream",
       "stream": "stdout",
       "text": [
        "Skipping SUN, due to only have 7/41 years of data\n",
        "0492/2195  "
       ]
      },
      {
       "output_type": "stream",
       "stream": "stdout",
       "text": [
        "MLU LA_ASOS => 45.58\n",
        "0494/2195  "
       ]
      },
      {
       "output_type": "stream",
       "stream": "stdout",
       "text": [
        "SUU CA_ASOS => 50.59\n",
        "0496/2195  "
       ]
      },
      {
       "output_type": "stream",
       "stream": "stdout",
       "text": [
        "Skipping SUS, due to only have 32/41 years of data\n",
        "0497/2195  "
       ]
      },
      {
       "output_type": "stream",
       "stream": "stdout",
       "text": [
        "SUX IA_ASOS => 64.44\n",
        "0498/2195  "
       ]
      },
      {
       "output_type": "stream",
       "stream": "stdout",
       "text": [
        "Skipping DHT, due to only have 32/41 years of data\n",
        "0499/2195  "
       ]
      },
      {
       "output_type": "stream",
       "stream": "stdout",
       "text": [
        "TEB NJ_ASOS => 47.68\n",
        "0504/2195  "
       ]
      },
      {
       "output_type": "stream",
       "stream": "stdout",
       "text": [
        "NBC SC_ASOS => 32.24\n",
        "0505/2195  "
       ]
      },
      {
       "output_type": "stream",
       "stream": "stdout",
       "text": [
        "SLC UT_ASOS => 49.65\n",
        "0506/2195  "
       ]
      },
      {
       "output_type": "stream",
       "stream": "stdout",
       "text": [
        "Skipping NBG, due to only have 33/41 years of data\n",
        "0518/2195  "
       ]
      },
      {
       "output_type": "stream",
       "stream": "stdout",
       "text": [
        "Skipping ADM, due to only have 7/41 years of data\n",
        "0520/2195  "
       ]
      },
      {
       "output_type": "stream",
       "stream": "stdout",
       "text": [
        "Skipping BRX, due to only have 2/41 years of data\n",
        "0521/2195  "
       ]
      },
      {
       "output_type": "stream",
       "stream": "stdout",
       "text": [
        "BRO TX_ASOS => 33.94\n",
        "0522/2195  "
       ]
      },
      {
       "output_type": "stream",
       "stream": "stdout",
       "text": [
        "BRL IA_ASOS => 59.19\n",
        "0523/2195  "
       ]
      },
      {
       "output_type": "stream",
       "stream": "stdout",
       "text": [
        "Skipping BRD, due to only have 9/41 years of data\n",
        "0526/2195  "
       ]
      },
      {
       "output_type": "stream",
       "stream": "stdout",
       "text": [
        "Skipping TWF, due to only have 15/41 years of data\n",
        "0527/2195  "
       ]
      },
      {
       "output_type": "stream",
       "stream": "stdout",
       "text": [
        "Skipping U31, due to only have 0/41 years of data\n",
        "0528/2195  "
       ]
      },
      {
       "output_type": "stream",
       "stream": "stdout",
       "text": [
        "ATL GA_ASOS => 39.02\n",
        "0533/2195  "
       ]
      },
      {
       "output_type": "stream",
       "stream": "stdout",
       "text": [
        "Skipping HQM, due to only have 13/41 years of data\n",
        "0537/2195  "
       ]
      },
      {
       "output_type": "stream",
       "stream": "stdout",
       "text": [
        "RKS WY_ASOS => 32.15\n",
        "0540/2195  "
       ]
      },
      {
       "output_type": "stream",
       "stream": "stdout",
       "text": [
        "Skipping EAR, due to only have 14/41 years of data\n",
        "0541/2195  "
       ]
      },
      {
       "output_type": "stream",
       "stream": "stdout",
       "text": [
        "EAU WI_ASOS => 45.77\n",
        "0542/2195  "
       ]
      },
      {
       "output_type": "stream",
       "stream": "stdout",
       "text": [
        "EAT WA_ASOS => 53.95\n",
        "0545/2195  "
       ]
      },
      {
       "output_type": "stream",
       "stream": "stdout",
       "text": [
        "Skipping HOB, due to only have 6/41 years of data\n",
        "0546/2195  "
       ]
      },
      {
       "output_type": "stream",
       "stream": "stdout",
       "text": [
        "HON SD_ASOS => 63.56\n",
        "0548/2195  "
       ]
      },
      {
       "output_type": "stream",
       "stream": "stdout",
       "text": [
        "Skipping ESF, due to only have 22/41 years of data\n",
        "0549/2195  "
       ]
      },
      {
       "output_type": "stream",
       "stream": "stdout",
       "text": [
        "Skipping HOT, due to only have 13/41 years of data\n",
        "0550/2195  "
       ]
      },
      {
       "output_type": "stream",
       "stream": "stdout",
       "text": [
        "HOU TX_ASOS => 32.45\n",
        "0551/2195  "
       ]
      },
      {
       "output_type": "stream",
       "stream": "stdout",
       "text": [
        "Skipping ESC, due to only have 19/41 years of data\n",
        "0552/2195  "
       ]
      },
      {
       "output_type": "stream",
       "stream": "stdout",
       "text": [
        "HOP KY_ASOS => 54.05\n",
        "0553/2195  "
       ]
      },
      {
       "output_type": "stream",
       "stream": "stdout",
       "text": [
        "Skipping KLS, due to only have 20/41 years of data\n",
        "0555/2195  "
       ]
      },
      {
       "output_type": "stream",
       "stream": "stdout",
       "text": [
        "Skipping SCH, due to only have 0/41 years of data\n",
        "0571/2195  "
       ]
      },
      {
       "output_type": "stream",
       "stream": "stdout",
       "text": [
        "Skipping FIR, due to only have 2/41 years of data\n",
        "0576/2195  "
       ]
      },
      {
       "output_type": "stream",
       "stream": "stdout",
       "text": [
        "Skipping VAD, due to only have 32/41 years of data\n",
        "0577/2195  "
       ]
      },
      {
       "output_type": "stream",
       "stream": "stdout",
       "text": [
        "Skipping LHW, due to only have 8/41 years of data\n",
        "0583/2195  "
       ]
      },
      {
       "output_type": "stream",
       "stream": "stdout",
       "text": [
        "Skipping CNU, due to only have 23/41 years of data\n",
        "0584/2195  "
       ]
      },
      {
       "output_type": "stream",
       "stream": "stdout",
       "text": [
        "Skipping LHX, due to only have 26/41 years of data\n",
        "0589/2195  "
       ]
      },
      {
       "output_type": "stream",
       "stream": "stdout",
       "text": [
        "CMH OH_ASOS => 49.80\n",
        "0592/2195  "
       ]
      },
      {
       "output_type": "stream",
       "stream": "stdout",
       "text": [
        "Skipping CMA, due to only have 21/41 years of data\n",
        "0599/2195  "
       ]
      },
      {
       "output_type": "stream",
       "stream": "stdout",
       "text": [
        "Skipping DSV, due to only have 13/41 years of data\n",
        "0602/2195  "
       ]
      },
      {
       "output_type": "stream",
       "stream": "stdout",
       "text": [
        "DSM IA_ASOS => 57.58\n",
        "0604/2195  "
       ]
      },
      {
       "output_type": "stream",
       "stream": "stdout",
       "text": [
        "Skipping RWF, due to only have 34/41 years of data\n",
        "0606/2195  "
       ]
      },
      {
       "output_type": "stream",
       "stream": "stdout",
       "text": [
        "Skipping INT, due to only have 31/41 years of data\n",
        "0607/2195  "
       ]
      },
      {
       "output_type": "stream",
       "stream": "stdout",
       "text": [
        "Skipping RWI, due to only have 15/41 years of data\n",
        "0609/2195  "
       ]
      },
      {
       "output_type": "stream",
       "stream": "stdout",
       "text": [
        "Skipping RWL, due to only have 21/41 years of data\n",
        "0610/2195  "
       ]
      },
      {
       "output_type": "stream",
       "stream": "stdout",
       "text": [
        "Skipping INS, due to only have 4/41 years of data\n",
        "0611/2195  "
       ]
      },
      {
       "output_type": "stream",
       "stream": "stdout",
       "text": [
        "INL MN_ASOS => 52.18\n",
        "0612/2195  "
       ]
      },
      {
       "output_type": "stream",
       "stream": "stdout",
       "text": [
        "OKC OK_ASOS => 59.63\n",
        "0615/2195  "
       ]
      },
      {
       "output_type": "stream",
       "stream": "stdout",
       "text": [
        "Skipping INK, due to only have 33/41 years of data\n",
        "0616/2195  "
       ]
      },
      {
       "output_type": "stream",
       "stream": "stdout",
       "text": [
        "IND IN_ASOS => 51.41\n",
        "0620/2195  "
       ]
      },
      {
       "output_type": "stream",
       "stream": "stdout",
       "text": [
        "Skipping GLH, due to only have 12/41 years of data\n",
        "0621/2195  "
       ]
      },
      {
       "output_type": "stream",
       "stream": "stdout",
       "text": [
        "Skipping AKR, due to only have 12/41 years of data\n",
        "0623/2195  "
       ]
      },
      {
       "output_type": "stream",
       "stream": "stdout",
       "text": [
        "GLD KS_ASOS => 63.71\n",
        "0627/2195  "
       ]
      },
      {
       "output_type": "stream",
       "stream": "stdout",
       "text": [
        "Skipping AKO, due to only have 31/41 years of data\n",
        "0629/2195  "
       ]
      },
      {
       "output_type": "stream",
       "stream": "stdout",
       "text": [
        "Skipping GLS, due to only have 32/41 years of data\n",
        "0630/2195  "
       ]
      },
      {
       "output_type": "stream",
       "stream": "stdout",
       "text": [
        "DOV DE_ASOS => 42.85\n",
        "0633/2195  "
       ]
      },
      {
       "output_type": "stream",
       "stream": "stdout",
       "text": [
        "Skipping HSP, due to only have 18/41 years of data\n",
        "0637/2195  "
       ]
      },
      {
       "output_type": "stream",
       "stream": "stdout",
       "text": [
        "AUG ME_ASOS => 42.94\n",
        "0644/2195  "
       ]
      },
      {
       "output_type": "stream",
       "stream": "stdout",
       "text": [
        "AUW WI_ASOS => 54.54\n",
        "0650/2195  "
       ]
      },
      {
       "output_type": "stream",
       "stream": "stdout",
       "text": [
        "Skipping MMT, due to only have 7/41 years of data\n",
        "0651/2195  "
       ]
      },
      {
       "output_type": "stream",
       "stream": "stdout",
       "text": [
        "SBY MD_ASOS => 51.76\n",
        "0652/2195  "
       ]
      },
      {
       "output_type": "stream",
       "stream": "stdout",
       "text": [
        "Skipping PUB, due to only have 35/41 years of data\n",
        "0653/2195  "
       ]
      },
      {
       "output_type": "stream",
       "stream": "stdout",
       "text": [
        "Skipping PUC, due to only have 22/41 years of data\n",
        "0659/2195  "
       ]
      },
      {
       "output_type": "stream",
       "stream": "stdout",
       "text": [
        "Skipping PUW, due to only have 14/41 years of data\n",
        "0660/2195  "
       ]
      },
      {
       "output_type": "stream",
       "stream": "stdout",
       "text": [
        "SBN IN_ASOS => 50.62\n",
        "0665/2195  "
       ]
      },
      {
       "output_type": "stream",
       "stream": "stdout",
       "text": [
        "Skipping ERV, due to only have 11/41 years of data\n",
        "0671/2195  "
       ]
      },
      {
       "output_type": "stream",
       "stream": "stdout",
       "text": [
        "Skipping BAF, due to only have 14/41 years of data\n",
        "0672/2195  "
       ]
      },
      {
       "output_type": "stream",
       "stream": "stdout",
       "text": [
        "Skipping BAD, due to only have 34/41 years of data\n",
        "0673/2195  "
       ]
      },
      {
       "output_type": "stream",
       "stream": "stdout",
       "text": [
        "Skipping BAB, due to only have 30/41 years of data\n",
        "0676/2195  "
       ]
      },
      {
       "output_type": "stream",
       "stream": "stdout",
       "text": [
        "Skipping BAK, due to only have 0/41 years of data\n",
        "0677/2195  "
       ]
      },
      {
       "output_type": "stream",
       "stream": "stdout",
       "text": [
        "AVL NC_ASOS => 36.40\n",
        "0678/2195  "
       ]
      },
      {
       "output_type": "stream",
       "stream": "stdout",
       "text": [
        "VPS FL_ASOS => 30.91\n",
        "0683/2195  "
       ]
      },
      {
       "output_type": "stream",
       "stream": "stdout",
       "text": [
        "Skipping STC, due to only have 31/41 years of data\n",
        "0684/2195  "
       ]
      },
      {
       "output_type": "stream",
       "stream": "stdout",
       "text": [
        "STL MO_ASOS => 50.28\n",
        "0685/2195  "
       ]
      },
      {
       "output_type": "stream",
       "stream": "stdout",
       "text": [
        "Skipping STJ, due to only have 18/41 years of data\n",
        "0686/2195  "
       ]
      },
      {
       "output_type": "stream",
       "stream": "stdout",
       "text": [
        "Skipping STK, due to only have 31/41 years of data\n",
        "0688/2195  "
       ]
      },
      {
       "output_type": "stream",
       "stream": "stdout",
       "text": [
        "Skipping STS, due to only have 14/41 years of data\n",
        "0691/2195  "
       ]
      },
      {
       "output_type": "stream",
       "stream": "stdout",
       "text": [
        "Skipping JXN, due to only have 33/41 years of data\n",
        "0692/2195  "
       ]
      },
      {
       "output_type": "stream",
       "stream": "stdout",
       "text": [
        "NCA NC_ASOS => 30.58\n",
        "0694/2195  "
       ]
      },
      {
       "output_type": "stream",
       "stream": "stdout",
       "text": [
        "FNT MI_ASOS => 50.83\n",
        "0695/2195  "
       ]
      },
      {
       "output_type": "stream",
       "stream": "stdout",
       "text": [
        "Skipping LIC, due to only have 17/41 years of data\n",
        "0696/2195  "
       ]
      },
      {
       "output_type": "stream",
       "stream": "stdout",
       "text": [
        "LIT AR_ASOS => 46.91\n",
        "0703/2195  "
       ]
      },
      {
       "output_type": "stream",
       "stream": "stdout",
       "text": [
        "TPA FL_ASOS => 27.68\n",
        "0704/2195  "
       ]
      },
      {
       "output_type": "stream",
       "stream": "stdout",
       "text": [
        "Skipping HRT, due to only have 29/41 years of data\n",
        "0705/2195  "
       ]
      },
      {
       "output_type": "stream",
       "stream": "stdout",
       "text": [
        "Skipping TPL, due to only have 20/41 years of data\n",
        "0706/2195  "
       ]
      },
      {
       "output_type": "stream",
       "stream": "stdout",
       "text": [
        "Skipping TPH, due to only have 32/41 years of data\n",
        "0707/2195  "
       ]
      },
      {
       "output_type": "stream",
       "stream": "stdout",
       "text": [
        "Skipping HRL, due to only have 16/41 years of data\n",
        "0708/2195  "
       ]
      },
      {
       "output_type": "stream",
       "stream": "stdout",
       "text": [
        "Skipping HRO, due to only have 33/41 years of data\n",
        "0713/2195  "
       ]
      },
      {
       "output_type": "stream",
       "stream": "stdout",
       "text": [
        "Skipping RHI, due to only have 14/41 years of data\n",
        "0717/2195  "
       ]
      },
      {
       "output_type": "stream",
       "stream": "stdout",
       "text": [
        "Skipping RTN, due to only have 14/41 years of data\n",
        "0718/2195  "
       ]
      },
      {
       "output_type": "stream",
       "stream": "stdout",
       "text": [
        "Skipping OJC, due to only have 16/41 years of data\n",
        "0721/2195  "
       ]
      },
      {
       "output_type": "stream",
       "stream": "stdout",
       "text": [
        "Skipping END, due to only have 31/41 years of data\n",
        "0722/2195  "
       ]
      },
      {
       "output_type": "stream",
       "stream": "stdout",
       "text": [
        "Skipping BKE, due to only have 32/41 years of data\n",
        "0724/2195  "
       ]
      },
      {
       "output_type": "stream",
       "stream": "stdout",
       "text": [
        "Skipping OXR, due to only have 15/41 years of data\n",
        "0727/2195  "
       ]
      },
      {
       "output_type": "stream",
       "stream": "stdout",
       "text": [
        "Skipping ENV, due to only have 29/41 years of data\n",
        "0728/2195  "
       ]
      },
      {
       "output_type": "stream",
       "stream": "stdout",
       "text": [
        "RFD IL_ASOS => 63.39\n",
        "0731/2195  "
       ]
      },
      {
       "output_type": "stream",
       "stream": "stdout",
       "text": [
        "Skipping 79J, due to only have 7/41 years of data\n",
        "0734/2195  "
       ]
      },
      {
       "output_type": "stream",
       "stream": "stdout",
       "text": [
        "Skipping CZZ, due to only have 15/41 years of data\n",
        "0736/2195  "
       ]
      },
      {
       "output_type": "stream",
       "stream": "stdout",
       "text": [
        "Skipping CZK, due to only have 0/41 years of data\n",
        "0738/2195  "
       ]
      },
      {
       "output_type": "stream",
       "stream": "stdout",
       "text": [
        "Skipping CZD, due to only have 12/41 years of data\n",
        "0740/2195  "
       ]
      },
      {
       "output_type": "stream",
       "stream": "stdout",
       "text": [
        "ISP NY_ASOS => 45.63\n",
        "0743/2195  "
       ]
      },
      {
       "output_type": "stream",
       "stream": "stdout",
       "text": [
        "Skipping ATT, due to only have 36/41 years of data\n",
        "0744/2195  "
       ]
      },
      {
       "output_type": "stream",
       "stream": "stdout",
       "text": [
        "Skipping ISO, due to only have 8/41 years of data\n",
        "0745/2195  "
       ]
      },
      {
       "output_type": "stream",
       "stream": "stdout",
       "text": [
        "ISN ND_ASOS => 62.66\n",
        "0747/2195  "
       ]
      },
      {
       "output_type": "stream",
       "stream": "stdout",
       "text": [
        "Skipping ATY, due to only have 25/41 years of data\n",
        "0750/2195  "
       ]
      },
      {
       "output_type": "stream",
       "stream": "stdout",
       "text": [
        "Skipping PVW, due to only have 10/41 years of data\n",
        "0754/2195  "
       ]
      },
      {
       "output_type": "stream",
       "stream": "stdout",
       "text": [
        "Skipping SEG, due to only have 15/41 years of data\n",
        "0758/2195  "
       ]
      },
      {
       "output_type": "stream",
       "stream": "stdout",
       "text": [
        "PVD RI_ASOS => 52.41\n",
        "0764/2195  "
       ]
      },
      {
       "output_type": "stream",
       "stream": "stdout",
       "text": [
        "Skipping CLL, due to only have 35/41 years of data\n",
        "0765/2195  "
       ]
      },
      {
       "output_type": "stream",
       "stream": "stdout",
       "text": [
        "Skipping 3DU, due to only have 0/41 years of data\n",
        "0768/2195  "
       ]
      },
      {
       "output_type": "stream",
       "stream": "stdout",
       "text": [
        "PDX OR_ASOS => 44.41\n",
        "0769/2195  "
       ]
      },
      {
       "output_type": "stream",
       "stream": "stdout",
       "text": [
        "CLE OH_ASOS => 48.87\n",
        "0770/2195  "
       ]
      },
      {
       "output_type": "stream",
       "stream": "stdout",
       "text": [
        "Skipping FRI, due to only have 25/41 years of data\n",
        "0771/2195  "
       ]
      },
      {
       "output_type": "stream",
       "stream": "stdout",
       "text": [
        "PDT OR_ASOS => 46.52\n",
        "0773/2195  "
       ]
      },
      {
       "output_type": "stream",
       "stream": "stdout",
       "text": [
        "Skipping IML, due to only have 9/41 years of data\n",
        "0774/2195  "
       ]
      },
      {
       "output_type": "stream",
       "stream": "stdout",
       "text": [
        "Skipping FRM, due to only have 20/41 years of data\n",
        "0776/2195  "
       ]
      },
      {
       "output_type": "stream",
       "stream": "stdout",
       "text": [
        "Skipping IMT, due to only have 14/41 years of data\n",
        "0777/2195  "
       ]
      },
      {
       "output_type": "stream",
       "stream": "stdout",
       "text": [
        "CLT NC_ASOS => 48.34\n",
        "0783/2195  "
       ]
      },
      {
       "output_type": "stream",
       "stream": "stdout",
       "text": [
        "PNS FL_ASOS => 25.87\n",
        "0787/2195  "
       ]
      },
      {
       "output_type": "stream",
       "stream": "stdout",
       "text": [
        "ADW MD_ASOS => 40.95\n",
        "0788/2195  "
       ]
      },
      {
       "output_type": "stream",
       "stream": "stdout",
       "text": [
        "Skipping BPI, due to only have 35/41 years of data\n",
        "0790/2195  "
       ]
      },
      {
       "output_type": "stream",
       "stream": "stdout",
       "text": [
        "Skipping SWF, due to only have 12/41 years of data\n",
        "0792/2195  "
       ]
      },
      {
       "output_type": "stream",
       "stream": "stdout",
       "text": [
        "BPT TX_ASOS => 34.25\n",
        "0803/2195  "
       ]
      },
      {
       "output_type": "stream",
       "stream": "stdout",
       "text": [
        "Skipping GYH, due to only have 4/41 years of data\n",
        "0804/2195  "
       ]
      },
      {
       "output_type": "stream",
       "stream": "stdout",
       "text": [
        "Skipping GYR, due to only have 0/41 years of data\n",
        "0806/2195  "
       ]
      },
      {
       "output_type": "stream",
       "stream": "stdout",
       "text": [
        "MLB FL_ASOS => 25.15\n",
        "0807/2195  "
       ]
      },
      {
       "output_type": "stream",
       "stream": "stdout",
       "text": [
        "DHN AL_ASOS => 24.79\n",
        "0809/2195  "
       ]
      },
      {
       "output_type": "stream",
       "stream": "stdout",
       "text": [
        "Skipping GON, due to only have 13/41 years of data\n",
        "0810/2195  "
       ]
      },
      {
       "output_type": "stream",
       "stream": "stdout",
       "text": [
        "Skipping MLF, due to only have 23/41 years of data\n",
        "0814/2195  "
       ]
      },
      {
       "output_type": "stream",
       "stream": "stdout",
       "text": [
        "MLI IL_ASOS => 55.96\n",
        "0815/2195  "
       ]
      },
      {
       "output_type": "stream",
       "stream": "stdout",
       "text": [
        "MLS MT_ASOS => 56.79\n",
        "0816/2195  "
       ]
      },
      {
       "output_type": "stream",
       "stream": "stdout",
       "text": [
        "Skipping MLP, due to only have 16/41 years of data\n",
        "0818/2195  "
       ]
      },
      {
       "output_type": "stream",
       "stream": "stdout",
       "text": [
        "Skipping MLT, due to only have 17/41 years of data\n",
        "0824/2195  "
       ]
      },
      {
       "output_type": "stream",
       "stream": "stdout",
       "text": [
        "Skipping NRN, due to only have 12/41 years of data\n",
        "0825/2195  "
       ]
      },
      {
       "output_type": "stream",
       "stream": "stdout",
       "text": [
        "Skipping NRB, due to only have 20/41 years of data\n",
        "0827/2195  "
       ]
      },
      {
       "output_type": "stream",
       "stream": "stdout",
       "text": [
        "Skipping NRS, due to only have 4/41 years of data\n",
        "0829/2195  "
       ]
      },
      {
       "output_type": "stream",
       "stream": "stdout",
       "text": [
        "Skipping JHW, due to only have 18/41 years of data\n",
        "0834/2195  "
       ]
      },
      {
       "output_type": "stream",
       "stream": "stdout",
       "text": [
        "HSE NC_ASOS => 53.64\n",
        "0835/2195  "
       ]
      },
      {
       "output_type": "stream",
       "stream": "stdout",
       "text": [
        "RIV CA_ASOS => 28.69\n",
        "0836/2195  "
       ]
      },
      {
       "output_type": "stream",
       "stream": "stdout",
       "text": [
        "Skipping RIW, due to only have 17/41 years of data\n",
        "0837/2195  "
       ]
      },
      {
       "output_type": "stream",
       "stream": "stdout",
       "text": [
        "Skipping HSI, due to only have 13/41 years of data\n",
        "0840/2195  "
       ]
      },
      {
       "output_type": "stream",
       "stream": "stdout",
       "text": [
        "HSV AL_ASOS => 39.74\n",
        "0841/2195  "
       ]
      },
      {
       "output_type": "stream",
       "stream": "stdout",
       "text": [
        "Skipping GMU, due to only have 13/41 years of data\n",
        "0842/2195  "
       ]
      },
      {
       "output_type": "stream",
       "stream": "stdout",
       "text": [
        "Skipping HST, due to only have 36/41 years of data\n",
        "0843/2195  "
       ]
      },
      {
       "output_type": "stream",
       "stream": "stdout",
       "text": [
        "RIC VA_ASOS => 46.62\n",
        "0850/2195  "
       ]
      },
      {
       "output_type": "stream",
       "stream": "stdout",
       "text": [
        "Skipping BNO, due to only have 31/41 years of data\n",
        "0852/2195  "
       ]
      },
      {
       "output_type": "stream",
       "stream": "stdout",
       "text": [
        "BNA TN_ASOS => 44.41\n",
        "0853/2195  "
       ]
      },
      {
       "output_type": "stream",
       "stream": "stdout",
       "text": [
        "Skipping LXV, due to only have 14/41 years of data\n",
        "0855/2195  "
       ]
      },
      {
       "output_type": "stream",
       "stream": "stdout",
       "text": [
        "Skipping SYF, due to only have 31/41 years of data\n",
        "0860/2195  "
       ]
      },
      {
       "output_type": "stream",
       "stream": "stdout",
       "text": [
        "SYR NY_ASOS => 45.00\n",
        "0862/2195  "
       ]
      },
      {
       "output_type": "stream",
       "stream": "stdout",
       "text": [
        "Skipping NTD, due to only have 28/41 years of data\n",
        "0863/2195  "
       ]
      },
      {
       "output_type": "stream",
       "stream": "stdout",
       "text": [
        "Skipping 1V4, due to only have 16/41 years of data\n",
        "0864/2195  "
       ]
      },
      {
       "output_type": "stream",
       "stream": "stdout",
       "text": [
        "Skipping LXN, due to only have 11/41 years of data\n",
        "0871/2195  "
       ]
      },
      {
       "output_type": "stream",
       "stream": "stdout",
       "text": [
        "Skipping EMP, due to only have 20/41 years of data\n",
        "0876/2195  "
       ]
      },
      {
       "output_type": "stream",
       "stream": "stdout",
       "text": [
        "Skipping MER, due to only have 23/41 years of data\n",
        "0880/2195  "
       ]
      },
      {
       "output_type": "stream",
       "stream": "stdout",
       "text": [
        "Skipping FOE, due to only have 30/41 years of data\n",
        "0881/2195  "
       ]
      },
      {
       "output_type": "stream",
       "stream": "stdout",
       "text": [
        "YKM WA_ASOS => 52.59\n",
        "0883/2195  "
       ]
      },
      {
       "output_type": "stream",
       "stream": "stdout",
       "text": [
        "Skipping FOK, due to only have 13/41 years of data\n",
        "0889/2195  "
       ]
      },
      {
       "output_type": "stream",
       "stream": "stdout",
       "text": [
        "ILG DE_ASOS => 47.63\n",
        "0890/2195  "
       ]
      },
      {
       "output_type": "stream",
       "stream": "stdout",
       "text": [
        "COS CO_ASOS => 35.64\n",
        "0891/2195  "
       ]
      },
      {
       "output_type": "stream",
       "stream": "stdout",
       "text": [
        "Skipping ILE, due to only have 19/41 years of data\n",
        "0893/2195  "
       ]
      },
      {
       "output_type": "stream",
       "stream": "stdout",
       "text": [
        "Skipping COT, due to only have 26/41 years of data\n",
        "0895/2195  "
       ]
      },
      {
       "output_type": "stream",
       "stream": "stdout",
       "text": [
        "Skipping ILN, due to only have 14/41 years of data\n",
        "0896/2195  "
       ]
      },
      {
       "output_type": "stream",
       "stream": "stdout",
       "text": [
        "Skipping FSI, due to only have 32/41 years of data\n",
        "0898/2195  "
       ]
      },
      {
       "output_type": "stream",
       "stream": "stdout",
       "text": [
        "ILM NC_ASOS => 39.71\n",
        "0899/2195  "
       ]
      },
      {
       "output_type": "stream",
       "stream": "stdout",
       "text": [
        "FSM AR_ASOS => 48.86\n",
        "0903/2195  "
       ]
      },
      {
       "output_type": "stream",
       "stream": "stdout",
       "text": [
        "Skipping COD, due to only have 32/41 years of data\n",
        "0904/2195  "
       ]
      },
      {
       "output_type": "stream",
       "stream": "stdout",
       "text": [
        "Skipping COF, due to only have 8/41 years of data\n",
        "0906/2195  "
       ]
      },
      {
       "output_type": "stream",
       "stream": "stdout",
       "text": [
        "CON NH_ASOS => 46.24\n",
        "0908/2195  "
       ]
      },
      {
       "output_type": "stream",
       "stream": "stdout",
       "text": [
        "Skipping WAL, due to only have 16/41 years of data\n",
        "0912/2195  "
       ]
      },
      {
       "output_type": "stream",
       "stream": "stdout",
       "text": [
        "Skipping PRX, due to only have 17/41 years of data\n",
        "0917/2195  "
       ]
      },
      {
       "output_type": "stream",
       "stream": "stdout",
       "text": [
        "Skipping RUT, due to only have 20/41 years of data\n",
        "0918/2195  "
       ]
      },
      {
       "output_type": "stream",
       "stream": "stdout",
       "text": [
        "MKG MI_ASOS => 58.17\n",
        "0920/2195  "
       ]
      },
      {
       "output_type": "stream",
       "stream": "stdout",
       "text": [
        "MKE WI_ASOS => 55.76\n",
        "0921/2195  "
       ]
      },
      {
       "output_type": "stream",
       "stream": "stdout",
       "text": [
        "GNV FL_ASOS => 28.37\n",
        "0922/2195  "
       ]
      },
      {
       "output_type": "stream",
       "stream": "stdout",
       "text": [
        "Skipping GNT, due to only have 15/41 years of data\n",
        "0923/2195  "
       ]
      },
      {
       "output_type": "stream",
       "stream": "stdout",
       "text": [
        "Skipping DIK, due to only have 33/41 years of data\n",
        "0924/2195  "
       ]
      },
      {
       "output_type": "stream",
       "stream": "stdout",
       "text": [
        "Skipping MKO, due to only have 16/41 years of data\n",
        "0926/2195  "
       ]
      },
      {
       "output_type": "stream",
       "stream": "stdout",
       "text": [
        "MKL TN_ASOS => 53.56\n",
        "0931/2195  "
       ]
      },
      {
       "output_type": "stream",
       "stream": "stdout",
       "text": [
        "Skipping MKT, due to only have 18/41 years of data\n",
        "0936/2195  "
       ]
      },
      {
       "output_type": "stream",
       "stream": "stdout",
       "text": [
        "Skipping AIA, due to only have 16/41 years of data\n",
        "0939/2195  "
       ]
      },
      {
       "output_type": "stream",
       "stream": "stdout",
       "text": [
        "Skipping NSI, due to only have 6/41 years of data\n",
        "0941/2195  "
       ]
      },
      {
       "output_type": "stream",
       "stream": "stdout",
       "text": [
        "Skipping NSE, due to only have 32/41 years of data\n",
        "0948/2195  "
       ]
      },
      {
       "output_type": "stream",
       "stream": "stdout",
       "text": [
        "Skipping IRK, due to only have 14/41 years of data\n",
        "0950/2195  "
       ]
      },
      {
       "output_type": "stream",
       "stream": "stdout",
       "text": [
        "Skipping PWT, due to only have 21/41 years of data\n",
        "0952/2195  "
       ]
      },
      {
       "output_type": "stream",
       "stream": "stdout",
       "text": [
        "Skipping SDY, due to only have 20/41 years of data\n",
        "0953/2195  "
       ]
      },
      {
       "output_type": "stream",
       "stream": "stdout",
       "text": [
        "Skipping T62, due to only have 0/41 years of data\n",
        "0955/2195  "
       ]
      },
      {
       "output_type": "stream",
       "stream": "stdout",
       "text": [
        "SDF KY_ASOS => 48.03\n",
        "0957/2195  "
       ]
      },
      {
       "output_type": "stream",
       "stream": "stdout",
       "text": [
        "Skipping SDB, due to only have 29/41 years of data\n",
        "0960/2195  "
       ]
      },
      {
       "output_type": "stream",
       "stream": "stdout",
       "text": [
        "Skipping SDM, due to only have 16/41 years of data\n",
        "0964/2195  "
       ]
      },
      {
       "output_type": "stream",
       "stream": "stdout",
       "text": [
        "Skipping NAK, due to only have 11/41 years of data\n",
        "0965/2195  "
       ]
      },
      {
       "output_type": "stream",
       "stream": "stdout",
       "text": [
        "Skipping HBG, due to only have 13/41 years of data\n",
        "0966/2195  "
       ]
      },
      {
       "output_type": "stream",
       "stream": "stdout",
       "text": [
        "BOS MA_ASOS => 46.23\n",
        "0967/2195  "
       ]
      },
      {
       "output_type": "stream",
       "stream": "stdout",
       "text": [
        "Skipping BOW, due to only have 4/41 years of data\n",
        "0968/2195  "
       ]
      },
      {
       "output_type": "stream",
       "stream": "stdout",
       "text": [
        "BOI ID_ASOS => 56.67\n",
        "0970/2195  "
       ]
      },
      {
       "output_type": "stream",
       "stream": "stdout",
       "text": [
        "Skipping EPH, due to only have 13/41 years of data\n",
        "0974/2195  "
       ]
      },
      {
       "output_type": "stream",
       "stream": "stdout",
       "text": [
        "Skipping HBR, due to only have 34/41 years of data\n",
        "0978/2195  "
       ]
      },
      {
       "output_type": "stream",
       "stream": "stdout",
       "text": [
        "SXT OR_ASOS => 44.58\n",
        "0981/2195  "
       ]
      },
      {
       "output_type": "stream",
       "stream": "stdout",
       "text": [
        "Skipping LYH, due to only have 29/41 years of data\n",
        "0982/2195  "
       ]
      },
      {
       "output_type": "stream",
       "stream": "stdout",
       "text": [
        "Skipping SVN, due to only have 34/41 years of data\n",
        "0987/2195  "
       ]
      },
      {
       "output_type": "stream",
       "stream": "stdout",
       "text": [
        "Skipping BQK, due to only have 15/41 years of data\n",
        "0991/2195  "
       ]
      },
      {
       "output_type": "stream",
       "stream": "stdout",
       "text": [
        "Skipping JVL, due to only have 10/41 years of data\n",
        "1000/2195  "
       ]
      },
      {
       "output_type": "stream",
       "stream": "stdout",
       "text": [
        "Skipping FLP, due to only have 15/41 years of data\n",
        "1001/2195  "
       ]
      },
      {
       "output_type": "stream",
       "stream": "stdout",
       "text": [
        "Skipping FLV, due to only have 36/41 years of data\n",
        "1003/2195  "
       ]
      },
      {
       "output_type": "stream",
       "stream": "stdout",
       "text": [
        "Skipping FLL, due to only have 31/41 years of data\n",
        "1004/2195  "
       ]
      },
      {
       "output_type": "stream",
       "stream": "stdout",
       "text": [
        "FLO SC_ASOS => 42.00\n",
        "1010/2195  "
       ]
      },
      {
       "output_type": "stream",
       "stream": "stdout",
       "text": [
        "FLG AZ_ASOS => 17.56\n",
        "1011/2195  "
       ]
      },
      {
       "output_type": "stream",
       "stream": "stdout",
       "text": [
        "MCB MS_ASOS => 25.11\n",
        "1014/2195  "
       ]
      },
      {
       "output_type": "stream",
       "stream": "stdout",
       "text": [
        "TRI TN_ASOS => 43.19\n",
        "1015/2195  "
       ]
      },
      {
       "output_type": "stream",
       "stream": "stdout",
       "text": [
        "Skipping TRK, due to only have 11/41 years of data\n",
        "1016/2195  "
       ]
      },
      {
       "output_type": "stream",
       "stream": "stdout",
       "text": [
        "Skipping TRM, due to only have 32/41 years of data\n",
        "1018/2195  "
       ]
      },
      {
       "output_type": "stream",
       "stream": "stdout",
       "text": [
        "OLD ME_ASOS => 44.75\n",
        "1020/2195  "
       ]
      },
      {
       "output_type": "stream",
       "stream": "stdout",
       "text": [
        "FSD SD_ASOS => 62.63\n",
        "1022/2195  "
       ]
      },
      {
       "output_type": "stream",
       "stream": "stdout",
       "text": [
        "Skipping HTL, due to only have 32/41 years of data\n",
        "1023/2195  "
       ]
      },
      {
       "output_type": "stream",
       "stream": "stdout",
       "text": [
        "HTS WV_ASOS => 41.37\n",
        "1032/2195  "
       ]
      },
      {
       "output_type": "stream",
       "stream": "stdout",
       "text": [
        "Skipping ELN, due to only have 14/41 years of data\n",
        "1034/2195  "
       ]
      },
      {
       "output_type": "stream",
       "stream": "stdout",
       "text": [
        "Skipping RDR, due to only have 36/41 years of data\n",
        "1035/2195  "
       ]
      },
      {
       "output_type": "stream",
       "stream": "stdout",
       "text": [
        "Skipping ELD, due to only have 31/41 years of data\n",
        "1037/2195  "
       ]
      },
      {
       "output_type": "stream",
       "stream": "stdout",
       "text": [
        "Skipping RDD, due to only have 25/41 years of data\n",
        "1038/2195  "
       ]
      },
      {
       "output_type": "stream",
       "stream": "stdout",
       "text": [
        "Skipping RDG, due to only have 19/41 years of data\n",
        "1039/2195  "
       ]
      },
      {
       "output_type": "stream",
       "stream": "stdout",
       "text": [
        "ELY NV_ASOS => 36.93\n",
        "1041/2195  "
       ]
      },
      {
       "output_type": "stream",
       "stream": "stdout",
       "text": [
        "RDM OR_ASOS => 66.32\n",
        "1042/2195  "
       ]
      },
      {
       "output_type": "stream",
       "stream": "stdout",
       "text": [
        "ELP TX_ASOS => 53.97\n",
        "1045/2195  "
       ]
      },
      {
       "output_type": "stream",
       "stream": "stdout",
       "text": [
        "Skipping LEB, due to only have 33/41 years of data\n",
        "1048/2195  "
       ]
      },
      {
       "output_type": "stream",
       "stream": "stdout",
       "text": [
        "Skipping LEM, due to only have 12/41 years of data\n",
        "1050/2195  "
       ]
      },
      {
       "output_type": "stream",
       "stream": "stdout",
       "text": [
        "Skipping OZR, due to only have 36/41 years of data\n",
        "1052/2195  "
       ]
      },
      {
       "output_type": "stream",
       "stream": "stdout",
       "text": [
        "LEX KY_ASOS => 45.22\n",
        "1056/2195  "
       ]
      },
      {
       "output_type": "stream",
       "stream": "stdout",
       "text": [
        "Skipping AZO, due to only have 21/41 years of data\n",
        "1059/2195  "
       ]
      },
      {
       "output_type": "stream",
       "stream": "stdout",
       "text": [
        "Skipping HDO, due to only have 24/41 years of data\n",
        "1065/2195  "
       ]
      },
      {
       "output_type": "stream",
       "stream": "stdout",
       "text": [
        "Skipping SGH, due to only have 6/41 years of data\n",
        "1069/2195  "
       ]
      },
      {
       "output_type": "stream",
       "stream": "stdout",
       "text": [
        "SGF MO_ASOS => 53.43\n",
        "1070/2195  "
       ]
      },
      {
       "output_type": "stream",
       "stream": "stdout",
       "text": [
        "Skipping CNW, due to only have 0/41 years of data\n",
        "1073/2195  "
       ]
      },
      {
       "output_type": "stream",
       "stream": "stdout",
       "text": [
        "Skipping CNY, due to only have 14/41 years of data\n",
        "1078/2195  "
       ]
      },
      {
       "output_type": "stream",
       "stream": "stdout",
       "text": [
        "Skipping CNM, due to only have 35/41 years of data\n",
        "1079/2195  "
       ]
      },
      {
       "output_type": "stream",
       "stream": "stdout",
       "text": [
        "CNK KS_ASOS => 69.84\n",
        "1084/2195  "
       ]
      },
      {
       "output_type": "stream",
       "stream": "stdout",
       "text": [
        "Skipping DXR, due to only have 14/41 years of data\n",
        "1085/2195  "
       ]
      },
      {
       "output_type": "stream",
       "stream": "stdout",
       "text": [
        "Skipping PFN, due to only have 32/41 years of data\n",
        "1087/2195  "
       ]
      },
      {
       "output_type": "stream",
       "stream": "stdout",
       "text": [
        "Skipping SIY, due to only have 16/41 years of data\n",
        "1090/2195  "
       ]
      },
      {
       "output_type": "stream",
       "stream": "stdout",
       "text": [
        "Skipping YUM, due to only have 30/41 years of data\n",
        "1094/2195  "
       ]
      },
      {
       "output_type": "stream",
       "stream": "stdout",
       "text": [
        "Skipping NLC, due to only have 32/41 years of data\n",
        "1096/2195  "
       ]
      },
      {
       "output_type": "stream",
       "stream": "stdout",
       "text": [
        "TAD CO_ASOS => 18.00\n",
        "1098/2195  "
       ]
      },
      {
       "output_type": "stream",
       "stream": "stdout",
       "text": [
        "Skipping TAN, due to only have 13/41 years of data\n",
        "1099/2195  "
       ]
      },
      {
       "output_type": "stream",
       "stream": "stdout",
       "text": [
        "Skipping HMS, due to only have 9/41 years of data\n",
        "1105/2195  "
       ]
      },
      {
       "output_type": "stream",
       "stream": "stdout",
       "text": [
        "AHN GA_ASOS => 41.90\n",
        "1107/2195  "
       ]
      },
      {
       "output_type": "stream",
       "stream": "stdout",
       "text": [
        "Skipping GUC, due to only have 20/41 years of data\n",
        "1110/2195  "
       ]
      },
      {
       "output_type": "stream",
       "stream": "stdout",
       "text": [
        "Skipping GUS, due to only have 27/41 years of data\n",
        "1111/2195  "
       ]
      },
      {
       "output_type": "stream",
       "stream": "stdout",
       "text": [
        "GUP NM_ASOS => 27.80\n",
        "1115/2195  "
       ]
      },
      {
       "output_type": "stream",
       "stream": "stdout",
       "text": [
        "Skipping DLF, due to only have 32/41 years of data\n",
        "1116/2195  "
       ]
      },
      {
       "output_type": "stream",
       "stream": "stdout",
       "text": [
        "HUF IN_ASOS => 55.12\n",
        "1118/2195  "
       ]
      },
      {
       "output_type": "stream",
       "stream": "stdout",
       "text": [
        "Skipping HUL, due to only have 33/41 years of data\n",
        "1119/2195  "
       ]
      },
      {
       "output_type": "stream",
       "stream": "stdout",
       "text": [
        "Skipping HUM, due to only have 3/41 years of data\n",
        "1120/2195  "
       ]
      },
      {
       "output_type": "stream",
       "stream": "stdout",
       "text": [
        "Skipping HUT, due to only have 17/41 years of data\n",
        "1121/2195  "
       ]
      },
      {
       "output_type": "stream",
       "stream": "stdout",
       "text": [
        "GCK KS_ASOS => 75.36\n",
        "1122/2195  "
       ]
      },
      {
       "output_type": "stream",
       "stream": "stdout",
       "text": [
        "Skipping NFG, due to only have 5/41 years of data\n",
        "1124/2195  "
       ]
      },
      {
       "output_type": "stream",
       "stream": "stdout",
       "text": [
        "BLU CA_ASOS => 42.72\n",
        "1125/2195  "
       ]
      },
      {
       "output_type": "stream",
       "stream": "stdout",
       "text": [
        "Skipping NFL, due to only have 17/41 years of data\n",
        "1127/2195  "
       ]
      },
      {
       "output_type": "stream",
       "stream": "stdout",
       "text": [
        "Skipping BLM, due to only have 18/41 years of data\n",
        "1128/2195  "
       ]
      },
      {
       "output_type": "stream",
       "stream": "stdout",
       "text": [
        "BLI WA_ASOS => 57.65\n",
        "1129/2195  "
       ]
      },
      {
       "output_type": "stream",
       "stream": "stdout",
       "text": [
        "Skipping BLH, due to only have 31/41 years of data\n",
        "1132/2195  "
       ]
      },
      {
       "output_type": "stream",
       "stream": "stdout",
       "text": [
        "Skipping BLF, due to only have 34/41 years of data\n",
        "1139/2195  "
       ]
      },
      {
       "output_type": "stream",
       "stream": "stdout",
       "text": [
        "Skipping LZK, due to only have 2/41 years of data\n",
        "1141/2195  "
       ]
      },
      {
       "output_type": "stream",
       "stream": "stdout",
       "text": [
        "EKO NV_ASOS => 46.17\n",
        "1142/2195  "
       ]
      },
      {
       "output_type": "stream",
       "stream": "stdout",
       "text": [
        "Skipping EKN, due to only have 36/41 years of data\n",
        "1144/2195  "
       ]
      },
      {
       "output_type": "stream",
       "stream": "stdout",
       "text": [
        "Skipping EKA, due to only have 0/41 years of data\n",
        "1146/2195  "
       ]
      },
      {
       "output_type": "stream",
       "stream": "stdout",
       "text": [
        "Skipping REO, due to only have 23/41 years of data\n",
        "1147/2195  "
       ]
      },
      {
       "output_type": "stream",
       "stream": "stdout",
       "text": [
        "MKC MO_ASOS => 53.44\n",
        "1150/2195  "
       ]
      },
      {
       "output_type": "stream",
       "stream": "stdout",
       "text": [
        "Skipping FCS, due to only have 6/41 years of data\n",
        "1153/2195  "
       ]
      },
      {
       "output_type": "stream",
       "stream": "stdout",
       "text": [
        "LFI VA_ASOS => 47.27\n",
        "1154/2195  "
       ]
      },
      {
       "output_type": "stream",
       "stream": "stdout",
       "text": [
        "Skipping LFK, due to only have 35/41 years of data\n",
        "1155/2195  "
       ]
      },
      {
       "output_type": "stream",
       "stream": "stdout",
       "text": [
        "LFT LA_ASOS => 21.44\n",
        "1157/2195  "
       ]
      },
      {
       "output_type": "stream",
       "stream": "stdout",
       "text": [
        "FCH CA_ASOS => 51.10\n",
        "1158/2195  "
       ]
      },
      {
       "output_type": "stream",
       "stream": "stdout",
       "text": [
        "FCI VA_ASOS => 46.60\n",
        "1160/2195  "
       ]
      },
      {
       "output_type": "stream",
       "stream": "stdout",
       "text": [
        "Skipping LTS, due to only have 32/41 years of data\n",
        "1163/2195  "
       ]
      },
      {
       "output_type": "stream",
       "stream": "stdout",
       "text": [
        "Skipping FMY, due to only have 36/41 years of data\n",
        "1165/2195  "
       ]
      },
      {
       "output_type": "stream",
       "stream": "stdout",
       "text": [
        "Skipping O87, due to only have 0/41 years of data\n",
        "1166/2195  "
       ]
      },
      {
       "output_type": "stream",
       "stream": "stdout",
       "text": [
        "FMN NM_ASOS => 41.37\n",
        "1168/2195  "
       ]
      },
      {
       "output_type": "stream",
       "stream": "stdout",
       "text": [
        "Skipping YIP, due to only have 36/41 years of data\n",
        "1169/2195  "
       ]
      },
      {
       "output_type": "stream",
       "stream": "stdout",
       "text": [
        "Skipping FMH, due to only have 26/41 years of data\n",
        "1170/2195  "
       ]
      },
      {
       "output_type": "stream",
       "stream": "stdout",
       "text": [
        "Skipping VEL, due to only have 15/41 years of data\n",
        "1171/2195  "
       ]
      },
      {
       "output_type": "stream",
       "stream": "stdout",
       "text": [
        "Skipping FME, due to only have 5/41 years of data\n",
        "1172/2195  "
       ]
      },
      {
       "output_type": "stream",
       "stream": "stdout",
       "text": [
        "Skipping 4SL, due to only have 0/41 years of data\n",
        "1173/2195  "
       ]
      },
      {
       "output_type": "stream",
       "stream": "stdout",
       "text": [
        "Skipping MGE, due to only have 16/41 years of data\n",
        "1179/2195  "
       ]
      },
      {
       "output_type": "stream",
       "stream": "stdout",
       "text": [
        "Skipping CAR, due to only have 36/41 years of data\n",
        "1181/2195  "
       ]
      },
      {
       "output_type": "stream",
       "stream": "stdout",
       "text": [
        "CAK OH_ASOS => 49.47\n",
        "1182/2195  "
       ]
      },
      {
       "output_type": "stream",
       "stream": "stdout",
       "text": [
        "Skipping CAO, due to only have 34/41 years of data\n",
        "1185/2195  "
       ]
      },
      {
       "output_type": "stream",
       "stream": "stdout",
       "text": [
        "CAE SC_ASOS => 36.38\n",
        "1186/2195  "
       ]
      },
      {
       "output_type": "stream",
       "stream": "stdout",
       "text": [
        "Skipping CAD, due to only have 17/41 years of data\n",
        "1188/2195  "
       ]
      },
      {
       "output_type": "stream",
       "stream": "stdout",
       "text": [
        "Skipping PGA, due to only have 29/41 years of data\n",
        "1190/2195  "
       ]
      },
      {
       "output_type": "stream",
       "stream": "stdout",
       "text": [
        "Skipping DYR, due to only have 19/41 years of data\n",
        "1191/2195  "
       ]
      },
      {
       "output_type": "stream",
       "stream": "stdout",
       "text": [
        "Skipping DYS, due to only have 23/41 years of data\n",
        "1192/2195  "
       ]
      },
      {
       "output_type": "stream",
       "stream": "stdout",
       "text": [
        "Skipping PGV, due to only have 16/41 years of data\n",
        "1200/2195  "
       ]
      },
      {
       "output_type": "stream",
       "stream": "stdout",
       "text": [
        "Skipping WRI, due to only have 31/41 years of data\n",
        "1201/2195  "
       ]
      },
      {
       "output_type": "stream",
       "stream": "stdout",
       "text": [
        "RSL KS_ASOS => 69.40\n",
        "1205/2195  "
       ]
      },
      {
       "output_type": "stream",
       "stream": "stdout",
       "text": [
        "RST MN_ASOS => 54.02\n",
        "1206/2195  "
       ]
      },
      {
       "output_type": "stream",
       "stream": "stdout",
       "text": [
        "Skipping OGD, due to only have 14/41 years of data\n",
        "1211/2195  "
       ]
      },
      {
       "output_type": "stream",
       "stream": "stdout",
       "text": [
        "JFK NY_ASOS => 49.00\n",
        "1214/2195  "
       ]
      },
      {
       "output_type": "stream",
       "stream": "stdout",
       "text": [
        "MIA FL_ASOS => 27.09\n",
        "1216/2195  "
       ]
      },
      {
       "output_type": "stream",
       "stream": "stdout",
       "text": [
        "Skipping MIB, due to only have 33/41 years of data\n",
        "1217/2195  "
       ]
      },
      {
       "output_type": "stream",
       "stream": "stdout",
       "text": [
        "Skipping MIE, due to only have 13/41 years of data\n",
        "1225/2195  "
       ]
      },
      {
       "output_type": "stream",
       "stream": "stdout",
       "text": [
        "Skipping DKK, due to only have 15/41 years of data\n",
        "1227/2195  "
       ]
      },
      {
       "output_type": "stream",
       "stream": "stdout",
       "text": [
        "MIV NJ_ASOS => 56.43\n",
        "1229/2195  "
       ]
      },
      {
       "output_type": "stream",
       "stream": "stdout",
       "text": [
        "AOO PA_ASOS => 44.63\n",
        "1230/2195  "
       ]
      },
      {
       "output_type": "stream",
       "stream": "stdout",
       "text": [
        "Skipping NQX, due to only have 36/41 years of data\n",
        "1232/2195  "
       ]
      },
      {
       "output_type": "stream",
       "stream": "stdout",
       "text": [
        "Skipping NQA, due to only have 32/41 years of data\n",
        "1233/2195  "
       ]
      },
      {
       "output_type": "stream",
       "stream": "stdout",
       "text": [
        "Skipping NQI, due to only have 33/41 years of data\n",
        "1244/2195  "
       ]
      },
      {
       "output_type": "stream",
       "stream": "stdout",
       "text": [
        "Skipping IPL, due to only have 32/41 years of data\n",
        "1246/2195  "
       ]
      },
      {
       "output_type": "stream",
       "stream": "stdout",
       "text": [
        "SFO CA_ASOS => 47.65\n",
        "1249/2195  "
       ]
      },
      {
       "output_type": "stream",
       "stream": "stdout",
       "text": [
        "IPT PA_ASOS => 45.38\n",
        "1250/2195  "
       ]
      },
      {
       "output_type": "stream",
       "stream": "stdout",
       "text": [
        "SFF WA_ASOS => 45.88\n",
        "1252/2195  "
       ]
      },
      {
       "output_type": "stream",
       "stream": "stdout",
       "text": [
        "Skipping SFB, due to only have 20/41 years of data\n",
        "1255/2195  "
       ]
      },
      {
       "output_type": "stream",
       "stream": "stdout",
       "text": [
        "NGU VA_ASOS => 45.55\n",
        "1256/2195  "
       ]
      },
      {
       "output_type": "stream",
       "stream": "stdout",
       "text": [
        "Skipping HDE, due to only have 10/41 years of data\n",
        "1257/2195  "
       ]
      },
      {
       "output_type": "stream",
       "stream": "stdout",
       "text": [
        "NGP TX_ASOS => 41.97\n",
        "1260/2195  "
       ]
      },
      {
       "output_type": "stream",
       "stream": "stdout",
       "text": [
        "Skipping HDN, due to only have 19/41 years of data\n",
        "1261/2195  "
       ]
      },
      {
       "output_type": "stream",
       "stream": "stdout",
       "text": [
        "Skipping BMG, due to only have 11/41 years of data\n",
        "1262/2195  "
       ]
      },
      {
       "output_type": "stream",
       "stream": "stdout",
       "text": [
        "Skipping SZL, due to only have 34/41 years of data\n",
        "1264/2195  "
       ]
      },
      {
       "output_type": "stream",
       "stream": "stdout",
       "text": [
        "Skipping BML, due to only have 17/41 years of data\n",
        "1268/2195  "
       ]
      },
      {
       "output_type": "stream",
       "stream": "stdout",
       "text": [
        "SHR WY_ASOS => 52.27\n",
        "1269/2195  "
       ]
      },
      {
       "output_type": "stream",
       "stream": "stdout",
       "text": [
        "SHV LA_ASOS => 44.89\n",
        "1271/2195  "
       ]
      },
      {
       "output_type": "stream",
       "stream": "stdout",
       "text": [
        "Skipping SHD, due to only have 18/41 years of data\n",
        "1273/2195  "
       ]
      },
      {
       "output_type": "stream",
       "stream": "stdout",
       "text": [
        "Skipping SHN, due to only have 14/41 years of data\n",
        "1282/2195  "
       ]
      },
      {
       "output_type": "stream",
       "stream": "stdout",
       "text": [
        "MGM AL_ASOS => 29.32\n",
        "1283/2195  "
       ]
      },
      {
       "output_type": "stream",
       "stream": "stdout",
       "text": [
        "Skipping MGR, due to only have 10/41 years of data\n",
        "1284/2195  "
       ]
      },
      {
       "output_type": "stream",
       "stream": "stdout",
       "text": [
        "MGW WV_ASOS => 42.56\n",
        "1286/2195  "
       ]
      },
      {
       "output_type": "stream",
       "stream": "stdout",
       "text": [
        "Skipping TBN, due to only have 7/41 years of data\n",
        "1296/2195  "
       ]
      },
      {
       "output_type": "stream",
       "stream": "stdout",
       "text": [
        "Skipping LUF, due to only have 30/41 years of data\n",
        "1297/2195  "
       ]
      },
      {
       "output_type": "stream",
       "stream": "stdout",
       "text": [
        "LUK OH_ASOS => 47.49\n",
        "1301/2195  "
       ]
      },
      {
       "output_type": "stream",
       "stream": "stdout",
       "text": [
        "Skipping GTB, due to only have 23/41 years of data\n",
        "1302/2195  "
       ]
      },
      {
       "output_type": "stream",
       "stream": "stdout",
       "text": [
        "GTF MT_ASOS => 47.72\n",
        "1303/2195  "
       ]
      },
      {
       "output_type": "stream",
       "stream": "stdout",
       "text": [
        "Skipping RME, due to only have 27/41 years of data\n",
        "1310/2195  "
       ]
      },
      {
       "output_type": "stream",
       "stream": "stdout",
       "text": [
        "TLH FL_ASOS => 22.10\n",
        "1311/2195  "
       ]
      },
      {
       "output_type": "stream",
       "stream": "stdout",
       "text": [
        "Skipping HVN, due to only have 12/41 years of data\n",
        "1312/2195  "
       ]
      },
      {
       "output_type": "stream",
       "stream": "stdout",
       "text": [
        "Skipping YKN, due to only have 20/41 years of data\n",
        "1314/2195  "
       ]
      },
      {
       "output_type": "stream",
       "stream": "stdout",
       "text": [
        "HVR MT_ASOS => 47.64\n",
        "1315/2195  "
       ]
      },
      {
       "output_type": "stream",
       "stream": "stdout",
       "text": [
        "Skipping CMX, due to only have 29/41 years of data\n",
        "1318/2195  "
       ]
      },
      {
       "output_type": "stream",
       "stream": "stdout",
       "text": [
        "RPX MT_ASOS => 47.49\n",
        "1319/2195  "
       ]
      },
      {
       "output_type": "stream",
       "stream": "stdout",
       "text": [
        "Skipping UCY, due to only have 17/41 years of data\n",
        "1322/2195  "
       ]
      },
      {
       "output_type": "stream",
       "stream": "stdout",
       "text": [
        "Skipping UCA, due to only have 24/41 years of data\n",
        "1330/2195  "
       ]
      },
      {
       "output_type": "stream",
       "stream": "stdout",
       "text": [
        "Skipping RBL, due to only have 34/41 years of data\n",
        "1332/2195  "
       ]
      },
      {
       "output_type": "stream",
       "stream": "stdout",
       "text": [
        "Skipping RBG, due to only have 15/41 years of data\n",
        "1334/2195  "
       ]
      },
      {
       "output_type": "stream",
       "stream": "stdout",
       "text": [
        "OTH OR_ASOS => 59.80\n",
        "1336/2195  "
       ]
      },
      {
       "output_type": "stream",
       "stream": "stdout",
       "text": [
        "PWM ME_ASOS => 47.95\n",
        "1337/2195  "
       ]
      },
      {
       "output_type": "stream",
       "stream": "stdout",
       "text": [
        "Skipping OTM, due to only have 36/41 years of data\n",
        "1339/2195  "
       ]
      },
      {
       "output_type": "stream",
       "stream": "stdout",
       "text": [
        "Skipping LGB, due to only have 29/41 years of data\n",
        "1341/2195  "
       ]
      },
      {
       "output_type": "stream",
       "stream": "stdout",
       "text": [
        "LGA NY_ASOS => 48.12\n",
        "1343/2195  "
       ]
      },
      {
       "output_type": "stream",
       "stream": "stdout",
       "text": [
        "Skipping LGD, due to only have 19/41 years of data\n",
        "1344/2195  "
       ]
      },
      {
       "output_type": "stream",
       "stream": "stdout",
       "text": [
        "Skipping OTG, due to only have 18/41 years of data\n",
        "1355/2195  "
       ]
      },
      {
       "output_type": "stream",
       "stream": "stdout",
       "text": [
        "AXN MN_ASOS => 56.80\n",
        "1358/2195  "
       ]
      },
      {
       "output_type": "stream",
       "stream": "stdout",
       "text": [
        "Skipping IWD, due to only have 17/41 years of data\n",
        "1359/2195  "
       ]
      },
      {
       "output_type": "stream",
       "stream": "stdout",
       "text": [
        "Skipping IWA, due to only have 14/41 years of data\n",
        "1362/2195  "
       ]
      },
      {
       "output_type": "stream",
       "stream": "stdout",
       "text": [
        "Skipping OFF, due to only have 35/41 years of data\n",
        "1363/2195  "
       ]
      },
      {
       "output_type": "stream",
       "stream": "stdout",
       "text": [
        "IAH TX_ASOS => 30.09\n",
        "1364/2195  "
       ]
      },
      {
       "output_type": "stream",
       "stream": "stdout",
       "text": [
        "Skipping OFK, due to only have 36/41 years of data\n",
        "1368/2195  "
       ]
      },
      {
       "output_type": "stream",
       "stream": "stdout",
       "text": [
        "IAB KS_ASOS => 51.00\n",
        "1372/2195  "
       ]
      },
      {
       "output_type": "stream",
       "stream": "stdout",
       "text": [
        "Skipping FTK, due to only have 31/41 years of data\n",
        "1375/2195  "
       ]
      },
      {
       "output_type": "stream",
       "stream": "stdout",
       "text": [
        "PHL PA_ASOS => 47.70\n",
        "1376/2195  "
       ]
      },
      {
       "output_type": "stream",
       "stream": "stdout",
       "text": [
        "Skipping PHG, due to only have 12/41 years of data\n",
        "1377/2195  "
       ]
      },
      {
       "output_type": "stream",
       "stream": "stdout",
       "text": [
        "PHF VA_ASOS => 44.94\n",
        "1381/2195  "
       ]
      },
      {
       "output_type": "stream",
       "stream": "stdout",
       "text": [
        "Skipping PHP, due to only have 14/41 years of data\n",
        "1384/2195  "
       ]
      },
      {
       "output_type": "stream",
       "stream": "stdout",
       "text": [
        "Skipping CJR, due to only have 14/41 years of data\n",
        "1386/2195  "
       ]
      },
      {
       "output_type": "stream",
       "stream": "stdout",
       "text": [
        "Skipping SKF, due to only have 34/41 years of data\n",
        "1387/2195  "
       ]
      },
      {
       "output_type": "stream",
       "stream": "stdout",
       "text": [
        "SKA WA_ASOS => 56.34\n",
        "1389/2195  "
       ]
      },
      {
       "output_type": "stream",
       "stream": "stdout",
       "text": [
        "Skipping Y22, due to only have 12/41 years of data\n",
        "1390/2195  "
       ]
      },
      {
       "output_type": "stream",
       "stream": "stdout",
       "text": [
        "MFD OH_ASOS => 47.76\n",
        "1391/2195  "
       ]
      },
      {
       "output_type": "stream",
       "stream": "stdout",
       "text": [
        "Skipping MFE, due to only have 35/41 years of data\n",
        "1395/2195  "
       ]
      },
      {
       "output_type": "stream",
       "stream": "stdout",
       "text": [
        "TCS NM_ASOS => 52.77\n",
        "1396/2195  "
       ]
      },
      {
       "output_type": "stream",
       "stream": "stdout",
       "text": [
        "TCL AL_ASOS => 32.10\n",
        "1397/2195  "
       ]
      },
      {
       "output_type": "stream",
       "stream": "stdout",
       "text": [
        "TCM WA_ASOS => 55.06\n",
        "1398/2195  "
       ]
      },
      {
       "output_type": "stream",
       "stream": "stdout",
       "text": [
        "GEG WA_ASOS => 48.83\n",
        "1402/2195  "
       ]
      },
      {
       "output_type": "stream",
       "stream": "stdout",
       "text": [
        "Skipping TCC, due to only have 22/41 years of data\n",
        "1404/2195  "
       ]
      },
      {
       "output_type": "stream",
       "stream": "stdout",
       "text": [
        "Skipping MHK, due to only have 15/41 years of data\n",
        "1405/2195  "
       ]
      },
      {
       "output_type": "stream",
       "stream": "stdout",
       "text": [
        "Skipping MHE, due to only have 20/41 years of data\n",
        "1408/2195  "
       ]
      },
      {
       "output_type": "stream",
       "stream": "stdout",
       "text": [
        "DDC KS_ASOS => 69.51\n",
        "1409/2195  "
       ]
      },
      {
       "output_type": "stream",
       "stream": "stdout",
       "text": [
        "Skipping MHT, due to only have 18/41 years of data\n",
        "1410/2195  "
       ]
      },
      {
       "output_type": "stream",
       "stream": "stdout",
       "text": [
        "Skipping MHR, due to only have 23/41 years of data\n",
        "1411/2195  "
       ]
      },
      {
       "output_type": "stream",
       "stream": "stdout",
       "text": [
        "Skipping MHS, due to only have 34/41 years of data\n",
        "1412/2195  "
       ]
      },
      {
       "output_type": "stream",
       "stream": "stdout",
       "text": [
        "Skipping AND, due to only have 29/41 years of data\n",
        "1414/2195  "
       ]
      },
      {
       "output_type": "stream",
       "stream": "stdout",
       "text": [
        "ANB AL_ASOS => 37.51\n",
        "1415/2195  "
       ]
      },
      {
       "output_type": "stream",
       "stream": "stdout",
       "text": [
        "ANJ MI_ASOS => 49.10\n",
        "1417/2195  "
       ]
      },
      {
       "output_type": "stream",
       "stream": "stdout",
       "text": [
        "Skipping ANW, due to only have 16/41 years of data\n",
        "1421/2195  "
       ]
      },
      {
       "output_type": "stream",
       "stream": "stdout",
       "text": [
        "GWO MS_ASOS => 45.70\n",
        "1432/2195  "
       ]
      },
      {
       "output_type": "stream",
       "stream": "stdout",
       "text": [
        "Skipping NJK, due to only have 7/41 years of data\n",
        "1433/2195  "
       ]
      },
      {
       "output_type": "stream",
       "stream": "stdout",
       "text": [
        "Skipping HWD, due to only have 14/41 years of data\n",
        "1437/2195  "
       ]
      },
      {
       "output_type": "stream",
       "stream": "stdout",
       "text": [
        "Skipping HEQ, due to only have 12/41 years of data\n",
        "1439/2195  "
       ]
      },
      {
       "output_type": "stream",
       "stream": "stdout",
       "text": [
        "Skipping HEZ, due to only have 21/41 years of data\n",
        "1443/2195  "
       ]
      },
      {
       "output_type": "stream",
       "stream": "stdout",
       "text": [
        "Skipping XMR, due to only have 11/41 years of data\n",
        "1447/2195  "
       ]
      },
      {
       "output_type": "stream",
       "stream": "stdout",
       "text": [
        "Skipping BJI, due to only have 21/41 years of data\n",
        "1448/2195  "
       ]
      },
      {
       "output_type": "stream",
       "stream": "stdout",
       "text": [
        "Skipping HYA, due to only have 16/41 years of data\n",
        "1462/2195  "
       ]
      },
      {
       "output_type": "stream",
       "stream": "stdout",
       "text": [
        "Skipping RCA, due to only have 35/41 years of data\n",
        "1463/2195  "
       ]
      },
      {
       "output_type": "stream",
       "stream": "stdout",
       "text": [
        "Skipping FAY, due to only have 28/41 years of data\n",
        "1464/2195  "
       ]
      },
      {
       "output_type": "stream",
       "stream": "stdout",
       "text": [
        "FAR ND_ASOS => 57.98\n",
        "1465/2195  "
       ]
      },
      {
       "output_type": "stream",
       "stream": "stdout",
       "text": [
        "Skipping OWD, due to only have 14/41 years of data\n",
        "1467/2195  "
       ]
      },
      {
       "output_type": "stream",
       "stream": "stdout",
       "text": [
        "FAT CA_ASOS => 51.07\n",
        "1468/2195  "
       ]
      },
      {
       "output_type": "stream",
       "stream": "stdout",
       "text": [
        "Skipping OWB, due to only have 7/41 years of data\n",
        "1471/2195  "
       ]
      },
      {
       "output_type": "stream",
       "stream": "stdout",
       "text": [
        "Skipping FAF, due to only have 6/41 years of data\n",
        "1475/2195  "
       ]
      },
      {
       "output_type": "stream",
       "stream": "stdout",
       "text": [
        "Skipping LVS, due to only have 22/41 years of data\n",
        "1477/2195  "
       ]
      },
      {
       "output_type": "stream",
       "stream": "stdout",
       "text": [
        "Skipping SVC, due to only have 13/41 years of data\n",
        "1478/2195  "
       ]
      },
      {
       "output_type": "stream",
       "stream": "stdout",
       "text": [
        "Skipping LVM, due to only have 17/41 years of data\n",
        "1481/2195  "
       ]
      },
      {
       "output_type": "stream",
       "stream": "stdout",
       "text": [
        "Skipping LVK, due to only have 14/41 years of data\n",
        "1487/2195  "
       ]
      },
      {
       "output_type": "stream",
       "stream": "stdout",
       "text": [
        "POU NY_ASOS => 44.26\n",
        "1490/2195  "
       ]
      },
      {
       "output_type": "stream",
       "stream": "stdout",
       "text": [
        "OAK CA_ASOS => 39.98\n",
        "1493/2195  "
       ]
      },
      {
       "output_type": "stream",
       "stream": "stdout",
       "text": [
        "Skipping CCR, due to only have 13/41 years of data\n",
        "1498/2195  "
       ]
      },
      {
       "output_type": "stream",
       "stream": "stdout",
       "text": [
        "PIH ID_ASOS => 43.71\n",
        "1500/2195  "
       ]
      },
      {
       "output_type": "stream",
       "stream": "stdout",
       "text": [
        "Skipping PIL, due to only have 14/41 years of data\n",
        "1504/2195  "
       ]
      },
      {
       "output_type": "stream",
       "stream": "stdout",
       "text": [
        "MYR SC_ASOS => 97.23\n",
        "1506/2195  "
       ]
      },
      {
       "output_type": "stream",
       "stream": "stdout",
       "text": [
        "Skipping MYV, due to only have 22/41 years of data\n",
        "1508/2195  "
       ]
      },
      {
       "output_type": "stream",
       "stream": "stdout",
       "text": [
        "PIR SD_ASOS => 63.98\n",
        "1509/2195  "
       ]
      },
      {
       "output_type": "stream",
       "stream": "stdout",
       "text": [
        "PIT PA_ASOS => 47.11\n",
        "1510/2195  "
       ]
      },
      {
       "output_type": "stream",
       "stream": "stdout",
       "text": [
        "Skipping MYF, due to only have 15/41 years of data\n",
        "1517/2195  "
       ]
      },
      {
       "output_type": "stream",
       "stream": "stdout",
       "text": [
        "WMC NV_ASOS => 44.51\n",
        "1523/2195  "
       ]
      },
      {
       "output_type": "stream",
       "stream": "stdout",
       "text": [
        "Skipping GNR, due to only have 21/41 years of data\n",
        "1527/2195  "
       ]
      },
      {
       "output_type": "stream",
       "stream": "stdout",
       "text": [
        "Skipping MWS, due to only have 3/41 years of data\n",
        "1531/2195  "
       ]
      },
      {
       "output_type": "stream",
       "stream": "stdout",
       "text": [
        "GJT CO_ASOS => 50.41\n",
        "1532/2195  "
       ]
      },
      {
       "output_type": "stream",
       "stream": "stdout",
       "text": [
        "Skipping PSK, due to only have 16/41 years of data\n",
        "1533/2195  "
       ]
      },
      {
       "output_type": "stream",
       "stream": "stdout",
       "text": [
        "DET MI_ASOS => 45.71\n",
        "1535/2195  "
       ]
      },
      {
       "output_type": "stream",
       "stream": "stdout",
       "text": [
        "Skipping MWC, due to only have 6/41 years of data\n",
        "1538/2195  "
       ]
      },
      {
       "output_type": "stream",
       "stream": "stdout",
       "text": [
        "SMF CA_ASOS => 40.11\n",
        "1540/2195  "
       ]
      },
      {
       "output_type": "stream",
       "stream": "stdout",
       "text": [
        "Skipping MWH, due to only have 15/41 years of data\n",
        "1542/2195  "
       ]
      },
      {
       "output_type": "stream",
       "stream": "stdout",
       "text": [
        "Skipping MWN, due to only have 17/41 years of data\n",
        "1544/2195  "
       ]
      },
      {
       "output_type": "stream",
       "stream": "stdout",
       "text": [
        "Skipping MWL, due to only have 14/41 years of data\n",
        "1546/2195  "
       ]
      },
      {
       "output_type": "stream",
       "stream": "stdout",
       "text": [
        "AMA TX_ASOS => 65.37\n",
        "1547/2195  "
       ]
      },
      {
       "output_type": "stream",
       "stream": "stdout",
       "text": [
        "Skipping AMG, due to only have 13/41 years of data\n",
        "1560/2195  "
       ]
      },
      {
       "output_type": "stream",
       "stream": "stdout",
       "text": [
        "Skipping 87Q, due to only have 17/41 years of data\n",
        "1562/2195  "
       ]
      },
      {
       "output_type": "stream",
       "stream": "stdout",
       "text": [
        "Skipping ACB, due to only have 22/41 years of data\n",
        "1563/2195  "
       ]
      },
      {
       "output_type": "stream",
       "stream": "stdout",
       "text": [
        "Skipping NEL, due to only have 3/41 years of data\n",
        "1564/2195  "
       ]
      },
      {
       "output_type": "stream",
       "stream": "stdout",
       "text": [
        "Skipping ACK, due to only have 18/41 years of data\n",
        "1570/2195  "
       ]
      },
      {
       "output_type": "stream",
       "stream": "stdout",
       "text": [
        "ACV CA_ASOS => 53.08\n",
        "1571/2195  "
       ]
      },
      {
       "output_type": "stream",
       "stream": "stdout",
       "text": [
        "ACT TX_ASOS => 51.16\n",
        "1572/2195  "
       ]
      },
      {
       "output_type": "stream",
       "stream": "stdout",
       "text": [
        "Skipping NEW, due to only have 32/41 years of data\n",
        "1573/2195  "
       ]
      },
      {
       "output_type": "stream",
       "stream": "stdout",
       "text": [
        "ACY NJ_ASOS => 47.53\n",
        "1574/2195  "
       ]
      },
      {
       "output_type": "stream",
       "stream": "stdout",
       "text": [
        "Skipping HFD, due to only have 17/41 years of data\n",
        "1578/2195  "
       ]
      },
      {
       "output_type": "stream",
       "stream": "stdout",
       "text": [
        "1580/2195  "
       ]
      },
      {
       "output_type": "stream",
       "stream": "stdout",
       "text": [
        "Skipping BKL, due to only have 15/41 years of data\n",
        "1582/2195  "
       ]
      },
      {
       "output_type": "stream",
       "stream": "stdout",
       "text": [
        "Skipping GGG, due to only have 28/41 years of data\n",
        "1584/2195  "
       ]
      },
      {
       "output_type": "stream",
       "stream": "stdout",
       "text": [
        "BKW WV_ASOS => 42.70\n",
        "1587/2195  "
       ]
      },
      {
       "output_type": "stream",
       "stream": "stdout",
       "text": [
        "Skipping BKX, due to only have 19/41 years of data\n",
        "1591/2195  "
       ]
      },
      {
       "output_type": "stream",
       "stream": "stdout",
       "text": [
        "SJT TX_ASOS => 56.66\n",
        "1594/2195  "
       ]
      },
      {
       "output_type": "stream",
       "stream": "stdout",
       "text": [
        "Skipping SJC, due to only have 23/41 years of data\n",
        "1595/2195  "
       ]
      },
      {
       "output_type": "stream",
       "stream": "stdout",
       "text": [
        "Skipping GDP, due to only have 31/41 years of data\n",
        "1597/2195  "
       ]
      },
      {
       "output_type": "stream",
       "stream": "stdout",
       "text": [
        "Skipping GDV, due to only have 19/41 years of data\n",
        "1598/2195  "
       ]
      },
      {
       "output_type": "stream",
       "stream": "stdout",
       "text": [
        "Skipping MEB, due to only have 14/41 years of data\n",
        "1599/2195  "
       ]
      },
      {
       "output_type": "stream",
       "stream": "stdout",
       "text": [
        "MEM TN_ASOS => 46.59\n",
        "1600/2195  "
       ]
      },
      {
       "output_type": "stream",
       "stream": "stdout",
       "text": [
        "MEI MS_ASOS => 30.02\n",
        "1601/2195  "
       ]
      },
      {
       "output_type": "stream",
       "stream": "stdout",
       "text": [
        "Skipping MEH, due to only have 35/41 years of data\n",
        "1608/2195  "
       ]
      },
      {
       "output_type": "stream",
       "stream": "stdout",
       "text": [
        "Skipping LWS, due to only have 32/41 years of data\n",
        "1609/2195  "
       ]
      },
      {
       "output_type": "stream",
       "stream": "stdout",
       "text": [
        "YNG OH_ASOS => 48.28\n",
        "1611/2195  "
       ]
      },
      {
       "output_type": "stream",
       "stream": "stdout",
       "text": [
        "Skipping LWT, due to only have 32/41 years of data\n",
        "1614/2195  "
       ]
      },
      {
       "output_type": "stream",
       "stream": "stdout",
       "text": [
        "Skipping LWB, due to only have 13/41 years of data\n",
        "1617/2195  "
       ]
      },
      {
       "output_type": "stream",
       "stream": "stdout",
       "text": [
        "Skipping LWD, due to only have 15/41 years of data\n",
        "1618/2195  "
       ]
      },
      {
       "output_type": "stream",
       "stream": "stdout",
       "text": [
        "TXK AR_ASOS => 41.78\n",
        "1627/2195  "
       ]
      },
      {
       "output_type": "stream",
       "stream": "stdout",
       "text": [
        "Skipping HHR, due to only have 14/41 years of data\n",
        "1632/2195  "
       ]
      },
      {
       "output_type": "stream",
       "stream": "stdout",
       "text": [
        "NKT NC_ASOS => 34.29\n",
        "1634/2195  "
       ]
      },
      {
       "output_type": "stream",
       "stream": "stdout",
       "text": [
        "Skipping NKX, due to only have 19/41 years of data\n",
        "1637/2195  "
       ]
      },
      {
       "output_type": "stream",
       "stream": "stdout",
       "text": [
        "ROC NY_ASOS => 44.79\n",
        "1639/2195  "
       ]
      },
      {
       "output_type": "stream",
       "stream": "stdout",
       "text": [
        "CPR WY_ASOS => 39.78\n",
        "1642/2195  "
       ]
      },
      {
       "output_type": "stream",
       "stream": "stdout",
       "text": [
        "Skipping CPW, due to only have 9/41 years of data\n",
        "1647/2195  "
       ]
      },
      {
       "output_type": "stream",
       "stream": "stdout",
       "text": [
        "WRB GA_ASOS => 34.59\n",
        "1651/2195  "
       ]
      },
      {
       "output_type": "stream",
       "stream": "stdout",
       "text": [
        "Skipping WRL, due to only have 30/41 years of data\n",
        "1659/2195  "
       ]
      },
      {
       "output_type": "stream",
       "stream": "stdout",
       "text": [
        "Skipping LAL, due to only have 2/41 years of data\n",
        "1661/2195  "
       ]
      },
      {
       "output_type": "stream",
       "stream": "stdout",
       "text": [
        "LAN MI_ASOS => 47.80\n",
        "1664/2195  "
       ]
      },
      {
       "output_type": "stream",
       "stream": "stdout",
       "text": [
        "LAF IN_ASOS => 52.43\n",
        "1667/2195  "
       ]
      },
      {
       "output_type": "stream",
       "stream": "stdout",
       "text": [
        "FFO OH_ASOS => 52.53\n",
        "1669/2195  "
       ]
      },
      {
       "output_type": "stream",
       "stream": "stdout",
       "text": [
        "LAX CA_ASOS => 25.01\n",
        "1673/2195  "
       ]
      },
      {
       "output_type": "stream",
       "stream": "stdout",
       "text": [
        "Skipping LAR, due to only have 32/41 years of data\n",
        "1674/2195  "
       ]
      },
      {
       "output_type": "stream",
       "stream": "stdout",
       "text": [
        "LAS NV_ASOS => 38.87\n",
        "1680/2195  "
       ]
      },
      {
       "output_type": "stream",
       "stream": "stdout",
       "text": [
        "NTU VA_ASOS => 43.28\n",
        "1681/2195  "
       ]
      },
      {
       "output_type": "stream",
       "stream": "stdout",
       "text": [
        "Skipping UOX, due to only have 4/41 years of data\n",
        "1683/2195  "
       ]
      },
      {
       "output_type": "stream",
       "stream": "stdout",
       "text": [
        "DTW MI_ASOS => 46.66\n",
        "1687/2195  "
       ]
      },
      {
       "output_type": "stream",
       "stream": "stdout",
       "text": [
        "Skipping EWB, due to only have 16/41 years of data\n",
        "1692/2195  "
       ]
      },
      {
       "output_type": "stream",
       "stream": "stdout",
       "text": [
        "Skipping SBD, due to only have 20/41 years of data\n",
        "1693/2195  "
       ]
      },
      {
       "output_type": "stream",
       "stream": "stdout",
       "text": [
        "FTW TX_ASOS => 54.13\n",
        "1694/2195  "
       ]
      },
      {
       "output_type": "stream",
       "stream": "stdout",
       "text": [
        "Skipping FTY, due to only have 34/41 years of data\n",
        "1695/2195  "
       ]
      },
      {
       "output_type": "stream",
       "stream": "stdout",
       "text": [
        "Skipping SBA, due to only have 34/41 years of data\n",
        "1697/2195  "
       ]
      },
      {
       "output_type": "stream",
       "stream": "stdout",
       "text": [
        "Skipping U24, due to only have 0/41 years of data\n",
        "1700/2195  "
       ]
      },
      {
       "output_type": "stream",
       "stream": "stdout",
       "text": [
        "Skipping IGM, due to only have 36/41 years of data\n",
        "1701/2195  "
       ]
      },
      {
       "output_type": "stream",
       "stream": "stdout",
       "text": [
        "Skipping U28, due to only have 0/41 years of data\n",
        "1705/2195  "
       ]
      },
      {
       "output_type": "stream",
       "stream": "stdout",
       "text": [
        "Skipping CBK, due to only have 31/41 years of data\n",
        "1706/2195  "
       ]
      },
      {
       "output_type": "stream",
       "stream": "stdout",
       "text": [
        "Skipping CBM, due to only have 11/41 years of data\n",
        "1707/2195  "
       ]
      },
      {
       "output_type": "stream",
       "stream": "stdout",
       "text": [
        "Skipping MXF, due to only have 16/41 years of data\n",
        "1709/2195  "
       ]
      },
      {
       "output_type": "stream",
       "stream": "stdout",
       "text": [
        "Skipping SMX, due to only have 31/41 years of data\n",
        "1712/2195  "
       ]
      },
      {
       "output_type": "stream",
       "stream": "stdout",
       "text": [
        "Skipping SMP, due to only have 28/41 years of data\n",
        "1713/2195  "
       ]
      },
      {
       "output_type": "stream",
       "stream": "stdout",
       "text": [
        "Skipping SMO, due to only have 13/41 years of data\n",
        "1714/2195  "
       ]
      },
      {
       "output_type": "stream",
       "stream": "stdout",
       "text": [
        "Skipping SMN, due to only have 20/41 years of data\n",
        "1715/2195  "
       ]
      },
      {
       "output_type": "stream",
       "stream": "stdout",
       "text": [
        "BZN MT_ASOS => 45.91\n",
        "1719/2195  "
       ]
      },
      {
       "output_type": "stream",
       "stream": "stdout",
       "text": [
        "GGW MT_ASOS => 56.28\n",
        "1725/2195  "
       ]
      },
      {
       "output_type": "stream",
       "stream": "stdout",
       "text": [
        "Skipping JST, due to only have 21/41 years of data\n",
        "1730/2195  "
       ]
      },
      {
       "output_type": "stream",
       "stream": "stdout",
       "text": [
        "Skipping MDT, due to only have 33/41 years of data\n",
        "1733/2195  "
       ]
      },
      {
       "output_type": "stream",
       "stream": "stdout",
       "text": [
        "Skipping MVY, due to only have 15/41 years of data\n",
        "1736/2195  "
       ]
      },
      {
       "output_type": "stream",
       "stream": "stdout",
       "text": [
        "Skipping JEF, due to only have 15/41 years of data\n",
        "1742/2195  "
       ]
      },
      {
       "output_type": "stream",
       "stream": "stdout",
       "text": [
        "ALO IA_ASOS => 58.87\n",
        "1745/2195  "
       ]
      },
      {
       "output_type": "stream",
       "stream": "stdout",
       "text": [
        "Skipping ALI, due to only have 28/41 years of data\n",
        "1747/2195  "
       ]
      },
      {
       "output_type": "stream",
       "stream": "stdout",
       "text": [
        "ALB NY_ASOS => 45.46\n",
        "1749/2195  "
       ]
      },
      {
       "output_type": "stream",
       "stream": "stdout",
       "text": [
        "ALW WA_ASOS => 49.63\n",
        "1750/2195  "
       ]
      },
      {
       "output_type": "stream",
       "stream": "stdout",
       "text": [
        "Skipping ALS, due to only have 32/41 years of data\n",
        "1752/2195  "
       ]
      },
      {
       "output_type": "stream",
       "stream": "stdout",
       "text": [
        "TOP KS_ASOS => 60.26\n",
        "1753/2195  "
       ]
      },
      {
       "output_type": "stream",
       "stream": "stdout",
       "text": [
        "Skipping TOI, due to only have 7/41 years of data\n",
        "1754/2195  "
       ]
      },
      {
       "output_type": "stream",
       "stream": "stdout",
       "text": [
        "TOL OH_ASOS => 47.99\n",
        "1757/2195  "
       ]
      },
      {
       "output_type": "stream",
       "stream": "stdout",
       "text": [
        "Skipping TOA, due to only have 0/41 years of data\n",
        "1758/2195  "
       ]
      },
      {
       "output_type": "stream",
       "stream": "stdout",
       "text": [
        "NHK MD_ASOS => 56.94\n",
        "1759/2195  "
       ]
      },
      {
       "output_type": "stream",
       "stream": "stdout",
       "text": [
        "ERI PA_ASOS => 53.11\n",
        "1760/2195  "
       ]
      },
      {
       "output_type": "stream",
       "stream": "stdout",
       "text": [
        "Skipping HIB, due to only have 21/41 years of data\n",
        "1762/2195  "
       ]
      },
      {
       "output_type": "stream",
       "stream": "stdout",
       "text": [
        "HIF UT_ASOS => 50.79\n",
        "1763/2195  "
       ]
      },
      {
       "output_type": "stream",
       "stream": "stdout",
       "text": [
        "IAD VA_ASOS => 50.22\n",
        "1765/2195  "
       ]
      },
      {
       "output_type": "stream",
       "stream": "stdout",
       "text": [
        "Skipping HII, due to only have 14/41 years of data\n",
        "1766/2195  "
       ]
      },
      {
       "output_type": "stream",
       "stream": "stdout",
       "text": [
        "IAG NY_ASOS => 52.00\n",
        "1767/2195  "
       ]
      },
      {
       "output_type": "stream",
       "stream": "stdout",
       "text": [
        "HIO OR_ASOS => 45.07\n",
        "1768/2195  "
       ]
      },
      {
       "output_type": "stream",
       "stream": "stdout",
       "text": [
        "ABE PA_ASOS => 51.71\n",
        "1770/2195  "
       ]
      },
      {
       "output_type": "stream",
       "stream": "stdout",
       "text": [
        "ABI TX_ASOS => 55.94\n",
        "1771/2195  "
       ]
      },
      {
       "output_type": "stream",
       "stream": "stdout",
       "text": [
        "Skipping NZY, due to only have 36/41 years of data\n",
        "1772/2195  "
       ]
      },
      {
       "output_type": "stream",
       "stream": "stdout",
       "text": [
        "Skipping HGR, due to only have 14/41 years of data\n",
        "1773/2195  "
       ]
      },
      {
       "output_type": "stream",
       "stream": "stdout",
       "text": [
        "ABQ NM_ASOS => 39.59\n",
        "1774/2195  "
       ]
      },
      {
       "output_type": "stream",
       "stream": "stdout",
       "text": [
        "Skipping ABR, due to only have 35/41 years of data\n",
        "1776/2195  "
       ]
      },
      {
       "output_type": "stream",
       "stream": "stdout",
       "text": [
        "ABY GA_ASOS => 37.74\n",
        "1778/2195  "
       ]
      },
      {
       "output_type": "stream",
       "stream": "stdout",
       "text": [
        "BHM AL_ASOS => 34.13\n",
        "1783/2195  "
       ]
      },
      {
       "output_type": "stream",
       "stream": "stdout",
       "text": [
        "Skipping EGI, due to only have 4/41 years of data\n",
        "1786/2195  "
       ]
      },
      {
       "output_type": "stream",
       "stream": "stdout",
       "text": [
        "Skipping EGE, due to only have 32/41 years of data\n",
        "1787/2195  "
       ]
      },
      {
       "output_type": "stream",
       "stream": "stdout",
       "text": [
        "Skipping OQU, due to only have 0/41 years of data\n",
        "1790/2195  "
       ]
      },
      {
       "output_type": "stream",
       "stream": "stdout",
       "text": [
        "Skipping LBT, due to only have 13/41 years of data\n",
        "1795/2195  "
       ]
      },
      {
       "output_type": "stream",
       "stream": "stdout",
       "text": [
        "LBB TX_ASOS => 61.98\n",
        "1796/2195  "
       ]
      },
      {
       "output_type": "stream",
       "stream": "stdout",
       "text": [
        "Skipping LBE, due to only have 0/41 years of data\n",
        "1798/2195  "
       ]
      },
      {
       "output_type": "stream",
       "stream": "stdout",
       "text": [
        "RAP SD_ASOS => 48.59\n",
        "1799/2195  "
       ]
      },
      {
       "output_type": "stream",
       "stream": "stdout",
       "text": [
        "LBF NE_ASOS => 68.82\n",
        "1801/2195  "
       ]
      },
      {
       "output_type": "stream",
       "stream": "stdout",
       "text": [
        "Skipping LBL, due to only have 19/41 years of data\n",
        "1804/2195  "
       ]
      },
      {
       "output_type": "stream",
       "stream": "stdout",
       "text": [
        "BFF NE_ASOS => 49.90\n",
        "1806/2195  "
       ]
      },
      {
       "output_type": "stream",
       "stream": "stdout",
       "text": [
        "BFI WA_ASOS => 52.12\n",
        "1808/2195  "
       ]
      },
      {
       "output_type": "stream",
       "stream": "stdout",
       "text": [
        "Skipping BFM, due to only have 6/41 years of data\n",
        "1809/2195  "
       ]
      },
      {
       "output_type": "stream",
       "stream": "stdout",
       "text": [
        "BFL CA_ASOS => 52.93\n",
        "1811/2195  "
       ]
      },
      {
       "output_type": "stream",
       "stream": "stdout",
       "text": [
        "EYW FL_ASOS => 44.28\n",
        "1813/2195  "
       ]
      },
      {
       "output_type": "stream",
       "stream": "stdout",
       "text": [
        "Skipping VIH, due to only have 24/41 years of data\n",
        "1814/2195  "
       ]
      },
      {
       "output_type": "stream",
       "stream": "stdout",
       "text": [
        "Skipping VIS, due to only have 17/41 years of data\n",
        "1815/2195  "
       ]
      },
      {
       "output_type": "stream",
       "stream": "stdout",
       "text": [
        "Skipping NHZ, due to only have 35/41 years of data\n",
        "1817/2195  "
       ]
      },
      {
       "output_type": "stream",
       "stream": "stdout",
       "text": [
        "Skipping TYR, due to only have 23/41 years of data\n",
        "1818/2195  "
       ]
      },
      {
       "output_type": "stream",
       "stream": "stdout",
       "text": [
        "TYS TN_ASOS => 47.09\n",
        "1822/2195  "
       ]
      },
      {
       "output_type": "stream",
       "stream": "stdout",
       "text": [
        "Skipping OCF, due to only have 19/41 years of data\n",
        "1824/2195  "
       ]
      },
      {
       "output_type": "stream",
       "stream": "stdout",
       "text": [
        "Skipping FUL, due to only have 14/41 years of data\n",
        "1826/2195  "
       ]
      },
      {
       "output_type": "stream",
       "stream": "stdout",
       "text": [
        "Skipping CEF, due to only have 17/41 years of data\n",
        "1829/2195  "
       ]
      },
      {
       "output_type": "stream",
       "stream": "stdout",
       "text": [
        "PKB WV_ASOS => 43.92\n",
        "1831/2195  "
       ]
      },
      {
       "output_type": "stream",
       "stream": "stdout",
       "text": [
        "PHX AZ_ASOS => 45.51\n",
        "1833/2195  "
       ]
      },
      {
       "output_type": "stream",
       "stream": "stdout",
       "text": [
        "Skipping CEZ, due to only have 16/41 years of data\n",
        "1834/2195  "
       ]
      },
      {
       "output_type": "stream",
       "stream": "stdout",
       "text": [
        "CEY KY_ASOS => 48.60\n",
        "1835/2195  "
       ]
      },
      {
       "output_type": "stream",
       "stream": "stdout",
       "text": [
        "Skipping CSM, due to only have 16/41 years of data\n",
        "1836/2195  "
       ]
      },
      {
       "output_type": "stream",
       "stream": "stdout",
       "text": [
        "CSG GA_ASOS => 29.30\n",
        "1837/2195  "
       ]
      },
      {
       "output_type": "stream",
       "stream": "stdout",
       "text": [
        "CSV TN_ASOS => 41.75\n",
        "1839/2195  "
       ]
      },
      {
       "output_type": "stream",
       "stream": "stdout",
       "text": [
        "Skipping JBR, due to only have 32/41 years of data\n",
        "1842/2195  "
       ]
      },
      {
       "output_type": "stream",
       "stream": "stdout",
       "text": [
        "Skipping NZJ, due to only have 12/41 years of data\n",
        "1844/2195  "
       ]
      },
      {
       "output_type": "stream",
       "stream": "stdout",
       "text": [
        "Skipping MUO, due to only have 33/41 years of data\n",
        "1849/2195  "
       ]
      },
      {
       "output_type": "stream",
       "stream": "stdout",
       "text": [
        "AST OR_ASOS => 55.70\n",
        "1850/2195  "
       ]
      },
      {
       "output_type": "stream",
       "stream": "stdout",
       "text": [
        "Skipping NUW, due to only have 33/41 years of data\n",
        "1852/2195  "
       ]
      },
      {
       "output_type": "stream",
       "stream": "stdout",
       "text": [
        "NUQ CA_ASOS => 37.50\n",
        "1853/2195  "
       ]
      },
      {
       "output_type": "stream",
       "stream": "stdout",
       "text": [
        "Skipping GBN, due to only have 0/41 years of data\n",
        "1856/2195  "
       ]
      },
      {
       "output_type": "stream",
       "stream": "stdout",
       "text": [
        "Skipping ASE, due to only have 14/41 years of data\n",
        "1860/2195  "
       ]
      },
      {
       "output_type": "stream",
       "stream": "stdout",
       "text": [
        "Skipping NUC, due to only have 11/41 years of data\n",
        "1863/2195  "
       ]
      },
      {
       "output_type": "stream",
       "stream": "stdout",
       "text": [
        "DUJ PA_ASOS => 50.27\n",
        "1869/2195  "
       ]
      },
      {
       "output_type": "stream",
       "stream": "stdout",
       "text": [
        "Skipping DUG, due to only have 33/41 years of data\n",
        "1873/2195  "
       ]
      },
      {
       "output_type": "stream",
       "stream": "stdout",
       "text": [
        "Skipping UNO, due to only have 16/41 years of data\n",
        "1874/2195  "
       ]
      },
      {
       "output_type": "stream",
       "stream": "stdout",
       "text": [
        "OMA NE_ASOS => 66.24\n",
        "1875/2195  "
       ]
      },
      {
       "output_type": "stream",
       "stream": "stdout",
       "text": [
        "Skipping ITH, due to only have 8/41 years of data\n",
        "1877/2195  "
       ]
      },
      {
       "output_type": "stream",
       "stream": "stdout",
       "text": [
        "Skipping OMH, due to only have 21/41 years of data\n",
        "1880/2195  "
       ]
      },
      {
       "output_type": "stream",
       "stream": "stdout",
       "text": [
        "RDU NC_ASOS => 47.81\n",
        "1881/2195  "
       ]
      },
      {
       "output_type": "stream",
       "stream": "stdout",
       "text": [
        "Skipping AAF, due to only have 23/41 years of data\n",
        "1885/2195  "
       ]
      },
      {
       "output_type": "stream",
       "stream": "stdout",
       "text": [
        "BIL MT_ASOS => 46.34\n",
        "1887/2195  "
       ]
      },
      {
       "output_type": "stream",
       "stream": "stdout",
       "text": [
        "Skipping BIH, due to only have 28/41 years of data\n",
        "1889/2195  "
       ]
      },
      {
       "output_type": "stream",
       "stream": "stdout",
       "text": [
        "Skipping BID, due to only have 23/41 years of data\n",
        "1890/2195  "
       ]
      },
      {
       "output_type": "stream",
       "stream": "stdout",
       "text": [
        "Skipping BIE, due to only have 15/41 years of data\n",
        "1892/2195  "
       ]
      },
      {
       "output_type": "stream",
       "stream": "stdout",
       "text": [
        "Skipping BIX, due to only have 35/41 years of data\n",
        "1895/2195  "
       ]
      },
      {
       "output_type": "stream",
       "stream": "stdout",
       "text": [
        "BIS ND_ASOS => 59.84\n",
        "1900/2195  "
       ]
      },
      {
       "output_type": "stream",
       "stream": "stdout",
       "text": [
        "SLN KS_ASOS => 67.53\n",
        "1901/2195  "
       ]
      },
      {
       "output_type": "stream",
       "stream": "stdout",
       "text": [
        "Skipping SLO, due to only have 12/41 years of data\n",
        "1903/2195  "
       ]
      },
      {
       "output_type": "stream",
       "stream": "stdout",
       "text": [
        "Skipping SLI, due to only have 5/41 years of data\n",
        "1904/2195  "
       ]
      },
      {
       "output_type": "stream",
       "stream": "stdout",
       "text": [
        "Skipping SLK, due to only have 14/41 years of data\n",
        "1905/2195  "
       ]
      },
      {
       "output_type": "stream",
       "stream": "stdout",
       "text": [
        "SLE OR_ASOS => 45.38\n",
        "1908/2195  "
       ]
      },
      {
       "output_type": "stream",
       "stream": "stdout",
       "text": [
        "MCO FL_ASOS => 20.62\n",
        "1909/2195  "
       ]
      },
      {
       "output_type": "stream",
       "stream": "stdout",
       "text": [
        "MCN GA_ASOS => 33.70\n",
        "1910/2195  "
       ]
      },
      {
       "output_type": "stream",
       "stream": "stdout",
       "text": [
        "Skipping MCK, due to only have 12/41 years of data\n",
        "1912/2195  "
       ]
      },
      {
       "output_type": "stream",
       "stream": "stdout",
       "text": [
        "MCI MO_ASOS => 61.90\n",
        "1913/2195  "
       ]
      },
      {
       "output_type": "stream",
       "stream": "stdout",
       "text": [
        "Skipping MCF, due to only have 34/41 years of data\n",
        "1916/2195  "
       ]
      },
      {
       "output_type": "stream",
       "stream": "stdout",
       "text": [
        "Skipping MCC, due to only have 25/41 years of data\n",
        "1918/2195  "
       ]
      },
      {
       "output_type": "stream",
       "stream": "stdout",
       "text": [
        "GFK ND_ASOS => 55.21\n",
        "1919/2195  "
       ]
      },
      {
       "output_type": "stream",
       "stream": "stdout",
       "text": [
        "Skipping GFL, due to only have 36/41 years of data\n",
        "1921/2195  "
       ]
      },
      {
       "output_type": "stream",
       "stream": "stdout",
       "text": [
        "MCW IA_ASOS => 58.24\n",
        "1922/2195  "
       ]
      },
      {
       "output_type": "stream",
       "stream": "stdout",
       "text": [
        "Skipping GFA, due to only have 30/41 years of data\n",
        "1926/2195  "
       ]
      },
      {
       "output_type": "stream",
       "stream": "stdout",
       "text": [
        "BGM NY_ASOS => 45.27\n",
        "1927/2195  "
       ]
      },
      {
       "output_type": "stream",
       "stream": "stdout",
       "text": [
        "BGR ME_ASOS => 46.11\n",
        "1932/2195  "
       ]
      },
      {
       "output_type": "stream",
       "stream": "stdout",
       "text": [
        "Skipping 4HV, due to only have 0/41 years of data\n",
        "1933/2195  "
       ]
      },
      {
       "output_type": "stream",
       "stream": "stdout",
       "text": [
        "MFR OR_ASOS => 47.40\n",
        "1936/2195  "
       ]
      },
      {
       "output_type": "stream",
       "stream": "stdout",
       "text": [
        "Skipping VNY, due to only have 22/41 years of data\n",
        "1941/2195  "
       ]
      },
      {
       "output_type": "stream",
       "stream": "stdout",
       "text": [
        "Skipping W99, due to only have 10/41 years of data\n",
        "1943/2195  "
       ]
      },
      {
       "output_type": "stream",
       "stream": "stdout",
       "text": [
        "Skipping GPT, due to only have 15/41 years of data\n",
        "1945/2195  "
       ]
      },
      {
       "output_type": "stream",
       "stream": "stdout",
       "text": [
        "Skipping NID, due to only have 7/41 years of data\n",
        "1946/2195  "
       ]
      },
      {
       "output_type": "stream",
       "stream": "stdout",
       "text": [
        "NIP FL_ASOS => 28.54\n",
        "1949/2195  "
       ]
      },
      {
       "output_type": "stream",
       "stream": "stdout",
       "text": [
        "CRP TX_ASOS => 43.72\n",
        "1950/2195  "
       ]
      },
      {
       "output_type": "stream",
       "stream": "stdout",
       "text": [
        "Skipping CRQ, due to only have 18/41 years of data\n",
        "1952/2195  "
       ]
      },
      {
       "output_type": "stream",
       "stream": "stdout",
       "text": [
        "CRW WV_ASOS => 43.41\n",
        "1957/2195  "
       ]
      },
      {
       "output_type": "stream",
       "stream": "stdout",
       "text": [
        "Skipping CRE, due to only have 13/41 years of data\n",
        "1958/2195  "
       ]
      },
      {
       "output_type": "stream",
       "stream": "stdout",
       "text": [
        "FDY OH_ASOS => 41.05\n",
        "1961/2195  "
       ]
      },
      {
       "output_type": "stream",
       "stream": "stdout",
       "text": [
        "Skipping PQL, due to only have 12/41 years of data\n",
        "1962/2195  "
       ]
      },
      {
       "output_type": "stream",
       "stream": "stdout",
       "text": [
        "Skipping FBG, due to only have 34/41 years of data\n",
        "1967/2195  "
       ]
      },
      {
       "output_type": "stream",
       "stream": "stdout",
       "text": [
        "Skipping EFD, due to only have 29/41 years of data\n",
        "1970/2195  "
       ]
      },
      {
       "output_type": "stream",
       "stream": "stdout",
       "text": [
        "RNO NV_ASOS => 29.82\n",
        "1971/2195  "
       ]
      },
      {
       "output_type": "stream",
       "stream": "stdout",
       "text": [
        "Skipping RNM, due to only have 14/41 years of data\n",
        "1973/2195  "
       ]
      },
      {
       "output_type": "stream",
       "stream": "stdout",
       "text": [
        "Skipping RND, due to only have 34/41 years of data\n",
        "1975/2195  "
       ]
      },
      {
       "output_type": "stream",
       "stream": "stdout",
       "text": [
        "Skipping OPF, due to only have 14/41 years of data\n",
        "1981/2195  "
       ]
      },
      {
       "output_type": "stream",
       "stream": "stdout",
       "text": [
        "1982/2195  "
       ]
      },
      {
       "output_type": "stream",
       "stream": "stdout",
       "text": [
        "LCH LA_ASOS => 35.08\n",
        "1983/2195  "
       ]
      },
      {
       "output_type": "stream",
       "stream": "stdout",
       "text": [
        "Skipping LCI, due to only have 19/41 years of data\n",
        "1984/2195  "
       ]
      },
      {
       "output_type": "stream",
       "stream": "stdout",
       "text": [
        "MSN WI_ASOS => 56.31\n",
        "1985/2195  "
       ]
      },
      {
       "output_type": "stream",
       "stream": "stdout",
       "text": [
        "Skipping DVL, due to only have 19/41 years of data\n",
        "1993/2195  "
       ]
      },
      {
       "output_type": "stream",
       "stream": "stdout",
       "text": [
        "Skipping IKW, due to only have 35/41 years of data\n",
        "1995/2195  "
       ]
      },
      {
       "output_type": "stream",
       "stream": "stdout",
       "text": [
        "Skipping OLF, due to only have 14/41 years of data\n",
        "1997/2195  "
       ]
      },
      {
       "output_type": "stream",
       "stream": "stdout",
       "text": [
        "OLM WA_ASOS => 44.63\n",
        "2000/2195  "
       ]
      },
      {
       "output_type": "stream",
       "stream": "stdout",
       "text": [
        "Skipping OLU, due to only have 19/41 years of data\n",
        "2012/2195  "
       ]
      },
      {
       "output_type": "stream",
       "stream": "stdout",
       "text": [
        "CDC UT_ASOS => 34.78\n",
        "2018/2195  "
       ]
      },
      {
       "output_type": "stream",
       "stream": "stdout",
       "text": [
        "Skipping CDR, due to only have 20/41 years of data\n",
        "2019/2195  "
       ]
      },
      {
       "output_type": "stream",
       "stream": "stdout",
       "text": [
        "Skipping CDS, due to only have 32/41 years of data\n",
        "2020/2195  "
       ]
      },
      {
       "output_type": "stream",
       "stream": "stdout",
       "text": [
        "Skipping PLN, due to only have 35/41 years of data\n",
        "2022/2195  "
       ]
      },
      {
       "output_type": "stream",
       "stream": "stdout",
       "text": [
        "Skipping IYK, due to only have 0/41 years of data\n",
        "2025/2195  "
       ]
      },
      {
       "output_type": "stream",
       "stream": "stdout",
       "text": [
        "Skipping MBL, due to only have 19/41 years of data\n",
        "2026/2195  "
       ]
      },
      {
       "output_type": "stream",
       "stream": "stdout",
       "text": [
        "Skipping PPA, due to only have 10/41 years of data\n",
        "2031/2195  "
       ]
      },
      {
       "output_type": "stream",
       "stream": "stdout",
       "text": [
        "Skipping BFD, due to only have 33/41 years of data\n",
        "2033/2195  "
       ]
      },
      {
       "output_type": "stream",
       "stream": "stdout",
       "text": [
        "Skipping GAO, due to only have 8/41 years of data\n",
        "2037/2195  "
       ]
      },
      {
       "output_type": "stream",
       "stream": "stdout",
       "text": [
        "Skipping GAG, due to only have 33/41 years of data\n",
        "2039/2195  "
       ]
      },
      {
       "output_type": "stream",
       "stream": "stdout",
       "text": [
        "Skipping GAD, due to only have 9/41 years of data\n",
        "2040/2195  "
       ]
      },
      {
       "output_type": "stream",
       "stream": "stdout",
       "text": [
        "MBS MI_ASOS => 54.28\n",
        "2041/2195  "
       ]
      },
      {
       "output_type": "stream",
       "stream": "stdout",
       "text": [
        "Skipping JCT, due to only have 34/41 years of data\n",
        "2042/2195  "
       ]
      },
      {
       "output_type": "stream",
       "stream": "stdout",
       "text": [
        "Skipping COE, due to only have 20/41 years of data\n",
        "2045/2195  "
       ]
      },
      {
       "output_type": "stream",
       "stream": "stdout",
       "text": [
        "Skipping MTW, due to only have 18/41 years of data\n",
        "2046/2195  "
       ]
      },
      {
       "output_type": "stream",
       "stream": "stdout",
       "text": [
        "Skipping MTJ, due to only have 17/41 years of data\n",
        "2048/2195  "
       ]
      },
      {
       "output_type": "stream",
       "stream": "stdout",
       "text": [
        "Skipping DAG, due to only have 32/41 years of data\n",
        "2049/2195  "
       ]
      },
      {
       "output_type": "stream",
       "stream": "stdout",
       "text": [
        "Skipping MTN, due to only have 7/41 years of data\n",
        "2051/2195  "
       ]
      },
      {
       "output_type": "stream",
       "stream": "stdout",
       "text": [
        "MTC MI_ASOS => 92.20\n",
        "2052/2195  "
       ]
      },
      {
       "output_type": "stream",
       "stream": "stdout",
       "text": [
        "Skipping DAA, due to only have 32/41 years of data\n",
        "2054/2195  "
       ]
      },
      {
       "output_type": "stream",
       "stream": "stdout",
       "text": [
        "ART NY_ASOS => 49.76\n",
        "2058/2195  "
       ]
      },
      {
       "output_type": "stream",
       "stream": "stdout",
       "text": [
        "Skipping ARA, due to only have 7/41 years of data\n",
        "2060/2195  "
       ]
      },
      {
       "output_type": "stream",
       "stream": "stdout",
       "text": [
        "Skipping ARG, due to only have 20/41 years of data\n",
        "2064/2195  "
       ]
      },
      {
       "output_type": "stream",
       "stream": "stdout",
       "text": [
        "GSP SC_ASOS => 46.90\n",
        "2067/2195  "
       ]
      },
      {
       "output_type": "stream",
       "stream": "stdout",
       "text": [
        "Skipping TIW, due to only have 14/41 years of data\n",
        "2069/2195  "
       ]
      },
      {
       "output_type": "stream",
       "stream": "stdout",
       "text": [
        "Skipping GSB, due to only have 34/41 years of data\n",
        "2070/2195  "
       ]
      },
      {
       "output_type": "stream",
       "stream": "stdout",
       "text": [
        "Skipping TIK, due to only have 12/41 years of data\n",
        "2071/2195  "
       ]
      },
      {
       "output_type": "stream",
       "stream": "stdout",
       "text": [
        "Skipping GSH, due to only have 16/41 years of data\n",
        "2075/2195  "
       ]
      },
      {
       "output_type": "stream",
       "stream": "stdout",
       "text": [
        "GSO NC_ASOS => 49.11\n",
        "2077/2195  "
       ]
      },
      {
       "output_type": "stream",
       "stream": "stdout",
       "text": [
        "Skipping HKY, due to only have 35/41 years of data\n",
        "2078/2195  "
       ]
      },
      {
       "output_type": "stream",
       "stream": "stdout",
       "text": [
        "Skipping HKS, due to only have 13/41 years of data\n",
        "2082/2195  "
       ]
      },
      {
       "output_type": "stream",
       "stream": "stdout",
       "text": [
        "Skipping 4CR, due to only have 0/41 years of data\n",
        "2092/2195  "
       ]
      },
      {
       "output_type": "stream",
       "stream": "stdout",
       "text": [
        "Skipping BVE, due to only have 12/41 years of data\n",
        "2095/2195  "
       ]
      },
      {
       "output_type": "stream",
       "stream": "stdout",
       "text": [
        "Skipping BVO, due to only have 13/41 years of data\n",
        "2102/2195  "
       ]
      },
      {
       "output_type": "stream",
       "stream": "stdout",
       "text": [
        "Skipping EEN, due to only have 20/41 years of data\n",
        "2103/2195  "
       ]
      },
      {
       "output_type": "stream",
       "stream": "stdout",
       "text": [
        "Skipping EED, due to only have 17/41 years of data\n",
        "2104/2195  "
       ]
      },
      {
       "output_type": "stream",
       "stream": "stdout",
       "text": [
        "ROA VA_ASOS => 43.41\n",
        "2107/2195  "
       ]
      },
      {
       "output_type": "stream",
       "stream": "stdout",
       "text": [
        "Skipping OSU, due to only have 15/41 years of data\n",
        "2110/2195  "
       ]
      },
      {
       "output_type": "stream",
       "stream": "stdout",
       "text": [
        "Skipping OSH, due to only have 16/41 years of data\n",
        "2113/2195  "
       ]
      },
      {
       "output_type": "stream",
       "stream": "stdout",
       "text": [
        "Skipping OSC, due to only have 34/41 years of data\n",
        "2115/2195  "
       ]
      },
      {
       "output_type": "stream",
       "stream": "stdout",
       "text": [
        "Skipping ROW, due to only have 35/41 years of data\n",
        "2117/2195  "
       ]
      },
      {
       "output_type": "stream",
       "stream": "stdout",
       "text": [
        "Skipping EWN, due to only have 35/41 years of data\n",
        "2118/2195  "
       ]
      },
      {
       "output_type": "stream",
       "stream": "stdout",
       "text": [
        "BDL CT_ASOS => 49.43\n",
        "2122/2195  "
       ]
      },
      {
       "output_type": "stream",
       "stream": "stdout",
       "text": [
        "Skipping BDR, due to only have 24/41 years of data\n",
        "2123/2195  "
       ]
      },
      {
       "output_type": "stream",
       "stream": "stdout",
       "text": [
        "EWR NJ_ASOS => 48.49\n",
        "2124/2195  "
       ]
      },
      {
       "output_type": "stream",
       "stream": "stdout",
       "text": [
        "Skipping VTN, due to only have 34/41 years of data\n",
        "2125/2195  "
       ]
      },
      {
       "output_type": "stream",
       "stream": "stdout",
       "text": [
        "Skipping LRD, due to only have 33/41 years of data\n",
        "2126/2195  "
       ]
      },
      {
       "output_type": "stream",
       "stream": "stdout",
       "text": [
        "Skipping LRF, due to only have 34/41 years of data\n",
        "2128/2195  "
       ]
      },
      {
       "output_type": "stream",
       "stream": "stdout",
       "text": [
        "Skipping VOK, due to only have 6/41 years of data\n",
        "2130/2195  "
       ]
      },
      {
       "output_type": "stream",
       "stream": "stdout",
       "text": [
        "Skipping LRU, due to only have 13/41 years of data\n",
        "2136/2195  "
       ]
      },
      {
       "output_type": "stream",
       "stream": "stdout",
       "text": [
        "Skipping IDL, due to only have 9/41 years of data\n",
        "2139/2195  "
       ]
      },
      {
       "output_type": "stream",
       "stream": "stdout",
       "text": [
        "Skipping IDA, due to only have 35/41 years of data\n",
        "2143/2195  "
       ]
      },
      {
       "output_type": "stream",
       "stream": "stdout",
       "text": [
        "Skipping TVL, due to only have 13/41 years of data\n",
        "2144/2195  "
       ]
      },
      {
       "output_type": "stream",
       "stream": "stdout",
       "text": [
        "ZZV OH_ASOS => 47.54\n",
        "2148/2195  "
       ]
      },
      {
       "output_type": "stream",
       "stream": "stdout",
       "text": [
        "Skipping CGF, due to only have 0/41 years of data\n",
        "2149/2195  "
       ]
      },
      {
       "output_type": "stream",
       "stream": "stdout",
       "text": [
        "Skipping PMD, due to only have 15/41 years of data\n",
        "2153/2195  "
       ]
      },
      {
       "output_type": "stream",
       "stream": "stdout",
       "text": [
        "ICT KS_ASOS => 65.41\n",
        "2162/2195  "
       ]
      },
      {
       "output_type": "stream",
       "stream": "stdout",
       "text": [
        "Skipping CIC, due to only have 4/41 years of data\n",
        "2164/2195  "
       ]
      },
      {
       "output_type": "stream",
       "stream": "stdout",
       "text": [
        "MSY LA_ASOS => 22.42\n",
        "2165/2195  "
       ]
      },
      {
       "output_type": "stream",
       "stream": "stdout",
       "text": [
        "CID IA_ASOS => 57.06\n",
        "2167/2195  "
       ]
      },
      {
       "output_type": "stream",
       "stream": "stdout",
       "text": [
        "MSS NY_ASOS => 44.70\n",
        "2168/2195  "
       ]
      },
      {
       "output_type": "stream",
       "stream": "stdout",
       "text": [
        "MSP MN_ASOS => 57.68\n",
        "2169/2195  "
       ]
      },
      {
       "output_type": "stream",
       "stream": "stdout",
       "text": [
        "MSO MT_ASOS => 46.05\n",
        "2171/2195  "
       ]
      },
      {
       "output_type": "stream",
       "stream": "stdout",
       "text": [
        "MSL AL_ASOS => 41.35\n",
        "2173/2195  "
       ]
      },
      {
       "output_type": "stream",
       "stream": "stdout",
       "text": [
        "Skipping AQW, due to only have 15/41 years of data\n",
        "2176/2195  "
       ]
      },
      {
       "output_type": "stream",
       "stream": "stdout",
       "text": [
        "DAB FL_ASOS => 22.26\n",
        "2178/2195  "
       ]
      },
      {
       "output_type": "stream",
       "stream": "stdout",
       "text": [
        "DAL TX_ASOS => 53.44\n",
        "2179/2195  "
       ]
      },
      {
       "output_type": "stream",
       "stream": "stdout",
       "text": [
        "Skipping DAN, due to only have 18/41 years of data\n",
        "2183/2195  "
       ]
      },
      {
       "output_type": "stream",
       "stream": "stdout",
       "text": [
        "DAY OH_ASOS => 50.63\n",
        "2188/2195  "
       ]
      },
      {
       "output_type": "stream",
       "stream": "stdout",
       "text": [
        "Skipping CEC, due to only have 3/41 years of data\n",
        "2194/2195  "
       ]
      },
      {
       "output_type": "stream",
       "stream": "stdout",
       "text": [
        "Skipping 3A1, due to only have 12/41 years of data\n",
        "2195/2195  "
       ]
      },
      {
       "output_type": "stream",
       "stream": "stdout",
       "text": [
        "Skipping 3A6, due to only have 2/41 years of data\n"
       ]
      }
     ],
     "prompt_number": 6
    },
    {
     "cell_type": "code",
     "collapsed": false,
     "input": [
      "df = pd.DataFrame(rows)\n",
      "df.set_index('sid', inplace=True)\n",
      "df['useme'] = True"
     ],
     "language": "python",
     "metadata": {},
     "outputs": [],
     "prompt_number": 29
    },
    {
     "cell_type": "code",
     "collapsed": false,
     "input": [
      "for sid in ['GRK', 'MTC', 'IAB']:\n",
      "    df['useme'][sid] = False\n",
      "\n",
      "print df[df.network=='TX_ASOS']"
     ],
     "language": "python",
     "metadata": {},
     "outputs": [
      {
       "output_type": "stream",
       "stream": "stdout",
       "text": [
        "          lat        lon  network        val  useme\n",
        "sid                                                \n",
        "SPS  33.97860  -98.49280  TX_ASOS  48.618512   True\n",
        "MAF  31.94250 -102.18917  TX_ASOS  55.114741   True\n",
        "GRK  31.07000  -97.83000  TX_ASOS   0.000000  False\n",
        "SAT  29.53369  -98.46978  TX_ASOS  43.699404   True\n",
        "VCT  28.86140  -96.93030  TX_ASOS  36.691761   True\n",
        "BRO  25.91461  -97.42313  TX_ASOS  33.942129   True\n",
        "HOU  29.63747  -95.28245  TX_ASOS  32.453114   True\n",
        "BPT  29.95000  -94.02000  TX_ASOS  34.248637   True\n",
        "ELP  31.81111 -106.37583  TX_ASOS  53.966312   True\n",
        "NGP  27.69263  -97.29109  TX_ASOS  41.965552   True\n",
        "IAH  29.98443  -95.34144  TX_ASOS  30.092732   True\n",
        "AMA  35.21936 -101.70592  TX_ASOS  65.368951   True\n",
        "ACT  31.61797  -97.22830  TX_ASOS  51.155584   True\n",
        "SJT  31.35167 -100.49500  TX_ASOS  56.661512   True\n",
        "FTW  32.81978  -97.36244  TX_ASOS  54.131380   True\n",
        "ABI  32.41131  -99.68189  TX_ASOS  55.941852   True\n",
        "LBB  33.66364 -101.82278  TX_ASOS  61.982855   True\n",
        "CRP  27.77306  -97.51278  TX_ASOS  43.715004   True\n",
        "DAL  32.84711  -96.85178  TX_ASOS  53.441430   True\n"
       ]
      }
     ],
     "prompt_number": 30
    },
    {
     "cell_type": "code",
     "collapsed": false,
     "input": [
      "\n",
      "from pyiem.plot import MapPlot\n",
      "import numpy as np\n",
      "\n",
      "df2 = df[df['useme']==True]\n",
      "\n",
      "m = MapPlot(sector='conus', title=\"Percent of Total Precipitation (JJA) between 8 PM and 8 AM Local Time\",\n",
      "            subtitle=\"for June, July, and August. based on automated station data from 1973-2013\")\n",
      "m.contourf(np.array(df2.lon), np.array(df2.lat), np.array(df2.val), np.arange(0,101,5), units='%')\n",
      "#m.plot_values(df2.lon, df2.lat, df2.val, fmt='%.0f')\n",
      "m.postprocess(filename='test.ps')\n",
      "\n"
     ],
     "language": "python",
     "metadata": {},
     "outputs": [
      {
       "metadata": {},
       "output_type": "display_data",
       "png": "[encoded data removed]",
       "text": [
        "<matplotlib.figure.Figure at 0x61edf50>"
       ]
      }
     ],
     "prompt_number": 33
    },
    {
     "cell_type": "code",
     "collapsed": false,
     "input": [
      "m.close()"
     ],
     "language": "python",
     "metadata": {},
     "outputs": [
      {
       "output_type": "stream",
       "stream": "stderr",
       "text": [
        "/usr/lib64/python2.6/site-packages/matplotlib/__init__.py:1155: UserWarning:  This call to matplotlib.use() has no effect\n",
        "because the backend has already been chosen;\n",
        "matplotlib.use() must be called *before* pylab, matplotlib.pyplot,\n",
        "or matplotlib.backends is imported for the first time.\n",
        "\n",
        "  warnings.warn(_use_error_msg)\n"
       ]
      }
     ],
     "prompt_number": 34
    },
    {
     "cell_type": "code",
     "collapsed": false,
     "input": [],
     "language": "python",
     "metadata": {},
     "outputs": []
    }
   ],
   "metadata": {}
  }
 ]
}