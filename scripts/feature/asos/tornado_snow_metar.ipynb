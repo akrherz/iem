{
 "metadata": {
  "name": "",
  "signature": "sha256:f291fef6b458028b7bf3de6af41f639d4cad382d27c119a144022161d83505f7"
 },
 "nbformat": 3,
 "nbformat_minor": 0,
 "worksheets": [
  {
   "cells": [
    {
     "cell_type": "code",
     "collapsed": false,
     "input": [
      "%pylab inline\n",
      "import psycopg2\n",
      "from pandas.io.sql import read_sql\n",
      "\n",
      "pgconn = psycopg2.connect(database='asos', host='localhost', port=5555, user='nobody')\n",
      "\n",
      "df = None\n",
      "# No events found prior to 1971\n",
      "for year in range(1971, 2016):\n",
      "    print year\n",
      "    df2 = read_sql(\"\"\"SELECT station, valid at time zone 'UTC', metar from t\"\"\"+str(year)+\"\"\"\n",
      "  where length(station) = 3 and length(metar) > 2 and (metar ~* 'TORNADO' or metar ~* '\\+FC') ORDER by valid ASC\"\"\", pgconn)\n",
      "    if len(df2) > 0:\n",
      "        print year, len(df2)\n",
      "        if df is None:\n",
      "            df = df2\n",
      "        else:\n",
      "            df = df.append(df2)\n"
     ],
     "language": "python",
     "metadata": {},
     "outputs": [
      {
       "output_type": "stream",
       "stream": "stdout",
       "text": [
        "Populating the interactive namespace from numpy and matplotlib\n",
        "1971"
       ]
      },
      {
       "output_type": "stream",
       "stream": "stdout",
       "text": [
        "\n",
        "1971"
       ]
      },
      {
       "output_type": "stream",
       "stream": "stdout",
       "text": [
        " 6\n",
        "1972\n",
        "1972"
       ]
      },
      {
       "output_type": "stream",
       "stream": "stdout",
       "text": [
        " 4\n",
        "1973\n",
        "1973"
       ]
      },
      {
       "output_type": "stream",
       "stream": "stdout",
       "text": [
        " 279\n",
        "1974\n",
        "1974"
       ]
      },
      {
       "output_type": "stream",
       "stream": "stdout",
       "text": [
        " 196\n",
        "1975\n",
        "1975"
       ]
      },
      {
       "output_type": "stream",
       "stream": "stdout",
       "text": [
        " 215\n",
        "1976\n",
        "1976"
       ]
      },
      {
       "output_type": "stream",
       "stream": "stdout",
       "text": [
        " 121\n",
        "1977\n",
        "1977"
       ]
      },
      {
       "output_type": "stream",
       "stream": "stdout",
       "text": [
        " 80\n",
        "1978\n",
        "1978"
       ]
      },
      {
       "output_type": "stream",
       "stream": "stdout",
       "text": [
        " 78\n",
        "1979\n",
        "1979"
       ]
      },
      {
       "output_type": "stream",
       "stream": "stdout",
       "text": [
        " 113\n",
        "1980\n",
        "1980"
       ]
      },
      {
       "output_type": "stream",
       "stream": "stdout",
       "text": [
        " 52\n",
        "1981\n",
        "1981"
       ]
      },
      {
       "output_type": "stream",
       "stream": "stdout",
       "text": [
        " 39\n",
        "1982\n",
        "1982"
       ]
      },
      {
       "output_type": "stream",
       "stream": "stdout",
       "text": [
        " 40\n",
        "1983\n",
        "1983"
       ]
      },
      {
       "output_type": "stream",
       "stream": "stdout",
       "text": [
        " 44\n",
        "1984\n",
        "1984"
       ]
      },
      {
       "output_type": "stream",
       "stream": "stdout",
       "text": [
        " 46\n",
        "1985\n",
        "1985"
       ]
      },
      {
       "output_type": "stream",
       "stream": "stdout",
       "text": [
        " 40\n",
        "1986\n",
        "1986"
       ]
      },
      {
       "output_type": "stream",
       "stream": "stdout",
       "text": [
        " 37\n",
        "1987\n",
        "1987"
       ]
      },
      {
       "output_type": "stream",
       "stream": "stdout",
       "text": [
        " 37\n",
        "1988\n",
        "1988"
       ]
      },
      {
       "output_type": "stream",
       "stream": "stdout",
       "text": [
        " 52\n",
        "1989\n",
        "1989"
       ]
      },
      {
       "output_type": "stream",
       "stream": "stdout",
       "text": [
        " 47\n",
        "1990\n",
        "1990"
       ]
      },
      {
       "output_type": "stream",
       "stream": "stdout",
       "text": [
        " 54\n",
        "1991\n",
        "1991"
       ]
      },
      {
       "output_type": "stream",
       "stream": "stdout",
       "text": [
        " 85\n",
        "1992\n",
        "1992"
       ]
      },
      {
       "output_type": "stream",
       "stream": "stdout",
       "text": [
        " 177\n",
        "1993\n",
        "1993"
       ]
      },
      {
       "output_type": "stream",
       "stream": "stdout",
       "text": [
        " 90\n",
        "1994\n",
        "1994"
       ]
      },
      {
       "output_type": "stream",
       "stream": "stdout",
       "text": [
        " 128\n",
        "1995\n",
        "1995"
       ]
      },
      {
       "output_type": "stream",
       "stream": "stdout",
       "text": [
        " 175\n",
        "1996\n",
        "1996"
       ]
      },
      {
       "output_type": "stream",
       "stream": "stdout",
       "text": [
        " 219\n",
        "1997\n",
        "1997"
       ]
      },
      {
       "output_type": "stream",
       "stream": "stdout",
       "text": [
        " 184\n",
        "1998\n",
        "1998"
       ]
      },
      {
       "output_type": "stream",
       "stream": "stdout",
       "text": [
        " 284\n",
        "1999\n",
        "1999"
       ]
      },
      {
       "output_type": "stream",
       "stream": "stdout",
       "text": [
        " 222\n",
        "2000\n",
        "2000"
       ]
      },
      {
       "output_type": "stream",
       "stream": "stdout",
       "text": [
        " 118\n",
        "2001\n",
        "2001"
       ]
      },
      {
       "output_type": "stream",
       "stream": "stdout",
       "text": [
        " 114\n",
        "2002\n",
        "2002"
       ]
      },
      {
       "output_type": "stream",
       "stream": "stdout",
       "text": [
        " 121\n",
        "2003\n",
        "2003"
       ]
      },
      {
       "output_type": "stream",
       "stream": "stdout",
       "text": [
        " 222\n",
        "2004\n",
        "2004"
       ]
      },
      {
       "output_type": "stream",
       "stream": "stdout",
       "text": [
        " 217\n",
        "2005\n",
        "2005"
       ]
      },
      {
       "output_type": "stream",
       "stream": "stdout",
       "text": [
        " 101\n",
        "2006\n",
        "2006"
       ]
      },
      {
       "output_type": "stream",
       "stream": "stdout",
       "text": [
        " 154\n",
        "2007\n",
        "2007"
       ]
      },
      {
       "output_type": "stream",
       "stream": "stdout",
       "text": [
        " 53\n",
        "2008\n",
        "2008"
       ]
      },
      {
       "output_type": "stream",
       "stream": "stdout",
       "text": [
        " 38\n",
        "2009\n",
        "2009"
       ]
      },
      {
       "output_type": "stream",
       "stream": "stdout",
       "text": [
        " 44\n",
        "2010\n",
        "2010"
       ]
      },
      {
       "output_type": "stream",
       "stream": "stdout",
       "text": [
        " 83\n",
        "2011\n",
        "2011"
       ]
      },
      {
       "output_type": "stream",
       "stream": "stdout",
       "text": [
        " 92\n",
        "2012\n",
        "2012"
       ]
      },
      {
       "output_type": "stream",
       "stream": "stdout",
       "text": [
        " 70\n",
        "2013\n",
        "2013"
       ]
      },
      {
       "output_type": "stream",
       "stream": "stdout",
       "text": [
        " 81\n",
        "2014\n",
        "2014"
       ]
      },
      {
       "output_type": "stream",
       "stream": "stdout",
       "text": [
        " 210\n",
        "2015\n",
        "2015"
       ]
      },
      {
       "output_type": "stream",
       "stream": "stdout",
       "text": [
        " 68\n"
       ]
      }
     ],
     "prompt_number": 1
    },
    {
     "cell_type": "code",
     "collapsed": false,
     "input": [
      "df.rename(columns={'timezone': 'valid'}, inplace=True)\n",
      "df.to_excel('151113_metar_tor_reports.xlsx', index=False)\n"
     ],
     "language": "python",
     "metadata": {},
     "outputs": [],
     "prompt_number": 4
    },
    {
     "cell_type": "code",
     "collapsed": false,
     "input": [
      "import pytz\n",
      "df['valid'] = df['valid'].apply(lambda x: x.replace(tzinfo=pytz.timezone(\"UTC\")))"
     ],
     "language": "python",
     "metadata": {},
     "outputs": [],
     "prompt_number": 14
    },
    {
     "cell_type": "code",
     "collapsed": false,
     "input": [
      "import datetime\n",
      "cursor = pgconn.cursor()\n",
      "cursor.execute(\"SET TIME ZONE 'UTC'\")\n",
      "done = {}\n",
      "for i, row in df.iterrows():\n",
      "    key = \"%s_%s\" % (row['station'], row['valid'].date())\n",
      "    if key in done:\n",
      "        continue\n",
      "    done[key] = True\n",
      "    cursor.execute(\"\"\"SELECT valid, metar, valid - %s from t\"\"\"+str(row['valid'].year)+\"\"\"\n",
      "    where valid > %s and valid < %s\n",
      "    and station = %s and metar ~* 'SN ' ORDER by valid ASC\"\"\", (row['valid'], row['valid'],\n",
      "                                            row['valid'] + datetime.timedelta(hours=24),\n",
      "                                            row['station']))\n",
      "    if cursor.rowcount > 0:\n",
      "        row2 = cursor.fetchone()\n",
      "        cursor.execute(\"\"\"SELECT name, state, tzname from stations\n",
      "        where id = %s and network ~* 'ASOS'\n",
      "        \"\"\", (row['station'], ))\n",
      "        meta = cursor.fetchone()\n",
      "        localtz = pytz.timezone(meta[2])\n",
      "        tornts = row['valid'].astimezone(localtz)\n",
      "        snowts = row2[0].astimezone(localtz)\n",
      "        print '----------------------------'\n",
      "        print \"ID: %s Date: %s Name: %s State: %s Interval: %.0fh %.0fm\\n%s => %s\\n%s => %s\" % (\n",
      "            row['station'], tornts.strftime(\"%d %b %Y\"), meta[0], meta[1], row2[2].seconds / 3600, row2[2].seconds % 3600 / 60,\n",
      "                                             tornts.strftime(\"%d %b %Y %I:%M %p\"),\n",
      "        row['metar'].strip(),\n",
      "                                        snowts.strftime(\"%d %b %Y %I:%M %p\"), row2[1].strip())\n",
      "        "
     ],
     "language": "python",
     "metadata": {},
     "outputs": [
      {
       "output_type": "stream",
       "stream": "stdout",
       "text": [
        "----------------------------\n",
        "ID: POB Date: 03 Mar 1971 Name: POPE_AFB State: NC Interval: 11h 0m\n",
        "03 Mar 1971 03:00 PM => METAR KPOB 032000Z 07004KT 15/8SM -RA FG CLR 13/12 A2940 RMK F2 CIG 2V5 PIREP CONFIROMED TORNADO 20E FAY MOVMT UNKN WET RWY 1015 SLPNO 8/935 T01280117\n",
        "04 Mar 1971 02:00 AM => METAR KPOB 040700Z 30006KT 1SM -SN CLR 02/M02 A2949 RMK R22VR60+ S6 CIG 14V16 PRESRR WET RWY SLPNO 8/015 T00171022\n",
        "----------------------------"
       ]
      },
      {
       "output_type": "stream",
       "stream": "stdout",
       "text": [
        "\n",
        "ID: PRC Date: 20 Apr 1973 Name: PRESCOTT/LOVE FLD State: AZ Interval: 7h 0m\n",
        "20 Apr 1973 01:00 PM => KPRC 202000Z 21010KT 40SM BKN030 09/M08 A2977 RMK RWU ALQDS MTNS OBSCD S-W/UUA TORNADO SIGHTED 10SW P14 B52.20N INW MDT RIME ICG 130 BE36PRC4/18 SLP064 8/950 T00881077\n",
        "20 Apr 1973 08:00 PM => KPRC 210300Z 12008KT 10SM -SHSN OVC013 01/M03 A2993 RMK RE09 SB10 SLP138 T00111033 52034\n",
        "----------------------------"
       ]
      },
      {
       "output_type": "stream",
       "stream": "stdout",
       "text": [
        "\n",
        "ID: MSN Date: 09 May 1973 Name: MADISON State: WI Interval: 1h 0m\n",
        "09 May 1973 02:00 PM => METAR KMSN 091900Z 22018G27KT 15SM BKN030 OVC042 19/13 A2959 RMK BINOVCMSN5/1 MSP FINOUUA 4 NW LAKEVILLE TORNADO 4-5 NW Y12 ON HIWAY 35W HEA 8 ENE TOWARD ROSEMOUNT. DUMPED SEVERAL TRAILERS IN TRAILER PARK. SLP019 8/842 T01890128\n",
        "09 May 1973 03:00 PM => METAR KMSN 092000Z 22017G27KT 15SM BKN033 BKN070 21/13 A2955 RMK MSN5/1 SLP007 T02060128\n",
        "----------------------------"
       ]
      },
      {
       "output_type": "stream",
       "stream": "stdout",
       "text": [
        "\n",
        "ID: GAG Date: 19 Nov 1973 Name: GAGE/SHATTUCK State: OK Interval: 12h 47m\n",
        "19 Nov 1973 05:13 PM => KGAG 192313Z 19020G30KT 7SM TSRA OVC010 A2950 RMK TB11 OVHD-S MOVG N FQT LTGICCG S PRESRR/ PUBLIC REPORTS TORNADO ON GND BETWEEN ARNETT AND VICI SLPNO\n",
        "20 Nov 1973 06:00 AM => KGAG 201200Z 30018KT 3SM RASN OVC002 02/M01 A2959 RMK SLP023 70030 T00161005 52003\n",
        "----------------------------"
       ]
      },
      {
       "output_type": "stream",
       "stream": "stdout",
       "text": [
        "\n",
        "ID: IAB Date: 21 Feb 1974 Name: MCCONNELL_AFB State: KS Interval: 5h 0m\n",
        "21 Feb 1974 06:00 PM => METAR KIAB 212300Z 32030G42KT 8SM BKN016 OVC050 01/M02 A2976 RMK RCD 140/PK WND WET RWY M147 067/75/68/1828/974/PK WND 18/45/UA 2250 DURGD BFM 6 HND AND BLO SVR TURBC BE35 UA 2255 PSBL TORNADO 25 SW M SLPNO T00111021 5302/\n",
        "21 Feb 1974 11:00 PM => METAR KIAB 220400Z 31024G37KT 4SM -SN -BLSN OVC022 01/M04 A2990 RMK RCD130/PK WND WET RWY SLPNO T00061043 5301/\n",
        "----------------------------"
       ]
      },
      {
       "output_type": "stream",
       "stream": "stdout",
       "text": [
        "\n",
        "ID: HTS Date: 03 Apr 1974 Name: HUNTINGTON/TRI STAT State: WV Interval: 17h 0m\n",
        "03 Apr 1974 07:00 PM => KHTS 032300Z 18012G18KT 15SM SCT050 OVC200 28/14 A2956 RMK TORNADO 10E OF HUNTINGTON BY PUBLIC AT 2140 SLP005 T02780139\n",
        "04 Apr 1974 12:00 PM => KHTS 041600Z 16012G17KT 10SM BKN040 OVC200 22/17 A2962 RMK UA DCA-CSN MDT CHOP AFT CSN IN CLR NO TURBC. 15E CRW LGT CHOP 100 C131 SLP022 8/543 T02220172\n",
        "----------------------------"
       ]
      },
      {
       "output_type": "stream",
       "stream": "stdout",
       "text": [
        "\n",
        "ID: OTM Date: 10 Jan 1975 Name: OTTUMWA State: IA Interval: 7h 0m\n",
        "10 Jan 1975 03:00 PM => METAR KOTM 102100Z 21018G23KT 7SM OVC006 09/06 A2885 RMK UNCFM TORNADO RPTD BY PUBLIC AT 2005 OVR OTM MOVMT UNK SLP774 P0001 T00890061 55027\n",
        "10 Jan 1975 10:00 PM => METAR KOTM 110400Z 24024G30KT 7SM -SN OVC010 M03/M04 A2893 RMK SB33 CIG RGD SLP803 T10331044\n",
        "----------------------------"
       ]
      },
      {
       "output_type": "stream",
       "stream": "stdout",
       "text": [
        "\n",
        "ID: CVS Date: 21 Feb 1975 Name: CANNON AFB/CLOVIS State: NM Interval: 1h 0m\n",
        "21 Feb 1975 11:00 PM => KCVS 220600Z 09020KT 5SM -BLSN BKN005 OVC015 01/M02 A2985 RMK LSR02 90402 NZY NUC 0700Z 15 230/53/38/0811/021 TIK LTS 0635 TORNADO AT LTS MOVG N 3/4 INCH HAIL WND W50KNTS GUST TO 82KNTS PRESRR BY TIK SLP097 60020 8/6// T00061016 50000\n",
        "22 Feb 1975 12:00 AM => KCVS 220700Z 06018G24KT 5SM -BLSN BKN005 OVC015 00/M02 A2985 RMK PS02 SLPNO T00001021\n",
        "----------------------------"
       ]
      },
      {
       "output_type": "stream",
       "stream": "stdout",
       "text": [
        "\n",
        "ID: CDS Date: 22 Feb 1975 Name: CHILDRESS MUNICIPAL State: TX Interval: 1h 0m\n",
        "22 Feb 1975 02:00 AM => METAR KCDS 220800Z 31015G23KT 1SM SN FG OVC003 01/00 A2996 RMK PRESRR TORNADO F01 ABT 0600 RPRTD BY PUBLIC SLP151 T00060000\n",
        "22 Feb 1975 03:00 AM => METAR KCDS 220900Z 02020G27KT 5SM -SN FG BKN005 OVC043 01/M01 A2984 RMK PRESFR SLP112 T00061005 57044\n",
        "----------------------------\n",
        "ID: HBR Date: 22 Feb 1975 Name: HOBART MUNICIPAL State: OK Interval: 0h 13m\n",
        "22 Feb 1975 02:00 AM => KHBR 220800Z 36012G22KT 15SM -RA OVC015 02/M01 A2987 RMK TAPE50 T MOVD NE LTGICCG E-SE PRESRRHBR 2/19 LTS AFB CLSD TORNADO DAMAGE2/18 SLP118 T00221005\n",
        "22 Feb 1975 02:13 AM => KHBR 220813Z 33016G24KT 6SM -TSRASN OVC010 A2991 RMK SB10TB13 OVHD MVG E LTGICCC UDSJFK DRJRKJAFUI AFU KKKKKK SLPNO\n",
        "----------------------------"
       ]
      },
      {
       "output_type": "stream",
       "stream": "stdout",
       "text": [
        "\n",
        "ID: LZK Date: 22 Feb 1975 Name: NORTH LITTLE ROCK State: AR Interval: 22h 0m\n",
        "22 Feb 1975 05:00 PM => KLZK 222300Z 22009KT 3SM TSRA BKN009 OVC025 22/18 A2963 RMK TORNADO 10N LIFTD MOVD NNE TORNADO ENDED RB42/ PK WND 18/22 28 SLP034 T02170178\n",
        "23 Feb 1975 04:00 PM => KLZK 232100Z 29011KT 7SM -SN BKN015 OVC025 03/M01 A2970 RMK RE20SB35 / SLP060 8/7// T00331005 56020\n",
        "----------------------------"
       ]
      },
      {
       "output_type": "stream",
       "stream": "stdout",
       "text": [
        "\n",
        "ID: MTC Date: 24 Mar 1975 Name: SELFRIDGE ANGB State: MI Interval: 13h 0m\n",
        "24 Mar 1975 07:00 PM => METAR KMTC 250000Z 23030G48KT 10SM -SHRA BKN030 BKN200 11/00 A2940 RMK UNCONFIRMED TORNADO 10S 2 MOVNT UNKN 2343 UNCONFIRMED FUNNEL CLOUD 15W MOVG E 33600 1903 SLP958 6002/ 7352/ T01060000 52035\n",
        "25 Mar 1975 08:00 AM => METAR KMTC 251300Z 26010G18KT 7SM -SHSN SCT016 OVC026 M01/M07 A2954 RMK LSR14P SLPNO T10101066\n",
        "----------------------------"
       ]
      },
      {
       "output_type": "stream",
       "stream": "stdout",
       "text": [
        "\n",
        "ID: MSN Date: 19 May 1975 Name: MADISON State: WI Interval: 1h 0m\n",
        "19 May 1975 01:00 PM => METAR KMSN 191800Z 10015KT 7SM -TSRA SCT010 BKN040 BKN250 18/16 A2962 RMK UNCONFIRMED TORNADO SW MSN MOVG NE 1726 T E MOVG NE FQT LTGICCG E PK WND 23/56 28 PRES UNSTDY PRES SLP027 P0096 T01780161\n",
        "19 May 1975 02:00 PM => METAR KMSN 191900Z 10015KT 7SM -TSRA SCT030 BKN060 OVC250 18/16 A2960 RMK TE20 MOVD NE PK WND CB N-E SLP027 T01780161 5104/\n",
        "----------------------------"
       ]
      },
      {
       "output_type": "stream",
       "stream": "stdout",
       "text": [
        "\n",
        "ID: PIA Date: 29 Nov 1975 Name: PEORIA State: IL Interval: 12h 0m\n",
        "29 Nov 1975 11:00 PM => METAR KPIA 300500Z 24018G29KT 5SM TSRA OVC005 14/13 A2956 RMK 10SE PIA UNCONFIRMED TORNADO BY PUBLIC 0450 T B33 ALQDS MOVG E FQT LTGICCCCG ALQDS RB32 PK WND 1841/04 PRJMP 6/0425/31 SLP012 P0028 T01390128\n",
        "30 Nov 1975 11:00 AM => METAR KPIA 301700Z 26018G24KT 9SM -SN OVC019 M01/M03 A2983 RMK PK WND 07 UA 1650 12 N PIA OVC58 CLR ABV SLP105 7728/ T10061033 52072\n",
        "----------------------------"
       ]
      },
      {
       "output_type": "stream",
       "stream": "stdout",
       "text": [
        "\n",
        "ID: PIA Date: 04 Mar 1976 Name: PEORIA State: IL Interval: 13h 0m\n",
        "04 Mar 1976 06:00 PM => METAR KPIA 050000Z 17024G32KT 15SM BKN080 OVC220 20/16 A2953 RMK TORNADO S LONDON MILLS MOVG NE BY CIVIL DEFENSE PK WND 1832/51 SLP001 8/057 T02000156 57024\n",
        "05 Mar 1976 07:00 AM => METAR KPIA 051300Z 26020G30KT 10SM -SHSN OVC020 M02/M06 A2994 RMK CIG RGD PK WND 2630/45 SB50 SLP143 T10171061\n",
        "----------------------------"
       ]
      },
      {
       "output_type": "stream",
       "stream": "stdout",
       "text": [
        "\n",
        "ID: ISN Date: 12 Jun 1976 Name: WILLISTON State: ND Interval: 1h 0m\n",
        "12 Jun 1976 04:00 PM => METAR KISN 122100Z 28021G30KT 10SM -SHRA SCT008 OVC020 16/11 A2941 RMK PUBLIC REPORTS TORNADO MILES N NOONAN ND 60 MILES NE ISN 2030 -2035 DSIPTD WND 25V32 RB41 PK WND 2830/55/ 120 18// SLP962 T01560106\n",
        "12 Jun 1976 05:00 PM => METAR KISN 122200Z 27024G31KT 15SM -SHRA SCT008 OVC025 14/11 A2941 RMK HIR CLDS VSB PK WND 2832/18 SLP963 T01440111\n",
        "----------------------------"
       ]
      },
      {
       "output_type": "stream",
       "stream": "stdout",
       "text": [
        "\n",
        "ID: ACB Date: 30 Mar 1977 Name: BELLAIRE State: MI Interval: 5h 0m\n",
        "30 Mar 1977 05:00 PM => METAR KACB 302200Z 20005KT 25SM SCT020 BKN035 OVC120 06/02 A2954 RMK UA /OV IMT160015 2135 /RM RADAR SHOWS POSBL TORNADO UA /OV ESC 270020 2140 /CV58 /RM HOOKS ON CLDS;MQT3/14 SLP017 T00610017\n",
        "30 Mar 1977 10:00 PM => METAR KACB 310300Z 01014G21KT 1SM -FZDZSN FG OVC003 M02/M03 A2966 RMK SB UA /OV MQT 0245 ;FL50 /TP PA23 /SK 17 OVC 50 /TA -5C /IC TRACE/ 224;MQT3/14 SLP064 T10211032\n",
        "----------------------------"
       ]
      },
      {
       "output_type": "stream",
       "stream": "stdout",
       "text": [
        "\n",
        "ID: ISN Date: 17 May 1977 Name: WILLISTON State: ND Interval: 1h 0m\n",
        "17 May 1977 10:00 PM => METAR KISN 180300Z 36010KT 7SM SCT020 BKN090 BKN250 13/12 A2979 RMK PUBLIC REPORTED A TORNADO TOUCHED DOWN IN MCKENZIE COUNTY ON SOUTH SIDE OF LAKE SAKAKAWEA AT 13798 1578 SLP094 7355/ T01330117 52035\n",
        "17 May 1977 11:00 PM => METAR KISN 180400Z 01010KT 15SM SCT090 SCT250 13/12 A2980 RMK SLP095 T01330117\n",
        "----------------------------"
       ]
      },
      {
       "output_type": "stream",
       "stream": "stdout",
       "text": [
        "\n",
        "ID: GCK Date: 05 Aug 1977 Name: GARDEN_CITY State: KS Interval: 21h 0m\n",
        "05 Aug 1977 08:00 PM => METAR KGCK 060100Z 05015G22KT 15SM TSRA BKN050 OVC100 27/22 A2996 RMK RWU NW TORNADO RPTD BY ACFT NW GCK MVMT UNKN SLP113 T02670217\n",
        "06 Aug 1977 05:00 PM => METAR KGCK 062200Z 19018KT 15SM CLR 35/19 A2996 RMK CB TOP DSN WSW SLP106 T03500189\n",
        "----------------------------"
       ]
      },
      {
       "output_type": "stream",
       "stream": "stdout",
       "text": [
        "\n",
        "ID: BOI Date: 26 Oct 1984 Name: BOISE MUNICIPAL State: ID Interval: 17h 40m\n",
        "26 Oct 1984 10:20 AM => KBOI 261620Z 33010KT 4SM -SHRA SCT015 BKN035 OVC060 A2966 RMK T E18 MOVD E VSBY LWR E/OFF DUTY WEA SVC PERSONNEL TORNADO 6W BOI SHORT DURATION MOVD E SLPNO 8/535\n",
        "27 Oct 1984 04:00 AM => KBOI 271000Z 23003KT 15SM -SHSN BKN050 OVC070 03/M03 A2993 RMK SB38 SLP143 T00331028\n",
        "----------------------------"
       ]
      },
      {
       "output_type": "stream",
       "stream": "stdout",
       "text": [
        "\n",
        "ID: HMN Date: 06 Jan 1986 Name: HOLLOMAN AFB State: NM Interval: 8h 45m\n",
        "06 Jan 1986 07:00 PM => KHMN 070200Z 27008KT 1SM FG OVC002 M/M A2982 RMK UNCONFIRMED TORNADO 20NNE HMN 0139 MOVMT UNKN SLP091 T////////\n",
        "07 Jan 1986 03:45 AM => KHMN 071045Z 34016KT 30SM -SHSN SCT050 BKN100 A3000 RMK PCPN VRY LGT SLPNO\n",
        "----------------------------"
       ]
      },
      {
       "output_type": "stream",
       "stream": "stdout",
       "text": [
        "\n",
        "ID: MSN Date: 11 Jul 1986 Name: MADISON State: WI Interval: 1h 0m\n",
        "11 Jul 1986 06:00 PM => METAR KMSN 112300Z 08009KT 10SM SCT010 SCT025 SCT300 25/22 A2966 RMK TORNADO B2200E05 11/2E MOVD SE TE20 MOVD SE CB ALQDS RE20 SLP038 T02500217\n",
        "11 Jul 1986 07:00 PM => METAR KMSN 120000Z 08008KT 10SM SCT010 SCT025 SCT300 24/21 A2964 RMK CB ALQDS RWU NE RB33E34/ SLP032 60000 8/903 T02390211 58010\n",
        "----------------------------"
       ]
      },
      {
       "output_type": "stream",
       "stream": "stdout",
       "text": [
        "\n",
        "ID: RKS Date: 30 May 1989 Name: ROCK SPRINGS State: WY Interval: 11h 0m\n",
        "30 May 1989 01:00 PM => KRKS 301900Z 05012KT 15SM -TSRA SCT010 BKN020 07/00 A2995 RMK TORNADO B20E25 SE DSIPD TB18RB18 E MOVG E SLP110 T00720000\n",
        "31 May 1989 12:00 AM => KRKS 310600Z 22004KT 1SM -SN FG OVC008 01/00 A3013 RMK RE20SB25/ SLP189 P0010 60014 T00060000 53019\n",
        "----------------------------"
       ]
      },
      {
       "output_type": "stream",
       "stream": "stdout",
       "text": [
        "\n",
        "ID: NMM Date: 28 Mar 1991 Name: MERIDIAN NAS/MCCAIN State: MS Interval: 9h 0m\n",
        "28 Mar 1991 06:00 PM => METAR KNMM 290000Z 04008KT 1/2SM SHRA OVC010 17/13 A2970 RMK TORNADO 1SW MOV NE KTS TE55 CB OVHD STNRY T1 SET/ 61932 19// 71 SLP059 60031 T01670133\n",
        "29 Mar 1991 03:00 AM => METAR KNMM 290900Z 35015G28KT 3SM TSRA DZ BKN023 OVC120 18/18 A2952 RMK CB SW-NW-N MOVG G T 7NW OOVG NE FQU LTGICCCCA .A!$=$AK CSN AAA)CA\n",
        "----------------------------"
       ]
      },
      {
       "output_type": "stream",
       "stream": "stdout",
       "text": [
        "\n",
        "ID: CMX Date: 18 Sep 1991 Name: HANCOCK State: MI Interval: 19h 0m\n",
        "18 Sep 1991 11:00 AM => METAR KCMX 181500Z 23012G22KT 10SM -RA OVC012 07/06 A2965 RMK TORNADO AND WATERSPOUT MVD NE/ SLP049 T00720056 51003\n",
        "19 Sep 1991 06:00 AM => METAR KCMX 191000Z 27010KT 3SM -SN OVC015 03/01 A3016 RMK SB40 SLP226 T00280011\n",
        "----------------------------"
       ]
      },
      {
       "output_type": "stream",
       "stream": "stdout",
       "text": [
        "\n",
        "ID: NIP Date: 12 Mar 1993 Name: JACKSONVILLE NAS State: FL Interval: 19h 0m\n",
        "12 Mar 1993 10:00 PM => METAR KNIP 130300Z 15020G27KT 7SM SCT050 SCT080 OVC250 21/13 A2959 RMK PRESFR/ /SVR T2/TORNADO T2 SLP019 8/557 T02110127 58046\n",
        "13 Mar 1993 05:00 PM => METAR KNIP 132200Z 27028G40KT 7SM -SN OVC030 04/M07 A2967 RMK SLP046 T00441067\n",
        "----------------------------\n",
        "ID: NKT Date: 13 Mar 1993 Name: CHERRY_POINT_MCAS State: NC Interval: 9h 0m\n",
        "13 Mar 1993 11:00 AM => METAR KNKT 131600Z 13012G20KT 3SM -SHRA FG SCT002 OVC005 17/16 A2886 RMK TORNADO CONDITION 2 PRESFR SLP774 T01660155\n",
        "13 Mar 1993 08:00 PM => METAR KNKT 140100Z 23029G42KT 5SM -SN OVC015 03/M02 A2899 RMK PK WND 2345/05 SLP818 T00331017\n",
        "----------------------------"
       ]
      },
      {
       "output_type": "stream",
       "stream": "stdout",
       "text": [
        "\n",
        "ID: FCS Date: 25 Apr 1994 Name: FORT CARSON/BUTTS State: CO Interval: 2h 22m\n",
        "25 Apr 1994 01:03 PM => KFCS 251903Z /////KT 6SM CLR A//// RMK TORNADOTORNADO 3E MOVG S; SLPNO\n",
        "25 Apr 1994 03:25 PM => KFCS 252125Z 01007KT 3SM -SHRASN SCT010 OVC015 A2944 RMK T MOVD SE; SLPNO\n",
        "----------------------------"
       ]
      },
      {
       "output_type": "stream",
       "stream": "stdout",
       "text": [
        "\n",
        "ID: NHK Date: 08 Mar 1995 Name: PATUXENT RIVER NAS State: MD Interval: 8h 0m\n",
        "08 Mar 1995 05:00 PM => KNHK 082200Z 16011G22KT 11/4SM FG SCT003 BKN006 OVC012 12/11 A2971 RMK F BNK NW-N WR// WR// LLWS ALERT T2 SET TORNADO COND II TWR VSBY PRESFR; SLP061 8/1/2 T01220111\n",
        "09 Mar 1995 01:00 AM => KNHK 090600Z 34018G27KT 6SM -RASN SCT014 OVC017 02/M01 A2998 RMK RCRNR LLWS ALERT 52037 6009/ 10043 20035 WND 30V01 PK WND 3429/29; SLP151 600// T00171011 580/8\n",
        "----------------------------"
       ]
      },
      {
       "output_type": "stream",
       "stream": "stdout",
       "text": [
        "\n",
        "ID: NMM Date: 18 Jan 1996 Name: MERIDIAN NAS/MCCAIN State: MS Interval: 12h 0m\n",
        "18 Jan 1996 10:00 AM => METAR KNMM 181600Z 15009KT 7SM SCT011 BKN018 BKN025 21/18 A2969 RMK TORNADO COND 2; SLP063 T02060183\n",
        "18 Jan 1996 10:00 PM => METAR KNMM 190400Z 29016G21KT 6SM -SN OVC031 M02/M08 A3001 RMK SLP172 T10221078\n",
        "----------------------------"
       ]
      },
      {
       "output_type": "stream",
       "stream": "stdout",
       "text": [
        "\n",
        "ID: NMM Date: 30 Jan 1996 Name: MERIDIAN NAS/MCCAIN State: MS Interval: 15h 0m\n",
        "30 Jan 1996 06:00 PM => METAR KNMM 310000Z 22003KT 3SM TSRA BKN029 BKN050 OVC090 19/17 A2989 RMK CB OVHD MOVG NE TORNADO S MOVMT UKN SVR T1 SET/ 55007 6001/ 10071 20066; SLP130 6006/ T01890167 580/3\n",
        "31 Jan 1996 09:00 AM => METAR KNMM 311500Z 34008KT 5SM -SN OVC005 M02/M03 A3014 RMK 52030; SLP219 T10221033 580/6\n",
        "----------------------------"
       ]
      },
      {
       "output_type": "stream",
       "stream": "stdout",
       "text": [
        "\n",
        "ID: HTL Date: 04 Apr 1996 Name: HOUGHTON LAKE State: MI Interval: 1h 0m\n",
        "04 Apr 1996 05:00 PM => METAR KHTL 042200Z 01012G16KT 11/4SM -SN FG SCT015 OVC023 M04/M06 A3007 RMK TORNADO SENT IN THE 2101 UTC OBSERVATION WAS A MISTAKE. NO TORNADO EXISTED. TNO ZRNO PCPN 0000 $; SLP200 T10391061\n",
        "04 Apr 1996 06:00 PM => METAR KHTL 042300Z 01013KT 21/2SM -SN FG BKN017 BKN023 OVC047 M04/M07 A3010 RMK BKN V SCT TNO ZRNO PCPN 0000 $; SLP209 T10441067\n",
        "----------------------------"
       ]
      },
      {
       "output_type": "stream",
       "stream": "stdout",
       "text": [
        "\n",
        "ID: NCA Date: 05 Sep 1996 Name: NEW_RIVER_MCAS State: NC Interval: 11h 0m\n",
        "05 Sep 1996 11:56 AM => METAR KNCA 051556Z 06014G22KT 5SM -SHRA BR SCT008 BKN015 OVC030 26/24 A2984 RMK SLP107 TORNADO COND 2 SET P0000 T02610239\n",
        "05 Sep 1996 10:56 PM => METAR KNCA 0256 12050G70KT 1/4SN +SHRA BR VV004 24/24 A2905 RMKS PK WND 11078/26 SLP840 TORNADO COND 2 SET T02440244 55071\n",
        "----------------------------\n",
        "ID: NCA Date: 05 Sep 1996 Name: NEW_RIVER_MCAS State: NC Interval: 2h 0m\n",
        "05 Sep 1996 08:56 PM => METAR KNCA 0056 09050G68KT 1/4SM +SHRA DR DZ 008 24/24 A2913 RMKS PK WND 09068/32 PRESFR SLP 872 TORNADO COND 2 SET T02440244\n",
        "05 Sep 1996 10:56 PM => METAR KNCA 0256 12050G70KT 1/4SN +SHRA BR VV004 24/24 A2905 RMKS PK WND 11078/26 SLP840 TORNADO COND 2 SET T02440244 55071\n",
        "----------------------------"
       ]
      },
      {
       "output_type": "stream",
       "stream": "stdout",
       "text": [
        "\n",
        "ID: MSN Date: 25 Jul 1997 Name: MADISON State: WI Interval: 1h 0m\n",
        "25 Jul 1997 08:54 PM => METAR KMSN 260154Z COR 18006KT 6SM TS BR FEW021 SCT050 BKN085 28/26 A2982 RMK TORNADO B30 2 NW TORNADO E41 AO2 RAE34 PRESFR SLP091 TS OHD MOV E CNS LTGCG E P0016 T02830261\n",
        "25 Jul 1997 09:54 PM => METAR KMSN 260254Z 19004KT 5SM BR FEW047 27/26 A2982 RMK AO2 TSE45RAB0158E42 SLP090 P0001 60034 T02720261 58002\n",
        "----------------------------"
       ]
      },
      {
       "output_type": "stream",
       "stream": "stdout",
       "text": [
        "\n",
        "ID: ROW Date: 02 Dec 1997 Name: ROSWELL/INDUSTRIAL State: NM Interval: 7h 51m\n",
        "02 Dec 1997 03:01 PM => KROW 022201Z 35011KT 10SM +FC FEW033 OVC075 09/04 A2981 RMK TORNADO B00 AO2\n",
        "02 Dec 1997 10:52 PM => KROW 030552Z AUTO 34009KT 7SM -SN OVC004 01/01 A3003 RMK AO2 RAE32SNB32 CIG 003V007 SLP159 P0002 60002 T00110006 10056 20011 51021 TSNO\n",
        "----------------------------"
       ]
      },
      {
       "output_type": "stream",
       "stream": "stdout",
       "text": [
        "\n",
        "ID: AKO Date: 17 May 2000 Name: AKRON/WASHINGTON CO State: CO Interval: 11h 59m\n",
        "17 May 2000 12:54 PM => KAKO 171854Z 07023G34KT 10SM +FC TS FEW026 SCT034 SCT085 19/12 A2927 RMK FUNNEL CLOUD B47EAST MOVING WEST FUNNEL CLOUD E51 TORNADO B52 EAST MOVING WEST\n",
        "18 May 2000 12:53 AM => KAKO 180653Z 34028G34KT 2SM -SN BR BKN007 OVC012 03/02 A2984 RMK AO2 PK WND 34041/0606 RAE13SNB20 CIG 004V010 SLP083 P0004 T00330022 402390033 $\n",
        "----------------------------\n",
        "ID: STK Date: 17 May 2000 Name: Sterling State: CO Interval: 11h 59m\n",
        "17 May 2000 12:54 PM => KAKO 171854Z 07023G34KT 10SM +FC TS FEW026 SCT034 SCT085 19/12 A2927 RMK FUNNEL CLOUD B47EAST MOVING WEST FUNNEL CLOUD E51 TORNADO B52 EAST MOVING WEST AO2 PK WND 06028/1854\n",
        "18 May 2000 12:53 AM => KAKO 180653Z 34028G34KT 2SM -SN BR BKN007 OVC012 03/02 A2984 RMK AO2 PK WND 34041/0606 RAE13SNB20 CIG 004V010 SLP083 P0004 T00330022 402390033 $\n",
        "----------------------------"
       ]
      },
      {
       "output_type": "stream",
       "stream": "stdout",
       "text": [
        "\n",
        "ID: BOI Date: 24 Jan 2004 Name: BOISE MUNICIPAL State: ID Interval: 0h 1m\n",
        "24 Jan 2004 06:46 PM => KBOI 250146Z 36005KT 2SM +FC -SN BR FEW010 BKN049 OVC060 M02/M03 A2971 RMK WATERSPOUT B40 WATERSPOUT E46 AO2 WSHFT 0040 P0002\n",
        "24 Jan 2004 06:47 PM => KBOI 250147Z 01005KT 2SM -SN BR FEW010 BKN049 OVC060 M02/M03 A2970 RMK WATERSPOUT B40 WATERSPOUT E46 AO2 WSHFT 0040 SLP081 P0002 T10221033\n",
        "----------------------------"
       ]
      },
      {
       "output_type": "stream",
       "stream": "stdout",
       "text": [
        "\n",
        "ID: MSN Date: 18 Jun 2006 Name: MADISON State: WI Interval: 1h 0m\n",
        "18 Jun 2006 02:53 PM => KMSN 181953Z 17009KT 10SM FEW020 SCT110 24/21 A2982 RMK AO2 SLP093 NWS TORNADO WARNING IN EFFECT UNTIL 1500 CDT T02390206\n",
        "18 Jun 2006 03:53 PM => KMSN 182053Z 18009KT 9SM SCT020 BKN050 25/21 A2982 RMK AO2 SLP091 60000 T02500211 58002\n",
        "----------------------------"
       ]
      },
      {
       "output_type": "stream",
       "stream": "stdout",
       "text": [
        "\n",
        "ID: CEY Date: 26 Feb 2008 Name: Murray State: KY Interval: 0h 30m\n",
        "26 Feb 2008 02:23 PM => KPAH 262023Z 31011G22KT 7SM +FC OVC019 01/M03 A2996 RMK WATERSPOUT B22 AO2 PK WND 32029/1959\n",
        "26 Feb 2008 02:53 PM => KPAH 262053Z 31020G25KT 4SM -SN BKN021 OVC026 01/M04 A2997 RMK WATERSPOUT B22 WATERSPOUT E23 AO2 PK WND 32029/1959 SNB48 SLP150 TEST P0000 60000 T00111039 53017\n",
        "----------------------------"
       ]
      },
      {
       "output_type": "stream",
       "stream": "stdout",
       "text": [
        "\n",
        "ID: IDA Date: 18 Jan 2012 Name: IDAHO FALLS/FANNING State: ID Interval: 0h 1m\n",
        "18 Jan 2012 12:55 PM => KIDA 181955Z 19014G22KT 8SM +FC -SN BLSN BKN012 OVC022 M02/M04 A2988 RMK TORNADO B54 AO2 P0000\n",
        "18 Jan 2012 12:56 PM => KIDA 181956Z 18014G22KT 9SM -SN BKN012 OVC022 M02/M04 A2988 RMK TORNADO B54 TORNADO E55 AO2 P0000\n",
        "----------------------------"
       ]
      },
      {
       "output_type": "stream",
       "stream": "stdout",
       "text": [
        "\n",
        "ID: PVU Date: 10 Nov 2012 Name: PROVO MUNI (AWOS) State: UT Interval: 18h 54m\n",
        "10 Nov 2012 12:53 PM => KPVU 101953Z 32009KT 15SM +FC FEW024 BKN070 00/M06 A2982 RMK WATERSPOUT 1953 8 SW MOV SE\n",
        "11 Nov 2012 07:47 AM => KPVU 111447Z VRB05KT 10SM -SN SCT014 BKN021 BKN030 M03/M04 A3018\n",
        "----------------------------"
       ]
      },
      {
       "output_type": "stream",
       "stream": "stdout",
       "text": [
        "\n",
        "ID: FCM Date: 24 Mar 2014 Name: MNPLS/FLYING CLD State: MN Interval: 0h 2m\n",
        "24 Mar 2014 07:45 AM => KFCM 241245Z 00000KT 10SM +FC -SN BKN042 M07/M10 A3027 RMK WATERSPOUT B44 AO2 SNB38 P0000\n",
        "24 Mar 2014 07:47 AM => KFCM 241247Z 00000KT 10SM -SN BKN042 M07/M10 A3027 RMK WATERSPOUT B44 WATERSPOUT E46 AO2 SNB38 P0000\n",
        "----------------------------"
       ]
      },
      {
       "output_type": "stream",
       "stream": "stdout",
       "text": [
        "\n",
        "ID: PPF Date: 12 Apr 2014 Name: PARSONS State: KS Interval: 0h 6m\n",
        "12 Apr 2014 10:28 AM => KPPF 121528Z AUTO 18019G27KT 10SM +FC +FZRAFZDZSN FZFG BKN021 21/14 A2983 RMK AO2 PK WNDl180`7/1i13 j1000 T02110144 PWINn TS\u000fO f PNO CHINO\n",
        "12 Apr 2014 10:34 AM => KPPF 121534Z AUTO 18018G26KT 10SM +FC +FZRAFZDZSN FZFG BKN021 21/14 A2983 RMK AO2 PK WNDl180`7/1i13 j1000 T02110144 PWINn TS\u000fO f PNO CHINO\n",
        "----------------------------"
       ]
      },
      {
       "output_type": "stream",
       "stream": "stdout",
       "text": [
        "\n",
        "ID: FAR Date: 28 Oct 2015 Name: FARGO State: ND Interval: 0h 46m\n",
        "28 Oct 2015 09:21 AM => KFAR 281421Z 30018G24KT 7SM +FC -RA SCT022 BKN038 OVC050 03/00 A2962 RMK WATERSPOUT B20 AO2 RAB18 P0000 T00280000\n",
        "28 Oct 2015 10:07 AM => KFAR 281507Z 32014KT 2 1/2SM -SN BR FEW010 BKN014 OVC028 02/01 A2961 RMK AO2 RAE1458SNB1458 P0000 T00220006\n",
        "----------------------------"
       ]
      },
      {
       "output_type": "stream",
       "stream": "stdout",
       "text": [
        "\n",
        "ID: DSM Date: 11 Nov 2015 Name: DES MOINES State: IA Interval: 6h 1m\n",
        "11 Nov 2015 03:36 PM => KDSM 112136Z 24016G46KT 10SM R31/2800VP6000FT +FC TSRA FEW014 BKN034 OVC070 16/13 A2924 RMK TORNADO B35 AO2 PK WND 17046/2130 WSHFT 2119 TSB09 TORNADO B30 VC NE MOV NE OCNL LTGICCG NE-SE TS NE-SE MOV NE P0018 T01560128 $\n",
        "11 Nov 2015 09:37 PM => KDSM 120337Z 28027G41KT 5SM -RASN OVC017 04/01 A2926 RMK AO2 PK WND 28041/0331 SNB35 P0002 T00390011 $\n"
       ]
      }
     ],
     "prompt_number": 23
    },
    {
     "cell_type": "code",
     "collapsed": false,
     "input": [],
     "language": "python",
     "metadata": {},
     "outputs": []
    }
   ],
   "metadata": {}
  }
 ]
}