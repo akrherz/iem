{
 "metadata": {
  "name": "",
  "signature": "sha256:67d2d32cfd7fd9791e1d9c15d3563e681d174a832f761ad1e99747daf1788077"
 },
 "nbformat": 3,
 "nbformat_minor": 0,
 "worksheets": [
  {
   "cells": [
    {
     "cell_type": "code",
     "collapsed": false,
     "input": [
      "%pylab inline\n",
      "import psycopg2\n",
      "\n",
      "from pyiem import network\n",
      "\n",
      "nt = network.Table(('IA_ASOS','MO_ASOS','IL_ASOS', 'ND_ASOS', 'AWOS',\n",
      "          'WI_ASOS','MN_ASOS', 'SD_ASOS', 'NE_ASOS', 'KS_ASOS',\n",
      "          'IN_ASOS','KY_ASOS','OH_ASOS','MI_ASOS'))\n"
     ],
     "language": "python",
     "metadata": {},
     "outputs": [],
     "prompt_number": 3
    },
    {
     "cell_type": "code",
     "collapsed": false,
     "input": [
      "COOPDB = psycopg2.connect(database='coop', host='iemdb', user='nobody')\n",
      "IEMDB = psycopg2.connect(database='iem', host='iemdb', user='nobody')\n",
      "cursor = IEMDB.cursor()\n",
      "ccursor = COOPDB.cursor()\n",
      "\n",
      "cursor.execute(\"\"\"SELECT id, sum(case when max_tmpf >= 89.5 then 1 else 0 end)\n",
      "  from summary_2014 s JOIN stations t on (t.iemid = s.iemid) WHERE\n",
      "  t.network in ('IA_ASOS','MO_ASOS','IL_ASOS', 'ND_ASOS', 'AWOS',\n",
      "          'WI_ASOS','MN_ASOS', 'SD_ASOS', 'NE_ASOS', 'KS_ASOS',\n",
      "          'IN_ASOS','KY_ASOS','OH_ASOS','MI_ASOS') and max_tmpf < 120 GROUP by id\"\"\")\n",
      "lats = []\n",
      "lons = []\n",
      "vals = []\n",
      "for row in cursor:\n",
      "    if not nt.sts.has_key(row[0]):\n",
      "        continue\n",
      "    climatesite = nt.sts[row[0]]['climate_site']\n",
      "    ccursor.execute(\"\"\"SELECT avg(sum) from (\n",
      "    SELECT year, sum(case when high > 89 then 1 else 0 end) from \n",
      "    alldata_\"\"\"+climatesite[:2]+\"\"\" where station = %s and year > 1950 and year < 2014\n",
      "    and sday < '1008'\n",
      "    GROUP by year) as foo\"\"\", (climatesite,) )\n",
      "    row2 = ccursor.fetchone()\n",
      "    print row[0], nt.sts[row[0]]['network'], row[1], row2[0]\n",
      "    lons.append( nt.sts[row[0]]['lon'] )\n",
      "    lats.append( nt.sts[row[0]]['lat'] )\n",
      "    vals.append( row[1] - row2[0] )\n",
      "    "
     ],
     "language": "python",
     "metadata": {},
     "outputs": [
      {
       "output_type": "stream",
       "stream": "stdout",
       "text": [
        "HOP KY_ASOS 33 48.8095238095238095\n",
        "PEX"
       ]
      },
      {
       "output_type": "stream",
       "stream": "stdout",
       "text": [
        " MN_ASOS 0 10.8730158730158730\n",
        "RDR"
       ]
      },
      {
       "output_type": "stream",
       "stream": "stdout",
       "text": [
        " ND_ASOS 3 11.8730158730158730\n",
        "TOB"
       ]
      },
      {
       "output_type": "stream",
       "stream": "stdout",
       "text": [
        " MN_ASOS 0 13.0634920634920635\n",
        "SGF"
       ]
      },
      {
       "output_type": "stream",
       "stream": "stdout",
       "text": [
        " MO_ASOS 37 41.8571428571428571\n",
        "SZL"
       ]
      },
      {
       "output_type": "stream",
       "stream": "stdout",
       "text": [
        " MO_ASOS 19 36.7619047619047619\n",
        "VES"
       ]
      },
      {
       "output_type": "stream",
       "stream": "stdout",
       "text": [
        " OH_ASOS 1 13.8095238095238095\n",
        "CBF"
       ]
      },
      {
       "output_type": "stream",
       "stream": "stdout",
       "text": [
        " AWOS 12 35.0158730158730159\n",
        "CAD"
       ]
      },
      {
       "output_type": "stream",
       "stream": "stdout",
       "text": [
        " MI_ASOS 0 3.7619047619047619\n",
        "S32"
       ]
      },
      {
       "output_type": "stream",
       "stream": "stdout",
       "text": [
        " ND_ASOS 1 13.3333333333333333\n",
        "RRT"
       ]
      },
      {
       "output_type": "stream",
       "stream": "stdout",
       "text": [
        " MN_ASOS 0 3.7142857142857143\n",
        "RNP"
       ]
      },
      {
       "output_type": "stream",
       "stream": "stdout",
       "text": [
        " MI_ASOS 0 8.3809523809523810\n",
        "DNS"
       ]
      },
      {
       "output_type": "stream",
       "stream": "stdout",
       "text": [
        " AWOS 3 16.2539682539682540\n",
        "CID"
       ]
      },
      {
       "output_type": "stream",
       "stream": "stdout",
       "text": [
        " IA_ASOS 1 17.9523809523809524\n",
        "D25"
       ]
      },
      {
       "output_type": "stream",
       "stream": "stdout",
       "text": [
        " WI_ASOS 0 2.0634920634920635\n",
        "FTK"
       ]
      },
      {
       "output_type": "stream",
       "stream": "stdout",
       "text": [
        " KY_ASOS 17 28.6190476190476190\n",
        "TDZ"
       ]
      },
      {
       "output_type": "stream",
       "stream": "stdout",
       "text": [
        " OH_ASOS 7 17.7936507936507937\n",
        "OFK"
       ]
      },
      {
       "output_type": "stream",
       "stream": "stdout",
       "text": [
        " NE_ASOS 11 32.4126984126984127\n",
        "BJJ"
       ]
      },
      {
       "output_type": "stream",
       "stream": "stdout",
       "text": [
        " OH_ASOS 2 6.8412698412698413\n",
        "TTF"
       ]
      },
      {
       "output_type": "stream",
       "stream": "stdout",
       "text": [
        " MI_ASOS 5 11.8412698412698413\n",
        "RZT"
       ]
      },
      {
       "output_type": "stream",
       "stream": "stdout",
       "text": [
        " OH_ASOS 5 22.3174603174603175\n",
        "BWG"
       ]
      },
      {
       "output_type": "stream",
       "stream": "stdout",
       "text": [
        " KY_ASOS 41 30.2063492063492063\n",
        "AID"
       ]
      },
      {
       "output_type": "stream",
       "stream": "stdout",
       "text": [
        " IN_ASOS 2 11.2857142857142857\n",
        "ATW"
       ]
      },
      {
       "output_type": "stream",
       "stream": "stdout",
       "text": [
        " WI_ASOS 1 7.5714285714285714\n",
        "DEC"
       ]
      },
      {
       "output_type": "stream",
       "stream": "stdout",
       "text": [
        " IL_ASOS 10 33.6031746031746032\n",
        "CDR"
       ]
      },
      {
       "output_type": "stream",
       "stream": "stdout",
       "text": [
        " NE_ASOS 41 43.9365079365079365\n",
        "HNB"
       ]
      },
      {
       "output_type": "stream",
       "stream": "stdout",
       "text": [
        " IN_ASOS 11 24.8095238095238095\n",
        "CNU"
       ]
      },
      {
       "output_type": "stream",
       "stream": "stdout",
       "text": [
        " KS_ASOS 43 50.3809523809523810\n",
        "BVN"
       ]
      },
      {
       "output_type": "stream",
       "stream": "stdout",
       "text": [
        " NE_ASOS 3 27.7142857142857143\n",
        "AUM"
       ]
      },
      {
       "output_type": "stream",
       "stream": "stdout",
       "text": [
        " MN_ASOS 0 9.6507936507936508\n",
        "PIA"
       ]
      },
      {
       "output_type": "stream",
       "stream": "stdout",
       "text": [
        " IL_ASOS 13 22.5555555555555556\n",
        "IIB"
       ]
      },
      {
       "output_type": "stream",
       "stream": "stdout",
       "text": [
        " AWOS 5 13.8095238095238095\n",
        "OWB"
       ]
      },
      {
       "output_type": "stream",
       "stream": "stdout",
       "text": [
        " KY_ASOS 29 33.9206349206349206\n",
        "Y70"
       ]
      },
      {
       "output_type": "stream",
       "stream": "stdout",
       "text": [
        " MI_ASOS 0 11.4761904761904762\n",
        "D55"
       ]
      },
      {
       "output_type": "stream",
       "stream": "stdout",
       "text": [
        " ND_ASOS 3 6.3492063492063492\n",
        "EAR"
       ]
      },
      {
       "output_type": "stream",
       "stream": "stdout",
       "text": [
        " NE_ASOS 28 37.4126984126984127\n",
        "FWC"
       ]
      },
      {
       "output_type": "stream",
       "stream": "stdout",
       "text": [
        " IL_ASOS 18 38.5396825396825397\n",
        "STE"
       ]
      },
      {
       "output_type": "stream",
       "stream": "stdout",
       "text": [
        " WI_ASOS 0 6.1269841269841270\n",
        "TBN"
       ]
      },
      {
       "output_type": "stream",
       "stream": "stdout",
       "text": [
        " MO_ASOS 29 44.7460317460317460\n",
        "CQM"
       ]
      },
      {
       "output_type": "stream",
       "stream": "stdout",
       "text": [
        " MN_ASOS 1 4.8095238095238095\n",
        "RST"
       ]
      },
      {
       "output_type": "stream",
       "stream": "stdout",
       "text": [
        " MN_ASOS 0 7.5714285714285714\n",
        "CWA"
       ]
      },
      {
       "output_type": "stream",
       "stream": "stdout",
       "text": [
        " WI_ASOS 5 3.7777777777777778\n",
        "FNT"
       ]
      },
      {
       "output_type": "stream",
       "stream": "stdout",
       "text": [
        " MI_ASOS 2 8.3650793650793651\n",
        "96D"
       ]
      },
      {
       "output_type": "stream",
       "stream": "stdout",
       "text": [
        " ND_ASOS 4 8.7777777777777778\n",
        "EHR"
       ]
      },
      {
       "output_type": "stream",
       "stream": "stdout",
       "text": [
        " KY_ASOS 31 40.8095238095238095\n",
        "06D"
       ]
      },
      {
       "output_type": "stream",
       "stream": "stdout",
       "text": [
        " ND_ASOS 2 6.0158730158730159\n",
        "ORD"
       ]
      },
      {
       "output_type": "stream",
       "stream": "stdout",
       "text": [
        " IL_ASOS 3 22.0634920634920635\n",
        "RZL"
       ]
      },
      {
       "output_type": "stream",
       "stream": "stdout",
       "text": [
        " IN_ASOS 4 17.0952380952380952\n",
        "FCM"
       ]
      },
      {
       "output_type": "stream",
       "stream": "stdout",
       "text": [
        " MN_ASOS 4 9.4444444444444444\n",
        "WLD"
       ]
      },
      {
       "output_type": "stream",
       "stream": "stdout",
       "text": [
        " KS_ASOS 61 59.8412698412698413\n",
        "ONZ"
       ]
      },
      {
       "output_type": "stream",
       "stream": "stdout",
       "text": [
        " MI_ASOS 2 11.8412698412698413\n",
        "LUK"
       ]
      },
      {
       "output_type": "stream",
       "stream": "stdout",
       "text": [
        " OH_ASOS 14 12.4126984126984127\n",
        "VVV"
       ]
      },
      {
       "output_type": "stream",
       "stream": "stdout",
       "text": [
        " MN_ASOS 3 12.0952380952380952\n",
        "BDH"
       ]
      },
      {
       "output_type": "stream",
       "stream": "stdout",
       "text": [
        " MN_ASOS 3 11.0317460317460317\n",
        "DRM"
       ]
      },
      {
       "output_type": "stream",
       "stream": "stdout",
       "text": [
        " MI_ASOS 0 1.6349206349206349\n",
        "ICR"
       ]
      },
      {
       "output_type": "stream",
       "stream": "stdout",
       "text": [
        " SD_ASOS 26 46.1269841269841270\n",
        "MWO"
       ]
      },
      {
       "output_type": "stream",
       "stream": "stdout",
       "text": [
        " OH_ASOS 27 12.7142857142857143\n",
        "INL"
       ]
      },
      {
       "output_type": "stream",
       "stream": "stdout",
       "text": [
        " MN_ASOS 1 3.5714285714285714\n",
        "EOK"
       ]
      },
      {
       "output_type": "stream",
       "stream": "stdout",
       "text": [
        " AWOS 7 29.3174603174603175\n",
        "BBW"
       ]
      },
      {
       "output_type": "stream",
       "stream": "stdout",
       "text": [
        " NE_ASOS 25 31.6190476190476190\n",
        "OSU"
       ]
      },
      {
       "output_type": "stream",
       "stream": "stdout",
       "text": [
        " OH_ASOS 5 18.9841269841269841\n",
        "PHD"
       ]
      },
      {
       "output_type": "stream",
       "stream": "stdout",
       "text": [
        " OH_ASOS 1 7.9682539682539683\n",
        "BMI"
       ]
      },
      {
       "output_type": "stream",
       "stream": "stdout",
       "text": [
        " IL_ASOS 11 20.4603174603174603\n",
        "LWA"
       ]
      },
      {
       "output_type": "stream",
       "stream": "stdout",
       "text": [
        " MI_ASOS 0 2.9841269841269841\n",
        "I39"
       ]
      },
      {
       "output_type": "stream",
       "stream": "stdout",
       "text": [
        " KY_ASOS 16 25.0793650793650794\n",
        "SME"
       ]
      },
      {
       "output_type": "stream",
       "stream": "stdout",
       "text": [
        " KY_ASOS 8 21.3650793650793651\n",
        "BBB"
       ]
      },
      {
       "output_type": "stream",
       "stream": "stdout",
       "text": [
        " MN_ASOS 2 15.1904761904761905\n",
        "HTL"
       ]
      },
      {
       "output_type": "stream",
       "stream": "stdout",
       "text": [
        " MI_ASOS 0 7.6984126984126984\n",
        "APN"
       ]
      },
      {
       "output_type": "stream",
       "stream": "stdout",
       "text": [
        " MI_ASOS 0 6.9841269841269841\n",
        "SNY"
       ]
      },
      {
       "output_type": "stream",
       "stream": "stdout",
       "text": [
        " NE_ASOS 42 35.0793650793650794\n",
        "LNR"
       ]
      },
      {
       "output_type": "stream",
       "stream": "stdout",
       "text": [
        " WI_ASOS 10 13.8571428571428571\n",
        "MIW"
       ]
      },
      {
       "output_type": "stream",
       "stream": "stdout",
       "text": [
        " IA_ASOS 3 17.3333333333333333\n",
        "HHG"
       ]
      },
      {
       "output_type": "stream",
       "stream": "stdout",
       "text": [
        " IN_ASOS 1 16.0952380952380952\n",
        "MDH"
       ]
      },
      {
       "output_type": "stream",
       "stream": "stdout",
       "text": [
        " IL_ASOS 26 45.0476190476190476\n",
        "Y19"
       ]
      },
      {
       "output_type": "stream",
       "stream": "stdout",
       "text": [
        " ND_ASOS 5 18.3809523809523810\n",
        "C75"
       ]
      },
      {
       "output_type": "stream",
       "stream": "stdout",
       "text": [
        " IL_ASOS 3 18.7301587301587302\n",
        "ILL"
       ]
      },
      {
       "output_type": "stream",
       "stream": "stdout",
       "text": [
        " MN_ASOS 0 11.0317460317460317\n",
        "RSV"
       ]
      },
      {
       "output_type": "stream",
       "stream": "stdout",
       "text": [
        " IL_ASOS 29 40.9523809523809524\n",
        "MJQ"
       ]
      },
      {
       "output_type": "stream",
       "stream": "stdout",
       "text": [
        " MN_ASOS 0 18.4285714285714286\n",
        "HCO"
       ]
      },
      {
       "output_type": "stream",
       "stream": "stdout",
       "text": [
        " MN_ASOS 4 8.8888888888888889\n",
        "DPA"
       ]
      },
      {
       "output_type": "stream",
       "stream": "stdout",
       "text": [
        " IL_ASOS 2 14.3015873015873016\n",
        "AHQ"
       ]
      },
      {
       "output_type": "stream",
       "stream": "stdout",
       "text": [
        " NE_ASOS 15 39.3809523809523810\n",
        "AXN"
       ]
      },
      {
       "output_type": "stream",
       "stream": "stdout",
       "text": [
        " MN_ASOS 1 8.4285714285714286\n",
        "OKK"
       ]
      },
      {
       "output_type": "stream",
       "stream": "stdout",
       "text": [
        " IN_ASOS 9 17.3968253968253968\n",
        "IAB"
       ]
      },
      {
       "output_type": "stream",
       "stream": "stdout",
       "text": [
        " KS_ASOS 55 63.9047619047619048\n",
        "MQJ"
       ]
      },
      {
       "output_type": "stream",
       "stream": "stdout",
       "text": [
        " IN_ASOS 6 20.9365079365079365\n",
        "HNR"
       ]
      },
      {
       "output_type": "stream",
       "stream": "stdout",
       "text": [
        " AWOS 6 22.7777777777777778\n",
        "DVK"
       ]
      },
      {
       "output_type": "stream",
       "stream": "stdout",
       "text": [
        " KY_ASOS 15 27.1269841269841270\n",
        "ACB"
       ]
      },
      {
       "output_type": "stream",
       "stream": "stdout",
       "text": [
        " MI_ASOS 2 8.1587301587301587\n",
        "BLV"
       ]
      },
      {
       "output_type": "stream",
       "stream": "stdout",
       "text": [
        " IL_ASOS 23 43.8730158730158730\n",
        "PZQ"
       ]
      },
      {
       "output_type": "stream",
       "stream": "stdout",
       "text": [
        " MI_ASOS 0 8.5555555555555556\n",
        "IKV"
       ]
      },
      {
       "output_type": "stream",
       "stream": "stdout",
       "text": [
        " AWOS 5 21.5396825396825397\n",
        "SJX"
       ]
      },
      {
       "output_type": "stream",
       "stream": "stdout",
       "text": [
        " MI_ASOS 0 0.36507936507936507937\n",
        "FDY"
       ]
      },
      {
       "output_type": "stream",
       "stream": "stdout",
       "text": [
        " OH_ASOS 5 14.1111111111111111\n",
        "MDW"
       ]
      },
      {
       "output_type": "stream",
       "stream": "stdout",
       "text": [
        " IL_ASOS 8 22.0634920634920635\n",
        "CMX"
       ]
      },
      {
       "output_type": "stream",
       "stream": "stdout",
       "text": [
        " MI_ASOS 0 2.0317460317460317\n",
        "ILN"
       ]
      },
      {
       "output_type": "stream",
       "stream": "stdout",
       "text": [
        " OH_ASOS 2 15.8412698412698413\n",
        "ADC"
       ]
      },
      {
       "output_type": "stream",
       "stream": "stdout",
       "text": [
        " MN_ASOS 1 6.3174603174603175\n",
        "ALN"
       ]
      },
      {
       "output_type": "stream",
       "stream": "stdout",
       "text": [
        " IL_ASOS 19 30.6507936507936508\n",
        "GPZ"
       ]
      },
      {
       "output_type": "stream",
       "stream": "stdout",
       "text": [
        " MN_ASOS 1 4.8095238095238095\n",
        "MUT"
       ]
      },
      {
       "output_type": "stream",
       "stream": "stdout",
       "text": [
        " AWOS 11 23.4761904761904762\n",
        "YKN"
       ]
      },
      {
       "output_type": "stream",
       "stream": "stdout",
       "text": [
        " SD_ASOS 6 33.2539682539682540\n",
        "AIO"
       ]
      },
      {
       "output_type": "stream",
       "stream": "stdout",
       "text": [
        " AWOS 6 23.6666666666666667\n",
        "DVL"
       ]
      },
      {
       "output_type": "stream",
       "stream": "stdout",
       "text": [
        " ND_ASOS 1 9.8095238095238095\n",
        "PPQ"
       ]
      },
      {
       "output_type": "stream",
       "stream": "stdout",
       "text": [
        " IL_ASOS 15 27.1904761904761905\n",
        "MTW"
       ]
      },
      {
       "output_type": "stream",
       "stream": "stdout",
       "text": [
        " WI_ASOS 1 4.6349206349206349\n",
        "UKL"
       ]
      },
      {
       "output_type": "stream",
       "stream": "stdout",
       "text": [
        " KS_ASOS 0 45.3650793650793651\n",
        "IND"
       ]
      },
      {
       "output_type": "stream",
       "stream": "stdout",
       "text": [
        " IN_ASOS 3 18.6507936507936508\n",
        "MWC"
       ]
      },
      {
       "output_type": "stream",
       "stream": "stdout",
       "text": [
        " WI_ASOS 1 16.7301587301587302\n",
        "OOA"
       ]
      },
      {
       "output_type": "stream",
       "stream": "stdout",
       "text": [
        " AWOS 6 23.3492063492063492\n",
        "MCW"
       ]
      },
      {
       "output_type": "stream",
       "stream": "stdout",
       "text": [
        " IA_ASOS 1 14.0634920634920635\n",
        "CDJ"
       ]
      },
      {
       "output_type": "stream",
       "stream": "stdout",
       "text": [
        " MO_ASOS 21 35.5396825396825397\n",
        "CMI"
       ]
      },
      {
       "output_type": "stream",
       "stream": "stdout",
       "text": [
        " IL_ASOS 13 23.3809523809523810\n",
        "MLE"
       ]
      },
      {
       "output_type": "stream",
       "stream": "stdout",
       "text": [
        " NE_ASOS 15 34.3968253968253968\n",
        "CMY"
       ]
      },
      {
       "output_type": "stream",
       "stream": "stdout",
       "text": [
        " WI_ASOS 1 13.5079365079365079\n",
        "MGC"
       ]
      },
      {
       "output_type": "stream",
       "stream": "stdout",
       "text": [
        " IN_ASOS 0 14.5714285714285714\n",
        "DVP"
       ]
      },
      {
       "output_type": "stream",
       "stream": "stdout",
       "text": [
        " MN_ASOS 0 17.6666666666666667\n",
        "GNA"
       ]
      },
      {
       "output_type": "stream",
       "stream": "stdout",
       "text": [
        " MN_ASOS 0 0.44444444444444444444\n",
        "MRT"
       ]
      },
      {
       "output_type": "stream",
       "stream": "stdout",
       "text": [
        " OH_ASOS 2 15.8253968253968254\n",
        "CSQ"
       ]
      },
      {
       "output_type": "stream",
       "stream": "stdout",
       "text": [
        " AWOS 5 22.3174603174603175\n",
        "FFX"
       ]
      },
      {
       "output_type": "stream",
       "stream": "stdout",
       "text": [
        " MI_ASOS 0 6.9682539682539683\n",
        "FOZ"
       ]
      },
      {
       "output_type": "stream",
       "stream": "stdout",
       "text": [
        " MN_ASOS 0 5.1428571428571429\n",
        "EKQ"
       ]
      },
      {
       "output_type": "stream",
       "stream": "stdout",
       "text": [
        " KY_ASOS 34 25.6825396825396825\n",
        "BFW"
       ]
      },
      {
       "output_type": "stream",
       "stream": "stdout",
       "text": [
        " MN_ASOS 0 1.4603174603174603\n",
        "RNH"
       ]
      },
      {
       "output_type": "stream",
       "stream": "stdout",
       "text": [
        " WI_ASOS 0 6.6349206349206349\n",
        "MCK"
       ]
      },
      {
       "output_type": "stream",
       "stream": "stdout",
       "text": [
        " NE_ASOS 48 54.3650793650793651\n",
        "PBX"
       ]
      },
      {
       "output_type": "stream",
       "stream": "stdout",
       "text": [
        " KY_ASOS 0 26.4603174603174603\n",
        "UNI"
       ]
      },
      {
       "output_type": "stream",
       "stream": "stdout",
       "text": [
        " OH_ASOS 6 14.6349206349206349\n",
        "C29"
       ]
      },
      {
       "output_type": "stream",
       "stream": "stdout",
       "text": [
        " WI_ASOS 2 12.1587301587301587\n",
        "HZY"
       ]
      },
      {
       "output_type": "stream",
       "stream": "stdout",
       "text": [
        " OH_ASOS 0 5.7777777777777778\n",
        "GOV"
       ]
      },
      {
       "output_type": "stream",
       "stream": "stdout",
       "text": [
        " MI_ASOS 0 6.8095238095238095\n",
        "ASX"
       ]
      },
      {
       "output_type": "stream",
       "stream": "stdout",
       "text": [
        " WI_ASOS 0 2.5714285714285714\n",
        "DDC"
       ]
      },
      {
       "output_type": "stream",
       "stream": "stdout",
       "text": [
        " KS_ASOS 66 67.3015873015873016\n",
        "ENL"
       ]
      },
      {
       "output_type": "stream",
       "stream": "stdout",
       "text": [
        " IL_ASOS 54 30.8095238095238095\n",
        "PRO"
       ]
      },
      {
       "output_type": "stream",
       "stream": "stdout",
       "text": [
        " AWOS 4 19.7142857142857143\n",
        "BKX"
       ]
      },
      {
       "output_type": "stream",
       "stream": "stdout",
       "text": [
        " SD_ASOS 0 12.6190476190476190\n",
        "IOB"
       ]
      },
      {
       "output_type": "stream",
       "stream": "stdout",
       "text": [
        " KY_ASOS 7 19.5714285714285714\n",
        "LCG"
       ]
      },
      {
       "output_type": "stream",
       "stream": "stdout",
       "text": [
        " NE_ASOS 4 28.5396825396825397\n",
        "ERY"
       ]
      },
      {
       "output_type": "stream",
       "stream": "stdout",
       "text": [
        " MI_ASOS 0 0.36507936507936507937\n",
        "GSH"
       ]
      },
      {
       "output_type": "stream",
       "stream": "stdout",
       "text": [
        " IN_ASOS 4 13.4920634920634921\n",
        "JXN"
       ]
      },
      {
       "output_type": "stream",
       "stream": "stdout",
       "text": [
        " MI_ASOS 1 10.5714285714285714\n",
        "IWD"
       ]
      },
      {
       "output_type": "stream",
       "stream": "stdout",
       "text": [
        " MI_ASOS 0 2.5396825396825397\n",
        "IFA"
       ]
      },
      {
       "output_type": "stream",
       "stream": "stdout",
       "text": [
        " AWOS 0 16.2222222222222222\n",
        "ISQ"
       ]
      },
      {
       "output_type": "stream",
       "stream": "stdout",
       "text": [
        " MI_ASOS 0 0.71428571428571428571\n",
        "M25"
       ]
      },
      {
       "output_type": "stream",
       "stream": "stdout",
       "text": [
        " KY_ASOS 27 46.7619047619047619\n",
        "PPO"
       ]
      },
      {
       "output_type": "stream",
       "stream": "stdout",
       "text": [
        " IN_ASOS 0 14.5714285714285714\n",
        "BJI"
       ]
      },
      {
       "output_type": "stream",
       "stream": "stdout",
       "text": [
        " MN_ASOS 0 5.5555555555555556\n",
        "I35"
       ]
      },
      {
       "output_type": "stream",
       "stream": "stdout",
       "text": [
        " KY_ASOS 5 18.6984126984126984\n",
        "ULM"
       ]
      },
      {
       "output_type": "stream",
       "stream": "stdout",
       "text": [
        " MN_ASOS 2 16.4126984126984127\n",
        "Y49"
       ]
      },
      {
       "output_type": "stream",
       "stream": "stdout",
       "text": [
        " MN_ASOS 0 5.5555555555555556\n",
        "ROS"
       ]
      },
      {
       "output_type": "stream",
       "stream": "stdout",
       "text": [
        " MN_ASOS 0 7.4126984126984127\n",
        "SQI"
       ]
      },
      {
       "output_type": "stream",
       "stream": "stdout",
       "text": [
        " IL_ASOS 9 20.2222222222222222\n",
        "SAZ"
       ]
      },
      {
       "output_type": "stream",
       "stream": "stdout",
       "text": [
        " MN_ASOS 1 9.7142857142857143\n",
        "IKK"
       ]
      },
      {
       "output_type": "stream",
       "stream": "stdout",
       "text": [
        " IL_ASOS 3 14.2698412698412698\n",
        "IEN"
       ]
      },
      {
       "output_type": "stream",
       "stream": "stdout",
       "text": [
        " SD_ASOS 18 48.6984126984126984\n",
        "EZS"
       ]
      },
      {
       "output_type": "stream",
       "stream": "stdout",
       "text": [
        " WI_ASOS 1 9.4285714285714286\n",
        "CIN"
       ]
      },
      {
       "output_type": "stream",
       "stream": "stdout",
       "text": [
        " AWOS 3 23.2380952380952381\n",
        "SBM"
       ]
      },
      {
       "output_type": "stream",
       "stream": "stdout",
       "text": [
        " WI_ASOS 1 8.3015873015873016\n",
        "ANJ"
       ]
      },
      {
       "output_type": "stream",
       "stream": "stdout",
       "text": [
        " MI_ASOS 0 1.2222222222222222\n",
        "DIK"
       ]
      },
      {
       "output_type": "stream",
       "stream": "stdout",
       "text": [
        " ND_ASOS 4 20.7142857142857143\n",
        "RCX"
       ]
      },
      {
       "output_type": "stream",
       "stream": "stdout",
       "text": [
        " WI_ASOS 0 3.4761904761904762\n",
        "MBL"
       ]
      },
      {
       "output_type": "stream",
       "stream": "stdout",
       "text": [
        " MI_ASOS 0 4.2539682539682540\n",
        "5M9"
       ]
      },
      {
       "output_type": "stream",
       "stream": "stdout",
       "text": [
        " KY_ASOS 18 49.9047619047619048\n",
        "FXY"
       ]
      },
      {
       "output_type": "stream",
       "stream": "stdout",
       "text": [
        " AWOS 0 13.0317460317460317\n",
        "SDA"
       ]
      },
      {
       "output_type": "stream",
       "stream": "stdout",
       "text": [
        " AWOS 17 38.1111111111111111\n",
        "FEP"
       ]
      },
      {
       "output_type": "stream",
       "stream": "stdout",
       "text": [
        " IL_ASOS 0 14.3492063492063492\n",
        "JYG"
       ]
      },
      {
       "output_type": "stream",
       "stream": "stdout",
       "text": [
        " MN_ASOS 8 16.2698412698412698\n",
        "TIP"
       ]
      },
      {
       "output_type": "stream",
       "stream": "stdout",
       "text": [
        " IL_ASOS 15 29.5555555555555556\n",
        "P75"
       ]
      },
      {
       "output_type": "stream",
       "stream": "stdout",
       "text": [
        " MI_ASOS 0 0.71428571428571428571\n",
        "AIZ"
       ]
      },
      {
       "output_type": "stream",
       "stream": "stdout",
       "text": [
        " MO_ASOS 41 47.0952380952380952\n",
        "OLU"
       ]
      },
      {
       "output_type": "stream",
       "stream": "stdout",
       "text": [
        " NE_ASOS 13 36.8730158730158730\n",
        "P28"
       ]
      },
      {
       "output_type": "stream",
       "stream": "stdout",
       "text": [
        " KS_ASOS 77 71.2539682539682540\n",
        "TNU"
       ]
      },
      {
       "output_type": "stream",
       "stream": "stdout",
       "text": [
        " AWOS 3 23.2857142857142857\n",
        "S25"
       ]
      },
      {
       "output_type": "stream",
       "stream": "stdout",
       "text": [
        " ND_ASOS 11 22.3492063492063492\n",
        "2D5"
       ]
      },
      {
       "output_type": "stream",
       "stream": "stdout",
       "text": [
        " ND_ASOS 0 17.8730158730158730\n",
        "SLH"
       ]
      },
      {
       "output_type": "stream",
       "stream": "stdout",
       "text": [
        " MI_ASOS 0 3.7301587301587302\n",
        "MCX"
       ]
      },
      {
       "output_type": "stream",
       "stream": "stdout",
       "text": [
        " IN_ASOS 2 22.2539682539682540\n",
        "SUE"
       ]
      },
      {
       "output_type": "stream",
       "stream": "stdout",
       "text": [
        " WI_ASOS 1 3.5079365079365079\n",
        "EMP"
       ]
      },
      {
       "output_type": "stream",
       "stream": "stdout",
       "text": [
        " KS_ASOS 38 47.3650793650793651\n",
        "FKS"
       ]
      },
      {
       "output_type": "stream",
       "stream": "stdout",
       "text": [
        " MI_ASOS 0 1.3650793650793651\n",
        "LHQ"
       ]
      },
      {
       "output_type": "stream",
       "stream": "stdout",
       "text": [
        " OH_ASOS 5 9.6507936507936508\n",
        "5H4"
       ]
      },
      {
       "output_type": "stream",
       "stream": "stdout",
       "text": [
        " ND_ASOS 3 13.8253968253968254\n",
        "PCW"
       ]
      },
      {
       "output_type": "stream",
       "stream": "stdout",
       "text": [
        " OH_ASOS 12 11.9841269841269841\n",
        "SET"
       ]
      },
      {
       "output_type": "stream",
       "stream": "stdout",
       "text": [
        " MO_ASOS 25 41.7777777777777778\n",
        "UNO"
       ]
      },
      {
       "output_type": "stream",
       "stream": "stdout",
       "text": [
        " MO_ASOS 24 43.0952380952380952\n",
        "RMY"
       ]
      },
      {
       "output_type": "stream",
       "stream": "stdout",
       "text": [
        " MI_ASOS 1 7.4126984126984127\n",
        "LWD"
       ]
      },
      {
       "output_type": "stream",
       "stream": "stdout",
       "text": [
        " IA_ASOS 7 25.6507936507936508\n",
        "SAW"
       ]
      },
      {
       "output_type": "stream",
       "stream": "stdout",
       "text": [
        " MI_ASOS 0 3.9365079365079365\n",
        "SFD"
       ]
      },
      {
       "output_type": "stream",
       "stream": "stdout",
       "text": [
        " SD_ASOS 4 46.1269841269841270\n",
        "TOL"
       ]
      },
      {
       "output_type": "stream",
       "stream": "stdout",
       "text": [
        " OH_ASOS 5 16.1269841269841270\n",
        "GFK"
       ]
      },
      {
       "output_type": "stream",
       "stream": "stdout",
       "text": [
        " ND_ASOS 4 11.8730158730158730\n",
        "2I0"
       ]
      },
      {
       "output_type": "stream",
       "stream": "stdout",
       "text": [
        " KY_ASOS 35 49.9047619047619048\n",
        "BTA"
       ]
      },
      {
       "output_type": "stream",
       "stream": "stdout",
       "text": [
        " NE_ASOS 10 34.3968253968253968\n",
        "ODX"
       ]
      },
      {
       "output_type": "stream",
       "stream": "stdout",
       "text": [
        " NE_ASOS 14 30.3015873015873016\n",
        "BIS"
       ]
      },
      {
       "output_type": "stream",
       "stream": "stdout",
       "text": [
        " ND_ASOS 10 21.3174603174603175\n",
        "OXV"
       ]
      },
      {
       "output_type": "stream",
       "stream": "stdout",
       "text": [
        " AWOS 7 25.0158730158730159\n",
        "K22"
       ]
      },
      {
       "output_type": "stream",
       "stream": "stdout",
       "text": [
        " KY_ASOS 0 26.4603174603174603\n",
        "20U"
       ]
      },
      {
       "output_type": "stream",
       "stream": "stdout",
       "text": [
        " ND_ASOS 2 20.9523809523809524\n",
        "MWM"
       ]
      },
      {
       "output_type": "stream",
       "stream": "stdout",
       "text": [
        " MN_ASOS 1 18.4285714285714286\n",
        "ARV"
       ]
      },
      {
       "output_type": "stream",
       "stream": "stdout",
       "text": [
        " WI_ASOS 1 2.6349206349206349\n",
        "RAP"
       ]
      },
      {
       "output_type": "stream",
       "stream": "stdout",
       "text": [
        " SD_ASOS 10 26.5079365079365079\n",
        "MLI"
       ]
      },
      {
       "output_type": "stream",
       "stream": "stdout",
       "text": [
        " IL_ASOS 3 23.4285714285714286\n",
        "AMW"
       ]
      },
      {
       "output_type": "stream",
       "stream": "stdout",
       "text": [
        " IA_ASOS 3 17.4126984126984127\n",
        "HAO"
       ]
      },
      {
       "output_type": "stream",
       "stream": "stdout",
       "text": [
        " OH_ASOS 17 12.7142857142857143\n",
        "JYM"
       ]
      },
      {
       "output_type": "stream",
       "stream": "stdout",
       "text": [
        " MI_ASOS 2 8.7619047619047619\n",
        "DUH"
       ]
      },
      {
       "output_type": "stream",
       "stream": "stdout",
       "text": [
        " MI_ASOS 6 14.2857142857142857\n",
        "HYR"
       ]
      },
      {
       "output_type": "stream",
       "stream": "stdout",
       "text": [
        " WI_ASOS 0 4.7936507936507937\n",
        "ALO"
       ]
      },
      {
       "output_type": "stream",
       "stream": "stdout",
       "text": [
        " IA_ASOS 5 16.6507936507936508\n",
        "EHA"
       ]
      },
      {
       "output_type": "stream",
       "stream": "stdout",
       "text": [
        " KS_ASOS 64 75.5873015873015873\n",
        "FGN"
       ]
      },
      {
       "output_type": "stream",
       "stream": "stdout",
       "text": [
        " MN_ASOS 0 3.7142857142857143\n",
        "GEZ"
       ]
      },
      {
       "output_type": "stream",
       "stream": "stdout",
       "text": [
        " IN_ASOS 10 21.4126984126984127\n",
        "AUW"
       ]
      },
      {
       "output_type": "stream",
       "stream": "stdout",
       "text": [
        " WI_ASOS 0 4.5079365079365079\n",
        "GYL"
       ]
      },
      {
       "output_type": "stream",
       "stream": "stdout",
       "text": [
        " MN_ASOS 2 16.0952380952380952\n",
        "BWP"
       ]
      },
      {
       "output_type": "stream",
       "stream": "stdout",
       "text": [
        " ND_ASOS 4 17.7301587301587302\n",
        "LBF"
       ]
      },
      {
       "output_type": "stream",
       "stream": "stdout",
       "text": [
        " NE_ASOS 27 37.6031746031746032\n",
        "TAZ"
       ]
      },
      {
       "output_type": "stream",
       "stream": "stdout",
       "text": [
        " IL_ASOS 5 28.5555555555555556\n",
        "MWA"
       ]
      },
      {
       "output_type": "stream",
       "stream": "stdout",
       "text": [
        " IL_ASOS 27 45.0476190476190476\n",
        "UYF"
       ]
      },
      {
       "output_type": "stream",
       "stream": "stdout",
       "text": [
        " OH_ASOS 0 15.8253968253968254\n",
        "FYG"
       ]
      },
      {
       "output_type": "stream",
       "stream": "stdout",
       "text": [
        " MO_ASOS 32 32.1904761904761905\n",
        "OJC"
       ]
      },
      {
       "output_type": "stream",
       "stream": "stdout",
       "text": [
        " KS_ASOS 22 44.3968253968253968\n",
        "4I3"
       ]
      },
      {
       "output_type": "stream",
       "stream": "stdout",
       "text": [
        " OH_ASOS 1 10.5714285714285714\n",
        "DTL"
       ]
      },
      {
       "output_type": "stream",
       "stream": "stdout",
       "text": [
        " MN_ASOS 1 6.8571428571428571\n",
        "DFI"
       ]
      },
      {
       "output_type": "stream",
       "stream": "stdout",
       "text": [
        " OH_ASOS 4 18.3015873015873016\n",
        "ZZV"
       ]
      },
      {
       "output_type": "stream",
       "stream": "stdout",
       "text": [
        " OH_ASOS 1 12.6031746031746032\n",
        "MKE"
       ]
      },
      {
       "output_type": "stream",
       "stream": "stdout",
       "text": [
        " WI_ASOS 0 7.3809523809523810\n",
        "BRL"
       ]
      },
      {
       "output_type": "stream",
       "stream": "stdout",
       "text": [
        " IA_ASOS 3 22.7936507936507937\n",
        "OVS"
       ]
      },
      {
       "output_type": "stream",
       "stream": "stdout",
       "text": [
        " WI_ASOS 7 13.8571428571428571\n",
        "AXV"
       ]
      },
      {
       "output_type": "stream",
       "stream": "stdout",
       "text": [
        " OH_ASOS 4 11.6031746031746032\n",
        "ONL"
       ]
      },
      {
       "output_type": "stream",
       "stream": "stdout",
       "text": [
        " NE_ASOS 9 36.2857142857142857\n",
        "ANE"
       ]
      },
      {
       "output_type": "stream",
       "stream": "stdout",
       "text": [
        " MN_ASOS 2 14.2539682539682540\n",
        "LYV"
       ]
      },
      {
       "output_type": "stream",
       "stream": "stdout",
       "text": [
        " MN_ASOS 5 16.7460317460317460\n",
        "MZZ"
       ]
      },
      {
       "output_type": "stream",
       "stream": "stdout",
       "text": [
        " IN_ASOS 33 16.6825396825396825\n",
        "H21"
       ]
      },
      {
       "output_type": "stream",
       "stream": "stdout",
       "text": [
        " MO_ASOS 31 47.0952380952380952\n",
        "PWK"
       ]
      },
      {
       "output_type": "stream",
       "stream": "stdout",
       "text": [
        " IL_ASOS 2 17.3174603174603175\n",
        "IJX"
       ]
      },
      {
       "output_type": "stream",
       "stream": "stdout",
       "text": [
        " IL_ASOS 22 29.2539682539682540\n",
        "JLN"
       ]
      },
      {
       "output_type": "stream",
       "stream": "stdout",
       "text": [
        " MO_ASOS 40 45.0158730158730159\n",
        "D07"
       ]
      },
      {
       "output_type": "stream",
       "stream": "stdout",
       "text": [
        " SD_ASOS 8 33.7619047619047619\n",
        "BTL"
       ]
      },
      {
       "output_type": "stream",
       "stream": "stdout",
       "text": [
        " MI_ASOS 2 10.7619047619047619\n",
        "TWM"
       ]
      },
      {
       "output_type": "stream",
       "stream": "stdout",
       "text": [
        " MN_ASOS 0 1.4603174603174603\n",
        "CFS"
       ]
      },
      {
       "output_type": "stream",
       "stream": "stdout",
       "text": [
        " MI_ASOS 5 12.9206349206349206\n",
        "PPF"
       ]
      },
      {
       "output_type": "stream",
       "stream": "stdout",
       "text": [
        " KS_ASOS 46 59.7936507936507937\n",
        "MOT"
       ]
      },
      {
       "output_type": "stream",
       "stream": "stdout",
       "text": [
        " ND_ASOS 5 13.8730158730158730\n",
        "PWC"
       ]
      },
      {
       "output_type": "stream",
       "stream": "stdout",
       "text": [
        " MN_ASOS 0 7.3809523809523810\n",
        "AFK"
       ]
      },
      {
       "output_type": "stream",
       "stream": "stdout",
       "text": [
        " NE_ASOS 14 35.0476190476190476\n",
        "AAA"
       ]
      },
      {
       "output_type": "stream",
       "stream": "stdout",
       "text": [
        " IL_ASOS 20 28.4920634920634921\n",
        "TVF"
       ]
      },
      {
       "output_type": "stream",
       "stream": "stdout",
       "text": [
        " MN_ASOS 2 7.9047619047619048\n",
        "AWG"
       ]
      },
      {
       "output_type": "stream",
       "stream": "stdout",
       "text": [
        " AWOS 9 27.0793650793650794\n",
        "ROX"
       ]
      },
      {
       "output_type": "stream",
       "stream": "stdout",
       "text": [
        " MN_ASOS 0 3.7142857142857143\n",
        "I75"
       ]
      },
      {
       "output_type": "stream",
       "stream": "stdout",
       "text": [
        " AWOS 9 24.5873015873015873\n",
        "SHL"
       ]
      },
      {
       "output_type": "stream",
       "stream": "stdout",
       "text": [
        " AWOS 2 16.6190476190476190\n",
        "OZW"
       ]
      },
      {
       "output_type": "stream",
       "stream": "stdout",
       "text": [
        " MI_ASOS 1 8.1587301587301587\n",
        "XVG"
       ]
      },
      {
       "output_type": "stream",
       "stream": "stdout",
       "text": [
        " MN_ASOS 0 4.0634920634920635\n",
        "Y51"
       ]
      },
      {
       "output_type": "stream",
       "stream": "stdout",
       "text": [
        " WI_ASOS 0 6.2222222222222222\n",
        "P61"
       ]
      },
      {
       "output_type": "stream",
       "stream": "stdout",
       "text": [
        " MN_ASOS 0 0.44444444444444444444\n",
        "OLG"
       ]
      },
      {
       "output_type": "stream",
       "stream": "stdout",
       "text": [
        " WI_ASOS 0 9.1111111111111111\n",
        "SLN"
       ]
      },
      {
       "output_type": "stream",
       "stream": "stdout",
       "text": [
        " KS_ASOS 67 51.8412698412698413\n",
        "RSL"
       ]
      },
      {
       "output_type": "stream",
       "stream": "stdout",
       "text": [
        " KS_ASOS 59 59.2857142857142857\n",
        "MGN"
       ]
      },
      {
       "output_type": "stream",
       "stream": "stdout",
       "text": [
        " MI_ASOS 1 2.9365079365079365\n",
        "MCI"
       ]
      },
      {
       "output_type": "stream",
       "stream": "stdout",
       "text": [
        " MO_ASOS 21 38.2222222222222222\n",
        "MSN"
       ]
      },
      {
       "output_type": "stream",
       "stream": "stdout",
       "text": [
        " WI_ASOS 2 12.1587301587301587\n",
        "ATY"
       ]
      },
      {
       "output_type": "stream",
       "stream": "stdout",
       "text": [
        " SD_ASOS 1 14.2222222222222222\n",
        "FKA"
       ]
      },
      {
       "output_type": "stream",
       "stream": "stdout",
       "text": [
        " MN_ASOS 0 11.1111111111111111\n",
        "I69"
       ]
      },
      {
       "output_type": "stream",
       "stream": "stdout",
       "text": [
        " OH_ASOS 16 12.4126984126984127\n",
        "GLY"
       ]
      },
      {
       "output_type": "stream",
       "stream": "stdout",
       "text": [
        " MO_ASOS 34 46.0634920634920635\n",
        "SPF"
       ]
      },
      {
       "output_type": "stream",
       "stream": "stdout",
       "text": [
        " SD_ASOS 8 25.9682539682539683\n",
        "GBD"
       ]
      },
      {
       "output_type": "stream",
       "stream": "stdout",
       "text": [
        " KS_ASOS 65 72.3650793650793651\n",
        "CGX"
       ]
      },
      {
       "output_type": "stream",
       "stream": "stdout",
       "text": [
        " IL_ASOS 0 22.0634920634920635\n",
        "04W"
       ]
      },
      {
       "output_type": "stream",
       "stream": "stdout",
       "text": [
        " MN_ASOS 1 5.9047619047619048\n",
        "JVL"
       ]
      },
      {
       "output_type": "stream",
       "stream": "stdout",
       "text": [
        " WI_ASOS 3 15.6349206349206349\n",
        "ARR"
       ]
      },
      {
       "output_type": "stream",
       "stream": "stdout",
       "text": [
        " IL_ASOS 5 17.1269841269841270\n",
        "PMV"
       ]
      },
      {
       "output_type": "stream",
       "stream": "stdout",
       "text": [
        " NE_ASOS 15 32.5714285714285714\n",
        "DKB"
       ]
      },
      {
       "output_type": "stream",
       "stream": "stdout",
       "text": [
        " IL_ASOS 0 18.5396825396825397\n",
        "ACQ"
       ]
      },
      {
       "output_type": "stream",
       "stream": "stdout",
       "text": [
        " MN_ASOS 0 10.9206349206349206\n",
        "FOE"
       ]
      },
      {
       "output_type": "stream",
       "stream": "stdout",
       "text": [
        " KS_ASOS 41 46.4126984126984127\n",
        "SUW"
       ]
      },
      {
       "output_type": "stream",
       "stream": "stdout",
       "text": [
        " WI_ASOS 1 9.1111111111111111\n",
        "LXN"
       ]
      },
      {
       "output_type": "stream",
       "stream": "stdout",
       "text": [
        " NE_ASOS 30 42.7619047619047619\n",
        "MOX"
       ]
      },
      {
       "output_type": "stream",
       "stream": "stdout",
       "text": [
        " MN_ASOS 1 10.9841269841269841\n",
        "FPK"
       ]
      },
      {
       "output_type": "stream",
       "stream": "stdout",
       "text": [
        " MI_ASOS 1 10.4920634920634921\n",
        "Y50"
       ]
      },
      {
       "output_type": "stream",
       "stream": "stdout",
       "text": [
        " WI_ASOS 3 10.0476190476190476\n",
        "HCD"
       ]
      },
      {
       "output_type": "stream",
       "stream": "stdout",
       "text": [
        " MN_ASOS 1 13.4126984126984127\n",
        "UNU"
       ]
      },
      {
       "output_type": "stream",
       "stream": "stdout",
       "text": [
        " WI_ASOS 0 10.2380952380952381\n",
        "HON"
       ]
      },
      {
       "output_type": "stream",
       "stream": "stdout",
       "text": [
        " SD_ASOS 7 27.8253968253968254\n",
        "PHP"
       ]
      },
      {
       "output_type": "stream",
       "stream": "stdout",
       "text": [
        " SD_ASOS 32 48.8095238095238095\n",
        "DNV"
       ]
      },
      {
       "output_type": "stream",
       "stream": "stdout",
       "text": [
        " IL_ASOS 4 25.1111111111111111\n",
        "9V9"
       ]
      },
      {
       "output_type": "stream",
       "stream": "stdout",
       "text": [
        " SD_ASOS 10 39.1904761904761905\n",
        "HIB"
       ]
      },
      {
       "output_type": "stream",
       "stream": "stdout",
       "text": [
        " MN_ASOS 1 4.8095238095238095\n",
        "HUT"
       ]
      },
      {
       "output_type": "stream",
       "stream": "stdout",
       "text": [
        " KS_ASOS 72 59.6349206349206349\n",
        "14Y"
       ]
      },
      {
       "output_type": "stream",
       "stream": "stdout",
       "text": [
        " MN_ASOS 0 9.7142857142857143\n",
        "21D"
       ]
      },
      {
       "output_type": "stream",
       "stream": "stdout",
       "text": [
        " MN_ASOS 0 9.4285714285714286\n",
        "EDJ"
       ]
      },
      {
       "output_type": "stream",
       "stream": "stdout",
       "text": [
        " OH_ASOS 2 9.8730158730158730\n",
        "AKR"
       ]
      },
      {
       "output_type": "stream",
       "stream": "stdout",
       "text": [
        " OH_ASOS 2 8.3650793650793651\n",
        "RFD"
       ]
      },
      {
       "output_type": "stream",
       "stream": "stdout",
       "text": [
        " IL_ASOS 2 15.3015873015873016\n",
        "P53"
       ]
      },
      {
       "output_type": "stream",
       "stream": "stdout",
       "text": [
        " MI_ASOS 0 2.9047619047619048\n",
        "GWB"
       ]
      },
      {
       "output_type": "stream",
       "stream": "stdout",
       "text": [
        " IN_ASOS 4 8.6349206349206349\n",
        "OTG"
       ]
      },
      {
       "output_type": "stream",
       "stream": "stdout",
       "text": [
        " MN_ASOS 4 18.4285714285714286\n",
        "OEB"
       ]
      },
      {
       "output_type": "stream",
       "stream": "stdout",
       "text": [
        " MI_ASOS 3 9.2539682539682540\n",
        "OLY"
       ]
      },
      {
       "output_type": "stream",
       "stream": "stdout",
       "text": [
        " IL_ASOS 10 37.2857142857142857\n",
        "BAK"
       ]
      },
      {
       "output_type": "stream",
       "stream": "stdout",
       "text": [
        " IN_ASOS 9 17.8730158730158730\n",
        "GLD"
       ]
      },
      {
       "output_type": "stream",
       "stream": "stdout",
       "text": [
        " KS_ASOS 38 51.9523809523809524\n",
        "RWF"
       ]
      },
      {
       "output_type": "stream",
       "stream": "stdout",
       "text": [
        " MN_ASOS 3 12.3809523809523810\n",
        "LVN"
       ]
      },
      {
       "output_type": "stream",
       "stream": "stdout",
       "text": [
        " MN_ASOS 0 11.2698412698412698\n",
        "OLZ"
       ]
      },
      {
       "output_type": "stream",
       "stream": "stdout",
       "text": [
        " AWOS 2 10.2063492063492063\n",
        "LUM"
       ]
      },
      {
       "output_type": "stream",
       "stream": "stdout",
       "text": [
        " WI_ASOS 0 6.2698412698412698\n",
        "YNG"
       ]
      },
      {
       "output_type": "stream",
       "stream": "stdout",
       "text": [
        " OH_ASOS 0 6.8571428571428571\n",
        "UNR"
       ]
      },
      {
       "output_type": "stream",
       "stream": "stdout",
       "text": [
        " SD_ASOS 11 26.5079365079365079\n",
        "SYN"
       ]
      },
      {
       "output_type": "stream",
       "stream": "stdout",
       "text": [
        " MN_ASOS 0 11.2698412698412698\n",
        "ORC"
       ]
      },
      {
       "output_type": "stream",
       "stream": "stdout",
       "text": [
        " AWOS 7 27.1587301587301587\n",
        "MHE"
       ]
      },
      {
       "output_type": "stream",
       "stream": "stdout",
       "text": [
        " SD_ASOS 5 30.8253968253968254\n",
        "TVK"
       ]
      },
      {
       "output_type": "stream",
       "stream": "stdout",
       "text": [
        " AWOS 5 23.3650793650793651\n",
        "UGN"
       ]
      },
      {
       "output_type": "stream",
       "stream": "stdout",
       "text": [
        " IL_ASOS 0 17.3174603174603175\n",
        "FET"
       ]
      },
      {
       "output_type": "stream",
       "stream": "stdout",
       "text": [
        " NE_ASOS 14 39.3809523809523810\n",
        "OWA"
       ]
      },
      {
       "output_type": "stream",
       "stream": "stdout",
       "text": [
        " MN_ASOS 4 13.0793650793650794\n",
        "TKV"
       ]
      },
      {
       "output_type": "stream",
       "stream": "stdout",
       "text": [
        " WI_ASOS 0 1.5555555555555556\n",
        "RCR"
       ]
      },
      {
       "output_type": "stream",
       "stream": "stdout",
       "text": [
        " IN_ASOS 10 16.3174603174603175\n",
        "PEA"
       ]
      },
      {
       "output_type": "stream",
       "stream": "stdout",
       "text": [
        " AWOS 9 25.0158730158730159\n",
        "FFL"
       ]
      },
      {
       "output_type": "stream",
       "stream": "stdout",
       "text": [
        " AWOS 7 29.0634920634920635\n",
        "GLR"
       ]
      },
      {
       "output_type": "stream",
       "stream": "stdout",
       "text": [
        " MI_ASOS 1 4.5396825396825397\n",
        "AZO"
       ]
      },
      {
       "output_type": "stream",
       "stream": "stdout",
       "text": [
        " MI_ASOS 2 15.1904761904761905\n",
        "3N8"
       ]
      },
      {
       "output_type": "stream",
       "stream": "stdout",
       "text": [
        " MN_ASOS 0 6.5873015873015873\n",
        "IRK"
       ]
      },
      {
       "output_type": "stream",
       "stream": "stdout",
       "text": [
        " MO_ASOS 12 24.8412698412698413\n",
        "BNW"
       ]
      },
      {
       "output_type": "stream",
       "stream": "stdout",
       "text": [
        " AWOS 3 21.7619047619047619\n",
        "GPH"
       ]
      },
      {
       "output_type": "stream",
       "stream": "stdout",
       "text": [
        " MO_ASOS 22 32.3174603174603175\n",
        "FWB"
       ]
      },
      {
       "output_type": "stream",
       "stream": "stdout",
       "text": [
        " MO_ASOS 36 44.7777777777777778\n",
        "ARB"
       ]
      },
      {
       "output_type": "stream",
       "stream": "stdout",
       "text": [
        " MI_ASOS 4 11.8253968253968254\n",
        "LSE"
       ]
      },
      {
       "output_type": "stream",
       "stream": "stdout",
       "text": [
        " WI_ASOS 5 16.8888888888888889\n",
        "FFT"
       ]
      },
      {
       "output_type": "stream",
       "stream": "stdout",
       "text": [
        " KY_ASOS 13 22.6507936507936508\n",
        "CNC"
       ]
      },
      {
       "output_type": "stream",
       "stream": "stdout",
       "text": [
        " AWOS 6 24.7777777777777778\n",
        "HJH"
       ]
      },
      {
       "output_type": "stream",
       "stream": "stdout",
       "text": [
        " NE_ASOS 31 46.1269841269841270\n",
        "D57"
       ]
      },
      {
       "output_type": "stream",
       "stream": "stdout",
       "text": [
        " ND_ASOS 2 20.3650793650793651\n",
        "1A6"
       ]
      },
      {
       "output_type": "stream",
       "stream": "stdout",
       "text": [
        " KY_ASOS 10 18.6984126984126984\n",
        "FRI"
       ]
      },
      {
       "output_type": "stream",
       "stream": "stdout",
       "text": [
        " KS_ASOS 48 58.0634920634920635\n",
        "GUS"
       ]
      },
      {
       "output_type": "stream",
       "stream": "stdout",
       "text": [
        " IN_ASOS 3 17.3968253968253968\n",
        "EYE"
       ]
      },
      {
       "output_type": "stream",
       "stream": "stdout",
       "text": [
        " IN_ASOS 3 18.6507936507936508\n",
        "MKT"
       ]
      },
      {
       "output_type": "stream",
       "stream": "stdout",
       "text": [
        " MN_ASOS 2 15.7936507936507937\n",
        "MFD"
       ]
      },
      {
       "output_type": "stream",
       "stream": "stdout",
       "text": [
        " OH_ASOS 1 6.8253968253968254\n",
        "FKR"
       ]
      },
      {
       "output_type": "stream",
       "stream": "stdout",
       "text": [
        " IN_ASOS 3 16.6666666666666667\n",
        "ETH"
       ]
      },
      {
       "output_type": "stream",
       "stream": "stdout",
       "text": [
        " MN_ASOS 5 20.9365079365079365\n",
        "BEH"
       ]
      },
      {
       "output_type": "stream",
       "stream": "stdout",
       "text": [
        " MI_ASOS 0 14.4920634920634921\n",
        "OEO"
       ]
      },
      {
       "output_type": "stream",
       "stream": "stdout",
       "text": [
        " WI_ASOS 0 12.1269841269841270\n",
        "OGA"
       ]
      },
      {
       "output_type": "stream",
       "stream": "stdout",
       "text": [
        " NE_ASOS 30 46.8888888888888889\n",
        "IML"
       ]
      },
      {
       "output_type": "stream",
       "stream": "stdout",
       "text": [
        " NE_ASOS 41 47.4920634920634921\n",
        "CBK"
       ]
      },
      {
       "output_type": "stream",
       "stream": "stdout",
       "text": [
        " KS_ASOS 42 54.4603174603174603\n",
        "GCK"
       ]
      },
      {
       "output_type": "stream",
       "stream": "stdout",
       "text": [
        " KS_ASOS 66 66.1269841269841270\n",
        "RUG"
       ]
      },
      {
       "output_type": "stream",
       "stream": "stdout",
       "text": [
        " ND_ASOS 3 13.9682539682539683\n",
        "ONA"
       ]
      },
      {
       "output_type": "stream",
       "stream": "stdout",
       "text": [
        " MN_ASOS 4 10.2698412698412698\n",
        "ELO"
       ]
      },
      {
       "output_type": "stream",
       "stream": "stdout",
       "text": [
        " MN_ASOS 1 1.5714285714285714\n",
        "FSK"
       ]
      },
      {
       "output_type": "stream",
       "stream": "stdout",
       "text": [
        " KS_ASOS 0 63.7301587301587302\n",
        "DBQ"
       ]
      },
      {
       "output_type": "stream",
       "stream": "stdout",
       "text": [
        " IA_ASOS 0 15.4920634920634921\n",
        "MIE"
       ]
      },
      {
       "output_type": "stream",
       "stream": "stdout",
       "text": [
        " IN_ASOS 4 11.2857142857142857\n",
        "COU"
       ]
      },
      {
       "output_type": "stream",
       "stream": "stdout",
       "text": [
        " MO_ASOS 25 36.0793650793650794\n",
        "STJ"
       ]
      },
      {
       "output_type": "stream",
       "stream": "stdout",
       "text": [
        " MO_ASOS 21 33.2857142857142857\n",
        "FFO"
       ]
      },
      {
       "output_type": "stream",
       "stream": "stdout",
       "text": [
        " OH_ASOS 7 11.6349206349206349\n",
        "CNK"
       ]
      },
      {
       "output_type": "stream",
       "stream": "stdout",
       "text": [
        " KS_ASOS 42 51.9365079365079365\n",
        "JOT"
       ]
      },
      {
       "output_type": "stream",
       "stream": "stdout",
       "text": [
        " IL_ASOS 1 17.1269841269841270\n",
        "EWK"
       ]
      },
      {
       "output_type": "stream",
       "stream": "stdout",
       "text": [
        " KS_ASOS 58 65.5396825396825397\n",
        "ETB"
       ]
      },
      {
       "output_type": "stream",
       "stream": "stdout",
       "text": [
        " WI_ASOS 0 8.5238095238095238\n",
        "SGS"
       ]
      },
      {
       "output_type": "stream",
       "stream": "stdout",
       "text": [
        " MN_ASOS 1 14.2539682539682540\n",
        "ICL"
       ]
      },
      {
       "output_type": "stream",
       "stream": "stdout",
       "text": [
        " AWOS 14 28.8253968253968254\n",
        "RGK"
       ]
      },
      {
       "output_type": "stream",
       "stream": "stdout",
       "text": [
        " MN_ASOS 6 8.2539682539682540\n",
        "IMT"
       ]
      },
      {
       "output_type": "stream",
       "stream": "stdout",
       "text": [
        " MI_ASOS 0 5.7142857142857143\n",
        "DXX"
       ]
      },
      {
       "output_type": "stream",
       "stream": "stdout",
       "text": [
        " MN_ASOS 6 23.0952380952380952\n",
        "HAI"
       ]
      },
      {
       "output_type": "stream",
       "stream": "stdout",
       "text": [
        " MI_ASOS 2 14.8095238095238095\n",
        "MVE"
       ]
      },
      {
       "output_type": "stream",
       "stream": "stdout",
       "text": [
        " MN_ASOS 12 17.1746031746031746\n",
        "RYV"
       ]
      },
      {
       "output_type": "stream",
       "stream": "stdout",
       "text": [
        " WI_ASOS 1 12.2698412698412698\n",
        "FOD"
       ]
      },
      {
       "output_type": "stream",
       "stream": "stdout",
       "text": [
        " AWOS 4 18.5079365079365079\n",
        "TYQ"
       ]
      },
      {
       "output_type": "stream",
       "stream": "stdout",
       "text": [
        " IN_ASOS 4 21.2063492063492063\n",
        "CAK"
       ]
      },
      {
       "output_type": "stream",
       "stream": "stdout",
       "text": [
        " OH_ASOS 3 8.3650793650793651\n",
        "FAR"
       ]
      },
      {
       "output_type": "stream",
       "stream": "stdout",
       "text": [
        " ND_ASOS 6 13.4920634920634921\n",
        "JYR"
       ]
      },
      {
       "output_type": "stream",
       "stream": "stdout",
       "text": [
        " NE_ASOS 14 33.9682539682539683\n",
        "HYS"
       ]
      },
      {
       "output_type": "stream",
       "stream": "stdout",
       "text": [
        " KS_ASOS 60 63.0793650793650794\n",
        "AAO"
       ]
      },
      {
       "output_type": "stream",
       "stream": "stdout",
       "text": [
        " KS_ASOS 53 63.9047619047619048\n",
        "SUS"
       ]
      },
      {
       "output_type": "stream",
       "stream": "stdout",
       "text": [
        " MO_ASOS 32 33.4761904761904762\n",
        "CEY"
       ]
      },
      {
       "output_type": "stream",
       "stream": "stdout",
       "text": [
        " KY_ASOS 31 46.7619047619047619\n",
        "OMA"
       ]
      },
      {
       "output_type": "stream",
       "stream": "stdout",
       "text": [
        " NE_ASOS 21 34.3968253968253968\n",
        "OVL"
       ]
      },
      {
       "output_type": "stream",
       "stream": "stdout",
       "text": [
        " MN_ASOS 2 11.0317460317460317\n",
        "FLD"
       ]
      },
      {
       "output_type": "stream",
       "stream": "stdout",
       "text": [
        " WI_ASOS 1 6.5873015873015873\n",
        "UIN"
       ]
      },
      {
       "output_type": "stream",
       "stream": "stdout",
       "text": [
        " IL_ASOS 8 26.8253968253968254\n",
        "EKM"
       ]
      },
      {
       "output_type": "stream",
       "stream": "stdout",
       "text": [
        " IN_ASOS 3 13.4920634920634921\n",
        "08D"
       ]
      },
      {
       "output_type": "stream",
       "stream": "stdout",
       "text": [
        " ND_ASOS 3 12.3809523809523810\n",
        "RCM"
       ]
      },
      {
       "output_type": "stream",
       "stream": "stdout",
       "text": [
        " MO_ASOS 16 44.4603174603174603\n",
        "SDF"
       ]
      },
      {
       "output_type": "stream",
       "stream": "stdout",
       "text": [
        " KY_ASOS 35 26.7619047619047619\n",
        "AIA"
       ]
      },
      {
       "output_type": "stream",
       "stream": "stdout",
       "text": [
        " NE_ASOS 29 34.6825396825396825\n",
        "POF"
       ]
      },
      {
       "output_type": "stream",
       "stream": "stdout",
       "text": [
        " MO_ASOS 31 56.7619047619047619\n",
        "HYX"
       ]
      },
      {
       "output_type": "stream",
       "stream": "stdout",
       "text": [
        " MI_ASOS 0 6.0634920634920635\n",
        "VLL"
       ]
      },
      {
       "output_type": "stream",
       "stream": "stdout",
       "text": [
        " MI_ASOS 3 10.2539682539682540\n",
        "FOA"
       ]
      },
      {
       "output_type": "stream",
       "stream": "stdout",
       "text": [
        " IL_ASOS 14 38.5396825396825397\n",
        "ISW"
       ]
      },
      {
       "output_type": "stream",
       "stream": "stdout",
       "text": [
        " WI_ASOS 1 5.6190476190476190\n",
        "BRD"
       ]
      },
      {
       "output_type": "stream",
       "stream": "stdout",
       "text": [
        " MN_ASOS 1 6.9047619047619048\n",
        "AQP"
       ]
      },
      {
       "output_type": "stream",
       "stream": "stdout",
       "text": [
        " MN_ASOS 6 18.1904761904761905\n",
        "YIP"
       ]
      },
      {
       "output_type": "stream",
       "stream": "stdout",
       "text": [
        " MI_ASOS 15 11.8253968253968254\n",
        "SPI"
       ]
      },
      {
       "output_type": "stream",
       "stream": "stdout",
       "text": [
        " IL_ASOS 15 29.6825396825396825\n",
        "ESC"
       ]
      },
      {
       "output_type": "stream",
       "stream": "stdout",
       "text": [
        " MI_ASOS 1 2.9047619047619048\n",
        "VTI"
       ]
      },
      {
       "output_type": "stream",
       "stream": "stdout",
       "text": [
        " AWOS 13 18.5079365079365079\n",
        "LAN"
       ]
      },
      {
       "output_type": "stream",
       "stream": "stdout",
       "text": [
        " MI_ASOS 0 9.7936507936507937\n",
        "LOZ"
       ]
      },
      {
       "output_type": "stream",
       "stream": "stdout",
       "text": [
        " KY_ASOS 17 33.6031746031746032\n",
        "MNM"
       ]
      },
      {
       "output_type": "stream",
       "stream": "stdout",
       "text": [
        " MI_ASOS 1 5.7142857142857143\n",
        "BAX"
       ]
      },
      {
       "output_type": "stream",
       "stream": "stdout",
       "text": [
        " MI_ASOS 0 7.2857142857142857\n",
        "MKG"
       ]
      },
      {
       "output_type": "stream",
       "stream": "stdout",
       "text": [
        " MI_ASOS 0 3.2857142857142857\n",
        "PQN"
       ]
      },
      {
       "output_type": "stream",
       "stream": "stdout",
       "text": [
        " MN_ASOS 0 16.7460317460317460\n",
        "FBL"
       ]
      },
      {
       "output_type": "stream",
       "stream": "stdout",
       "text": [
        " MN_ASOS 10 13.0793650793650794\n",
        "PAH"
       ]
      },
      {
       "output_type": "stream",
       "stream": "stdout",
       "text": [
        " KY_ASOS 46 46.7619047619047619\n",
        "LPR"
       ]
      },
      {
       "output_type": "stream",
       "stream": "stdout",
       "text": [
        " OH_ASOS 11 14.8730158730158730\n",
        "UES"
       ]
      },
      {
       "output_type": "stream",
       "stream": "stdout",
       "text": [
        " WI_ASOS 0 11.7460317460317460\n",
        "CBG"
       ]
      },
      {
       "output_type": "stream",
       "stream": "stdout",
       "text": [
        " MN_ASOS 3 7.4126984126984127\n",
        "MML"
       ]
      },
      {
       "output_type": "stream",
       "stream": "stdout",
       "text": [
        " MN_ASOS 4 18.3333333333333333\n",
        "9MN"
       ]
      },
      {
       "output_type": "stream",
       "stream": "stdout",
       "text": [
        " MN_ASOS 0 7.5714285714285714\n",
        "PLN"
       ]
      },
      {
       "output_type": "stream",
       "stream": "stdout",
       "text": [
        " MI_ASOS 1 4.3968253968253968\n",
        "LJF"
       ]
      },
      {
       "output_type": "stream",
       "stream": "stdout",
       "text": [
        " MN_ASOS 1 13.4126984126984127\n",
        "SBN"
       ]
      },
      {
       "output_type": "stream",
       "stream": "stdout",
       "text": [
        " IN_ASOS 4 13.3968253968253968\n",
        "VER"
       ]
      },
      {
       "output_type": "stream",
       "stream": "stdout",
       "text": [
        " MO_ASOS 175 40.5714285714285714\n",
        "VTN"
       ]
      },
      {
       "output_type": "stream",
       "stream": "stdout",
       "text": [
        " NE_ASOS 28 40.4444444444444444\n",
        "GRB"
       ]
      },
      {
       "output_type": "stream",
       "stream": "stdout",
       "text": [
        " WI_ASOS 1 6.4920634920634921\n",
        "CLE"
       ]
      },
      {
       "output_type": "stream",
       "stream": "stdout",
       "text": [
        " OH_ASOS 4 10.8571428571428571\n",
        "EFC"
       ]
      },
      {
       "output_type": "stream",
       "stream": "stdout",
       "text": [
        " SD_ASOS 0 38.1587301587301587\n",
        "MGG"
       ]
      },
      {
       "output_type": "stream",
       "stream": "stdout",
       "text": [
        " MN_ASOS 1 10.7619047619047619\n",
        "AUH"
       ]
      },
      {
       "output_type": "stream",
       "stream": "stdout",
       "text": [
        " NE_ASOS 12 39.0158730158730159\n",
        "D95"
       ]
      },
      {
       "output_type": "stream",
       "stream": "stdout",
       "text": [
        " MI_ASOS 1 10.1587301587301587\n",
        "CIR"
       ]
      },
      {
       "output_type": "stream",
       "stream": "stdout",
       "text": [
        " IL_ASOS 47 46.8571428571428571\n",
        "2C8"
       ]
      },
      {
       "output_type": "stream",
       "stream": "stdout",
       "text": [
        " ND_ASOS 3 8.7777777777777778\n",
        "AIT"
       ]
      },
      {
       "output_type": "stream",
       "stream": "stdout",
       "text": [
        " MN_ASOS 1 4.6666666666666667\n",
        "VTA"
       ]
      },
      {
       "output_type": "stream",
       "stream": "stdout",
       "text": [
        " OH_ASOS 2 9.6507936507936508\n",
        "DET"
       ]
      },
      {
       "output_type": "stream",
       "stream": "stdout",
       "text": [
        " MI_ASOS 6 12.5873015873015873\n",
        "COQ"
       ]
      },
      {
       "output_type": "stream",
       "stream": "stdout",
       "text": [
        " MN_ASOS 0 5.1428571428571429\n",
        "USE"
       ]
      },
      {
       "output_type": "stream",
       "stream": "stdout",
       "text": [
        " OH_ASOS 7 13.6349206349206349\n",
        "PTS"
       ]
      },
      {
       "output_type": "stream",
       "stream": "stdout",
       "text": [
        " KS_ASOS 42 52.6507936507936508\n",
        "FRM"
       ]
      },
      {
       "output_type": "stream",
       "stream": "stdout",
       "text": [
        " MN_ASOS 1 13.6031746031746032\n",
        "MBG"
       ]
      },
      {
       "output_type": "stream",
       "stream": "stdout",
       "text": [
        " SD_ASOS 5 24.6666666666666667\n",
        "BBG"
       ]
      },
      {
       "output_type": "stream",
       "stream": "stdout",
       "text": [
        " MO_ASOS 60 58.3333333333333333\n",
        "AEL"
       ]
      },
      {
       "output_type": "stream",
       "stream": "stdout",
       "text": [
        " MN_ASOS 0 12.4444444444444444\n",
        "DLZ"
       ]
      },
      {
       "output_type": "stream",
       "stream": "stdout",
       "text": [
        " OH_ASOS 2 10.1428571428571429\n",
        "VYS"
       ]
      },
      {
       "output_type": "stream",
       "stream": "stdout",
       "text": [
        " IL_ASOS 6 23.8730158730158730\n",
        "ABR"
       ]
      },
      {
       "output_type": "stream",
       "stream": "stdout",
       "text": [
        " SD_ASOS 2 21.6507936507936508\n",
        "P58"
       ]
      },
      {
       "output_type": "stream",
       "stream": "stdout",
       "text": [
        " MI_ASOS 0 4.5555555555555556\n",
        "CWI"
       ]
      },
      {
       "output_type": "stream",
       "stream": "stdout",
       "text": [
        " AWOS 2 18.4285714285714286\n",
        "BPP"
       ]
      },
      {
       "output_type": "stream",
       "stream": "stdout",
       "text": [
        " ND_ASOS 0 21.6507936507936508\n",
        "POV"
       ]
      },
      {
       "output_type": "stream",
       "stream": "stdout",
       "text": [
        " OH_ASOS 0 5.7142857142857143\n",
        "HFJ"
       ]
      },
      {
       "output_type": "stream",
       "stream": "stdout",
       "text": [
        " MO_ASOS 27 40.2222222222222222\n",
        "4I7"
       ]
      },
      {
       "output_type": "stream",
       "stream": "stdout",
       "text": [
        " IN_ASOS 0 24.9523809523809524\n",
        "Y63"
       ]
      },
      {
       "output_type": "stream",
       "stream": "stdout",
       "text": [
        " MN_ASOS 0 10.9841269841269841\n",
        "CIU"
       ]
      },
      {
       "output_type": "stream",
       "stream": "stdout",
       "text": [
        " MI_ASOS 0 1.2222222222222222\n",
        "MTO"
       ]
      },
      {
       "output_type": "stream",
       "stream": "stdout",
       "text": [
        " IL_ASOS 4 27.2698412698412698\n",
        "D60"
       ]
      },
      {
       "output_type": "stream",
       "stream": "stdout",
       "text": [
        " ND_ASOS 5 15.1587301587301587\n",
        "RZN"
       ]
      },
      {
       "output_type": "stream",
       "stream": "stdout",
       "text": [
        " WI_ASOS 1 5.8730158730158730\n",
        "RHI"
       ]
      },
      {
       "output_type": "stream",
       "stream": "stdout",
       "text": [
        " WI_ASOS 0 3.6031746031746032\n",
        "CMH"
       ]
      },
      {
       "output_type": "stream",
       "stream": "stdout",
       "text": [
        " OH_ASOS 13 18.8412698412698413\n",
        "DAY"
       ]
      },
      {
       "output_type": "stream",
       "stream": "stdout",
       "text": [
        " OH_ASOS 6 12.2539682539682540\n",
        "P59"
       ]
      },
      {
       "output_type": "stream",
       "stream": "stdout",
       "text": [
        " MI_ASOS 0 2.0317460317460317\n",
        "SAR"
       ]
      },
      {
       "output_type": "stream",
       "stream": "stdout",
       "text": [
        " IL_ASOS 17 32.6507936507936508\n",
        "HZX"
       ]
      },
      {
       "output_type": "stream",
       "stream": "stdout",
       "text": [
        " MN_ASOS 0 4.0952380952380952\n",
        "CVG"
       ]
      },
      {
       "output_type": "stream",
       "stream": "stdout",
       "text": [
        " KY_ASOS 8 27.1587301587301587\n",
        "TVC"
       ]
      },
      {
       "output_type": "stream",
       "stream": "stdout",
       "text": [
        " MI_ASOS 2 6.2063492063492063\n",
        "FWA"
       ]
      },
      {
       "output_type": "stream",
       "stream": "stdout",
       "text": [
        " IN_ASOS 3 16.0952380952380952\n",
        "PRG"
       ]
      },
      {
       "output_type": "stream",
       "stream": "stdout",
       "text": [
        " IL_ASOS 4 26.7777777777777778\n",
        "UBE"
       ]
      },
      {
       "output_type": "stream",
       "stream": "stdout",
       "text": [
        " WI_ASOS 0 6.7777777777777778\n",
        "DCY"
       ]
      },
      {
       "output_type": "stream",
       "stream": "stdout",
       "text": [
        " IN_ASOS 8 33.5873015873015873\n",
        "29G"
       ]
      },
      {
       "output_type": "stream",
       "stream": "stdout",
       "text": [
        " OH_ASOS 0 5.7142857142857143\n",
        "MTC"
       ]
      },
      {
       "output_type": "stream",
       "stream": "stdout",
       "text": [
        " MI_ASOS 3 9.5238095238095238\n",
        "ANW"
       ]
      },
      {
       "output_type": "stream",
       "stream": "stdout",
       "text": [
        " NE_ASOS 9 33.3174603174603175\n",
        "ASW"
       ]
      },
      {
       "output_type": "stream",
       "stream": "stdout",
       "text": [
        " IN_ASOS 3 12.6031746031746032\n",
        "HZE"
       ]
      },
      {
       "output_type": "stream",
       "stream": "stdout",
       "text": [
        " ND_ASOS 6 14.5714285714285714\n",
        "IKW"
       ]
      },
      {
       "output_type": "stream",
       "stream": "stdout",
       "text": [
        " MI_ASOS 0 7.5555555555555556\n",
        "DMO"
       ]
      },
      {
       "output_type": "stream",
       "stream": "stdout",
       "text": [
        " MO_ASOS 33 41.6190476190476190\n",
        "IRS"
       ]
      },
      {
       "output_type": "stream",
       "stream": "stdout",
       "text": [
        " MI_ASOS 2 14.8095238095238095\n",
        "LBL"
       ]
      },
      {
       "output_type": "stream",
       "stream": "stdout",
       "text": [
        " KS_ASOS 86 85.5714285714285714\n",
        "DSM"
       ]
      },
      {
       "output_type": "stream",
       "stream": "stdout",
       "text": [
        " IA_ASOS 11 24.0476190476190476\n",
        "RAC"
       ]
      },
      {
       "output_type": "stream",
       "stream": "stdout",
       "text": [
        " WI_ASOS 0 9.1746031746031746\n",
        "46D"
       ]
      },
      {
       "output_type": "stream",
       "stream": "stdout",
       "text": [
        " ND_ASOS 3 11.0793650793650794\n",
        "GHW"
       ]
      },
      {
       "output_type": "stream",
       "stream": "stdout",
       "text": [
        " MN_ASOS 1 11.3015873015873016\n",
        "N60"
       ]
      },
      {
       "output_type": "stream",
       "stream": "stdout",
       "text": [
        " ND_ASOS 3 14.5714285714285714\n",
        "AXA"
       ]
      },
      {
       "output_type": "stream",
       "stream": "stdout",
       "text": [
        " AWOS 1 15.5714285714285714\n",
        "FSW"
       ]
      },
      {
       "output_type": "stream",
       "stream": "stdout",
       "text": [
        " AWOS 15 24.1428571428571429\n",
        "LXT"
       ]
      },
      {
       "output_type": "stream",
       "stream": "stdout",
       "text": [
        " MO_ASOS 27 42.8412698412698413\n",
        "LRJ"
       ]
      },
      {
       "output_type": "stream",
       "stream": "stdout",
       "text": [
        " AWOS 4 27.1587301587301587\n",
        "MXO"
       ]
      },
      {
       "output_type": "stream",
       "stream": "stdout",
       "text": [
        " AWOS 3 14.9841269841269841\n",
        "SYF"
       ]
      },
      {
       "output_type": "stream",
       "stream": "stdout",
       "text": [
        " KS_ASOS 43 59.6190476190476190\n",
        "CPS"
       ]
      },
      {
       "output_type": "stream",
       "stream": "stdout",
       "text": [
        " IL_ASOS 36 38.6825396825396825\n",
        "C09"
       ]
      },
      {
       "output_type": "stream",
       "stream": "stdout",
       "text": [
        " IL_ASOS 7 18.6349206349206349\n",
        "VWU"
       ]
      },
      {
       "output_type": "stream",
       "stream": "stdout",
       "text": [
        " MN_ASOS 2 4.0634920634920635\n",
        "OCQ"
       ]
      },
      {
       "output_type": "stream",
       "stream": "stdout",
       "text": [
        " WI_ASOS 1 6.2539682539682540\n",
        "STC"
       ]
      },
      {
       "output_type": "stream",
       "stream": "stdout",
       "text": [
        " MN_ASOS 2 9.9523809523809524\n",
        "CGI"
       ]
      },
      {
       "output_type": "stream",
       "stream": "stdout",
       "text": [
        " MO_ASOS 27 58.4126984126984127\n",
        "SJS"
       ]
      },
      {
       "output_type": "stream",
       "stream": "stdout",
       "text": [
        " KY_ASOS 3 26.4603174603174603\n",
        "FGX"
       ]
      },
      {
       "output_type": "stream",
       "stream": "stdout",
       "text": [
        " KY_ASOS 11 20.4444444444444444\n",
        "FNB"
       ]
      },
      {
       "output_type": "stream",
       "stream": "stdout",
       "text": [
        " NE_ASOS 25 44.0158730158730159\n",
        "Y23"
       ]
      },
      {
       "output_type": "stream",
       "stream": "stdout",
       "text": [
        " WI_ASOS 0 5.9206349206349206\n",
        "D39"
       ]
      },
      {
       "output_type": "stream",
       "stream": "stdout",
       "text": [
        " MN_ASOS 1 10.8730158730158730\n",
        "ORB"
       ]
      },
      {
       "output_type": "stream",
       "stream": "stdout",
       "text": [
        " MN_ASOS 1 3.5714285714285714\n",
        "BLM"
       ]
      },
      {
       "output_type": "stream",
       "stream": "stdout",
       "text": [
        " MO_ASOS 0 44.4920634920634921\n",
        "8D3"
       ]
      },
      {
       "output_type": "stream",
       "stream": "stdout",
       "text": [
        " SD_ASOS 1 18.3968253968253968\n",
        "GRR"
       ]
      },
      {
       "output_type": "stream",
       "stream": "stdout",
       "text": [
        " MI_ASOS 0 10.1746031746031746\n",
        "EBS"
       ]
      },
      {
       "output_type": "stream",
       "stream": "stdout",
       "text": [
        " AWOS 3 16.6349206349206349\n",
        "MIC"
       ]
      },
      {
       "output_type": "stream",
       "stream": "stdout",
       "text": [
        " MN_ASOS 1 14.2539682539682540\n",
        "SPW"
       ]
      },
      {
       "output_type": "stream",
       "stream": "stdout",
       "text": [
        " IA_ASOS 1 18.4444444444444444\n",
        "FSE"
       ]
      },
      {
       "output_type": "stream",
       "stream": "stdout",
       "text": [
        " MN_ASOS 3 6.5873015873015873\n",
        "1II"
       ]
      },
      {
       "output_type": "stream",
       "stream": "stdout",
       "text": [
        " IN_ASOS 8 17.8730158730158730\n",
        "JKL"
       ]
      },
      {
       "output_type": "stream",
       "stream": "stdout",
       "text": [
        " KY_ASOS 7 19.8571428571428571\n",
        "FFM"
       ]
      },
      {
       "output_type": "stream",
       "stream": "stdout",
       "text": [
        " MN_ASOS 3 6.3015873015873016\n",
        "AJG"
       ]
      },
      {
       "output_type": "stream",
       "stream": "stdout",
       "text": [
        " IL_ASOS 35 39.1904761904761905\n",
        "BAC"
       ]
      },
      {
       "output_type": "stream",
       "stream": "stdout",
       "text": [
        " ND_ASOS 2 12.9523809523809524\n",
        "CCY"
       ]
      },
      {
       "output_type": "stream",
       "stream": "stdout",
       "text": [
        " AWOS 1 13.9841269841269841\n",
        "HEI"
       ]
      },
      {
       "output_type": "stream",
       "stream": "stdout",
       "text": [
        " ND_ASOS 7 17.8253968253968254\n",
        "VOK"
       ]
      },
      {
       "output_type": "stream",
       "stream": "stdout",
       "text": [
        " WI_ASOS 0 13.0634920634920635\n",
        "EAU"
       ]
      },
      {
       "output_type": "stream",
       "stream": "stdout",
       "text": [
        " WI_ASOS 1 11.5714285714285714\n",
        "STP"
       ]
      },
      {
       "output_type": "stream",
       "stream": "stdout",
       "text": [
        " MN_ASOS 0 14.2539682539682540\n",
        "SLB"
       ]
      },
      {
       "output_type": "stream",
       "stream": "stdout",
       "text": [
        " AWOS 2 13.9523809523809524\n",
        "PDC"
       ]
      },
      {
       "output_type": "stream",
       "stream": "stdout",
       "text": [
        " WI_ASOS 2 20.2222222222222222\n",
        "GWR"
       ]
      },
      {
       "output_type": "stream",
       "stream": "stdout",
       "text": [
        " ND_ASOS 5 17.2380952380952381\n",
        "PIR"
       ]
      },
      {
       "output_type": "stream",
       "stream": "stdout",
       "text": [
        " SD_ASOS 15 41.3809523809523810\n",
        "GAF"
       ]
      },
      {
       "output_type": "stream",
       "stream": "stdout",
       "text": [
        " ND_ASOS 3 14.2857142857142857\n",
        "HUF"
       ]
      },
      {
       "output_type": "stream",
       "stream": "stdout",
       "text": [
        " IN_ASOS 9 18.5555555555555556\n",
        "LWV"
       ]
      },
      {
       "output_type": "stream",
       "stream": "stdout",
       "text": [
        " IL_ASOS 17 40.9523809523809524\n",
        "DYT"
       ]
      },
      {
       "output_type": "stream",
       "stream": "stdout",
       "text": [
        " MN_ASOS 1 1.9365079365079365\n",
        "ADU"
       ]
      },
      {
       "output_type": "stream",
       "stream": "stdout",
       "text": [
        " AWOS 13 22.0634920634920635\n",
        "PNM"
       ]
      },
      {
       "output_type": "stream",
       "stream": "stdout",
       "text": [
        " MN_ASOS 2 8.2539682539682540\n",
        "PKD"
       ]
      },
      {
       "output_type": "stream",
       "stream": "stdout",
       "text": [
        " MN_ASOS 1 5.8253968253968254\n",
        "CLI"
       ]
      },
      {
       "output_type": "stream",
       "stream": "stdout",
       "text": [
        " WI_ASOS 1 8.4285714285714286\n",
        "TZR"
       ]
      },
      {
       "output_type": "stream",
       "stream": "stdout",
       "text": [
        " OH_ASOS 3 16.1111111111111111\n",
        "CKC"
       ]
      },
      {
       "output_type": "stream",
       "stream": "stdout",
       "text": [
        " MN_ASOS 0 0.44444444444444444444\n",
        "OSC"
       ]
      },
      {
       "output_type": "stream",
       "stream": "stdout",
       "text": [
        " MI_ASOS 2 5.1746031746031746\n",
        "IBM"
       ]
      },
      {
       "output_type": "stream",
       "stream": "stdout",
       "text": [
        " NE_ASOS 16 32.6984126984126984\n",
        "RQB"
       ]
      },
      {
       "output_type": "stream",
       "stream": "stdout",
       "text": [
        " MI_ASOS 0 8.0000000000000000\n",
        "AMN"
       ]
      },
      {
       "output_type": "stream",
       "stream": "stdout",
       "text": [
        " MI_ASOS 0 12.6190476190476190\n",
        "GDB"
       ]
      },
      {
       "output_type": "stream",
       "stream": "stdout",
       "text": [
        " MN_ASOS 1 17.1746031746031746\n",
        "EST"
       ]
      },
      {
       "output_type": "stream",
       "stream": "stdout",
       "text": [
        " IA_ASOS 1 13.9841269841269841\n",
        "MQB"
       ]
      },
      {
       "output_type": "stream",
       "stream": "stdout",
       "text": [
        " IL_ASOS 6 21.8888888888888889\n",
        "ENW"
       ]
      },
      {
       "output_type": "stream",
       "stream": "stdout",
       "text": [
        " WI_ASOS 0 7.3809523809523810\n",
        "PHN"
       ]
      },
      {
       "output_type": "stream",
       "stream": "stdout",
       "text": [
        " MI_ASOS 0 11.7777777777777778\n",
        "BIE"
       ]
      },
      {
       "output_type": "stream",
       "stream": "stdout",
       "text": [
        " NE_ASOS 29 35.5873015873015873\n",
        "GYY"
       ]
      },
      {
       "output_type": "stream",
       "stream": "stdout",
       "text": [
        " IN_ASOS 6 14.5714285714285714\n",
        "JKJ"
       ]
      },
      {
       "output_type": "stream",
       "stream": "stdout",
       "text": [
        " MN_ASOS 4 13.9047619047619048\n",
        "CAV"
       ]
      },
      {
       "output_type": "stream",
       "stream": "stdout",
       "text": [
        " AWOS 5 15.3333333333333333\n",
        "PTT"
       ]
      },
      {
       "output_type": "stream",
       "stream": "stdout",
       "text": [
        " KS_ASOS 59 71.2539682539682540\n",
        "CDD"
       ]
      },
      {
       "output_type": "stream",
       "stream": "stdout",
       "text": [
        " MN_ASOS 1 3.5714285714285714\n",
        "MVN"
       ]
      },
      {
       "output_type": "stream",
       "stream": "stdout",
       "text": [
        " IL_ASOS 29 34.3809523809523810\n",
        "MSP"
       ]
      },
      {
       "output_type": "stream",
       "stream": "stdout",
       "text": [
        " MN_ASOS 2 9.4285714285714286\n",
        "EGV"
       ]
      },
      {
       "output_type": "stream",
       "stream": "stdout",
       "text": [
        " WI_ASOS 0 1.8412698412698413\n",
        "MZH"
       ]
      },
      {
       "output_type": "stream",
       "stream": "stdout",
       "text": [
        " MN_ASOS 1 5.9047619047619048\n",
        "ADG"
       ]
      },
      {
       "output_type": "stream",
       "stream": "stdout",
       "text": [
        " MI_ASOS 3 14.2857142857142857\n",
        "C35"
       ]
      },
      {
       "output_type": "stream",
       "stream": "stdout",
       "text": [
        " WI_ASOS 1 8.9523809523809524\n",
        "1H2"
       ]
      },
      {
       "output_type": "stream",
       "stream": "stdout",
       "text": [
        " IL_ASOS 16 36.3809523809523810\n",
        "CVX"
       ]
      },
      {
       "output_type": "stream",
       "stream": "stdout",
       "text": [
        " MI_ASOS 1 2.1269841269841270\n",
        "MRJ"
       ]
      },
      {
       "output_type": "stream",
       "stream": "stdout",
       "text": [
        " WI_ASOS 1 7.2380952380952381\n",
        "EVV"
       ]
      },
      {
       "output_type": "stream",
       "stream": "stdout",
       "text": [
        " IN_ASOS 28 42.7936507936507937\n",
        "GGI"
       ]
      },
      {
       "output_type": "stream",
       "stream": "stdout",
       "text": [
        " AWOS 1 16.0952380952380952\n",
        "RDK"
       ]
      },
      {
       "output_type": "stream",
       "stream": "stdout",
       "text": [
        " AWOS 12 35.4603174603174603\n",
        "PBH"
       ]
      },
      {
       "output_type": "stream",
       "stream": "stdout",
       "text": [
        " WI_ASOS 0 1.7301587301587302\n",
        "DEH"
       ]
      },
      {
       "output_type": "stream",
       "stream": "stdout",
       "text": [
        " AWOS 0 12.9365079365079365\n",
        "IGQ"
       ]
      },
      {
       "output_type": "stream",
       "stream": "stdout",
       "text": [
        " IL_ASOS 2 16.8571428571428571\n",
        "ICT"
       ]
      },
      {
       "output_type": "stream",
       "stream": "stdout",
       "text": [
        " KS_ASOS 68 63.9047619047619048\n",
        "MIB"
       ]
      },
      {
       "output_type": "stream",
       "stream": "stdout",
       "text": [
        " ND_ASOS 4 13.8730158730158730\n",
        "BKL"
       ]
      },
      {
       "output_type": "stream",
       "stream": "stdout",
       "text": [
        " OH_ASOS 3 10.8571428571428571\n",
        "TEW"
       ]
      },
      {
       "output_type": "stream",
       "stream": "stdout",
       "text": [
        " MI_ASOS 1 9.0952380952380952\n",
        "M30"
       ]
      },
      {
       "output_type": "stream",
       "stream": "stdout",
       "text": [
        " IL_ASOS 31 44.6825396825396825\n",
        "LXL"
       ]
      },
      {
       "output_type": "stream",
       "stream": "stdout",
       "text": [
        " MN_ASOS 1 12.6349206349206349\n",
        "D50"
       ]
      },
      {
       "output_type": "stream",
       "stream": "stdout",
       "text": [
        " ND_ASOS 3 16.5555555555555556\n",
        "CGF"
       ]
      },
      {
       "output_type": "stream",
       "stream": "stdout",
       "text": [
        " OH_ASOS 5 4.7142857142857143\n",
        "SGH"
       ]
      },
      {
       "output_type": "stream",
       "stream": "stdout",
       "text": [
        " OH_ASOS 3 15.5714285714285714\n",
        "LDM"
       ]
      },
      {
       "output_type": "stream",
       "stream": "stdout",
       "text": [
        " MI_ASOS 0 3.6825396825396825\n",
        "EFT"
       ]
      },
      {
       "output_type": "stream",
       "stream": "stdout",
       "text": [
        " WI_ASOS 1 10.4444444444444444\n",
        "FSD"
       ]
      },
      {
       "output_type": "stream",
       "stream": "stdout",
       "text": [
        " SD_ASOS 4 21.5714285714285714\n",
        "MFI"
       ]
      },
      {
       "output_type": "stream",
       "stream": "stdout",
       "text": [
        " WI_ASOS 0 5.8730158730158730\n",
        "HSI"
       ]
      },
      {
       "output_type": "stream",
       "stream": "stdout",
       "text": [
        " NE_ASOS 21 41.5238095238095238\n",
        "MNN"
       ]
      },
      {
       "output_type": "stream",
       "stream": "stdout",
       "text": [
        " OH_ASOS 2 17.4285714285714286\n",
        "LOT"
       ]
      },
      {
       "output_type": "stream",
       "stream": "stdout",
       "text": [
        " IL_ASOS 1 17.1269841269841270\n",
        "AIG"
       ]
      },
      {
       "output_type": "stream",
       "stream": "stdout",
       "text": [
        " WI_ASOS 0 3.0476190476190476\n",
        "MBS"
       ]
      },
      {
       "output_type": "stream",
       "stream": "stdout",
       "text": [
        " MI_ASOS 1 7.5555555555555556\n",
        "CKN"
       ]
      },
      {
       "output_type": "stream",
       "stream": "stdout",
       "text": [
        " MN_ASOS 5 10.2380952380952381\n",
        "LAF"
       ]
      },
      {
       "output_type": "stream",
       "stream": "stdout",
       "text": [
        " IN_ASOS 1 17.0952380952380952\n",
        "EQA"
       ]
      },
      {
       "output_type": "stream",
       "stream": "stdout",
       "text": [
        " KS_ASOS 41 56.3809523809523810\n",
        "SLO"
       ]
      },
      {
       "output_type": "stream",
       "stream": "stdout",
       "text": [
        " IL_ASOS 23 38.7142857142857143\n",
        "JEF"
       ]
      },
      {
       "output_type": "stream",
       "stream": "stdout",
       "text": [
        " MO_ASOS 31 45.7460317460317460\n",
        "OTM"
       ]
      },
      {
       "output_type": "stream",
       "stream": "stdout",
       "text": [
        " IA_ASOS 4 23.3492063492063492\n",
        "DLL"
       ]
      },
      {
       "output_type": "stream",
       "stream": "stdout",
       "text": [
        " WI_ASOS 2 12.1587301587301587\n",
        "IOW"
       ]
      },
      {
       "output_type": "stream",
       "stream": "stdout",
       "text": [
        " IA_ASOS 4 26.6825396825396825\n",
        "STL"
       ]
      },
      {
       "output_type": "stream",
       "stream": "stdout",
       "text": [
        " MO_ASOS 36 41.7777777777777778\n",
        "HAE"
       ]
      },
      {
       "output_type": "stream",
       "stream": "stdout",
       "text": [
        " MO_ASOS 27 29.5396825396825397\n",
        "SFY"
       ]
      },
      {
       "output_type": "stream",
       "stream": "stdout",
       "text": [
        " IL_ASOS 4 16.1587301587301587\n",
        "MHK"
       ]
      },
      {
       "output_type": "stream",
       "stream": "stdout",
       "text": [
        " KS_ASOS 57 58.0634920634920635\n",
        "LOU"
       ]
      },
      {
       "output_type": "stream",
       "stream": "stdout",
       "text": [
        " KY_ASOS 30 36.8571428571428571\n",
        "9D7"
       ]
      },
      {
       "output_type": "stream",
       "stream": "stdout",
       "text": [
        " ND_ASOS 1 8.9682539682539683\n",
        "JMR"
       ]
      },
      {
       "output_type": "stream",
       "stream": "stdout",
       "text": [
        " MN_ASOS 0 9.0952380952380952\n",
        "CUL"
       ]
      },
      {
       "output_type": "stream",
       "stream": "stdout",
       "text": [
        " IL_ASOS 29 38.5396825396825397\n",
        "CUT"
       ]
      },
      {
       "output_type": "stream",
       "stream": "stdout",
       "text": [
        " SD_ASOS 2 7.3650793650793651\n",
        "DVN"
       ]
      },
      {
       "output_type": "stream",
       "stream": "stdout",
       "text": [
        " IA_ASOS 4 17.1269841269841270\n",
        "LWC"
       ]
      },
      {
       "output_type": "stream",
       "stream": "stdout",
       "text": [
        " KS_ASOS 43 49.4285714285714286\n",
        "TIF"
       ]
      },
      {
       "output_type": "stream",
       "stream": "stdout",
       "text": [
        " NE_ASOS 29 36.7460317460317460\n",
        "IDP"
       ]
      },
      {
       "output_type": "stream",
       "stream": "stdout",
       "text": [
        " KS_ASOS 35 59.2222222222222222\n",
        "SUX"
       ]
      },
      {
       "output_type": "stream",
       "stream": "stdout",
       "text": [
        " IA_ASOS 8 27.3174603174603175\n",
        "DTW"
       ]
      },
      {
       "output_type": "stream",
       "stream": "stdout",
       "text": [
        " MI_ASOS 4 11.8412698412698413\n",
        "PCZ"
       ]
      },
      {
       "output_type": "stream",
       "stream": "stdout",
       "text": [
        " WI_ASOS 2 11.4444444444444444\n",
        "OSH"
       ]
      },
      {
       "output_type": "stream",
       "stream": "stdout",
       "text": [
        " WI_ASOS 1 8.7936507936507937\n",
        "MOP"
       ]
      },
      {
       "output_type": "stream",
       "stream": "stdout",
       "text": [
        " MI_ASOS 0 10.0158730158730159\n",
        "CKP"
       ]
      },
      {
       "output_type": "stream",
       "stream": "stdout",
       "text": [
        " AWOS 0 21.0793650793650794\n",
        "SYM"
       ]
      },
      {
       "output_type": "stream",
       "stream": "stdout",
       "text": [
        " KY_ASOS 9 32.9206349206349206\n",
        "GBG"
       ]
      },
      {
       "output_type": "stream",
       "stream": "stdout",
       "text": [
        " IL_ASOS 7 19.4761904761904762\n",
        "MGY"
       ]
      },
      {
       "output_type": "stream",
       "stream": "stdout",
       "text": [
        " OH_ASOS 3 20.9523809523809524\n",
        "BFF"
       ]
      },
      {
       "output_type": "stream",
       "stream": "stdout",
       "text": [
        " NE_ASOS 50 43.6825396825396825\n",
        "LNL"
       ]
      },
      {
       "output_type": "stream",
       "stream": "stdout",
       "text": [
        " WI_ASOS 0 1.2698412698412698\n",
        "3LF"
       ]
      },
      {
       "output_type": "stream",
       "stream": "stdout",
       "text": [
        " IL_ASOS 9 29.2698412698412698\n",
        "MCD"
       ]
      },
      {
       "output_type": "stream",
       "stream": "stdout",
       "text": [
        " MI_ASOS 0 3.7301587301587302\n",
        "IXD"
       ]
      },
      {
       "output_type": "stream",
       "stream": "stdout",
       "text": [
        " KS_ASOS 32 44.3968253968253968\n",
        "7L2"
       ]
      },
      {
       "output_type": "stream",
       "stream": "stdout",
       "text": [
        " ND_ASOS 6 13.2857142857142857\n",
        "VPZ"
       ]
      },
      {
       "output_type": "stream",
       "stream": "stdout",
       "text": [
        " IN_ASOS 2 14.5714285714285714\n",
        "OXI"
       ]
      },
      {
       "output_type": "stream",
       "stream": "stdout",
       "text": [
        " IN_ASOS 59 14.5714285714285714\n",
        "PTK"
       ]
      },
      {
       "output_type": "stream",
       "stream": "stdout",
       "text": [
        " MI_ASOS 1 10.2539682539682540\n",
        "JMS"
       ]
      },
      {
       "output_type": "stream",
       "stream": "stdout",
       "text": [
        " ND_ASOS 2 15.8253968253968254\n",
        "DLH"
       ]
      },
      {
       "output_type": "stream",
       "stream": "stdout",
       "text": [
        " MN_ASOS 0 1.9365079365079365\n",
        "GGP"
       ]
      },
      {
       "output_type": "stream",
       "stream": "stdout",
       "text": [
        " IN_ASOS 2 13.5555555555555556\n",
        "MDZ"
       ]
      },
      {
       "output_type": "stream",
       "stream": "stdout",
       "text": [
        " WI_ASOS 0 2.5714285714285714\n",
        "RRL"
       ]
      },
      {
       "output_type": "stream",
       "stream": "stdout",
       "text": [
        " WI_ASOS 0 4.5079365079365079\n",
        "LNK"
       ]
      },
      {
       "output_type": "stream",
       "stream": "stdout",
       "text": [
        " NE_ASOS 35 34.0793650793650794\n",
        "GRI"
       ]
      },
      {
       "output_type": "stream",
       "stream": "stdout",
       "text": [
        " NE_ASOS 21 39.0000000000000000\n",
        "EVM"
       ]
      },
      {
       "output_type": "stream",
       "stream": "stdout",
       "text": [
        " MN_ASOS 2 1.9365079365079365\n",
        "BIV"
       ]
      },
      {
       "output_type": "stream",
       "stream": "stdout",
       "text": [
        " MI_ASOS 2 10.0476190476190476\n",
        "HDE"
       ]
      },
      {
       "output_type": "stream",
       "stream": "stdout",
       "text": [
        " NE_ASOS 26 40.1269841269841270\n",
        "ISN"
       ]
      },
      {
       "output_type": "stream",
       "stream": "stdout",
       "text": [
        " ND_ASOS 16 21.7936507936507937\n",
        "LEX"
       ]
      },
      {
       "output_type": "stream",
       "stream": "stdout",
       "text": [
        " KY_ASOS 21 22.6507936507936508\n",
        "RPJ"
       ]
      },
      {
       "output_type": "stream",
       "stream": "stdout",
       "text": [
        " IL_ASOS 5 12.3968253968253968\n",
        "RCA"
       ]
      },
      {
       "output_type": "stream",
       "stream": "stdout",
       "text": [
        " SD_ASOS 10 26.5079365079365079\n",
        "HLC"
       ]
      },
      {
       "output_type": "stream",
       "stream": "stdout",
       "text": [
        " KS_ASOS 66 55.7936507936507937\n",
        "TOP"
       ]
      },
      {
       "output_type": "stream",
       "stream": "stdout",
       "text": [
        " KS_ASOS 45 46.4126984126984127\n",
        "HSB"
       ]
      },
      {
       "output_type": "stream",
       "stream": "stdout",
       "text": [
        " IL_ASOS 24 53.7619047619047619\n",
        "2WX"
       ]
      },
      {
       "output_type": "stream",
       "stream": "stdout",
       "text": [
        " SD_ASOS 15 24.4920634920634921\n",
        "TKC"
       ]
      },
      {
       "output_type": "stream",
       "stream": "stdout",
       "text": [
        " MN_ASOS 0 17.6666666666666667\n",
        "GLW"
       ]
      },
      {
       "output_type": "stream",
       "stream": "stdout",
       "text": [
        " KY_ASOS 112 36.8730158730158730\n",
        "ANQ"
       ]
      },
      {
       "output_type": "stream",
       "stream": "stdout",
       "text": [
        " IN_ASOS 4 8.6349206349206349\n",
        "BDE"
       ]
      },
      {
       "output_type": "stream",
       "stream": "stdout",
       "text": [
        " MN_ASOS 1 3.7142857142857143\n",
        "RPD"
       ]
      },
      {
       "output_type": "stream",
       "stream": "stdout",
       "text": [
        " WI_ASOS 0 5.9206349206349206\n",
        "CNB"
       ]
      },
      {
       "output_type": "stream",
       "stream": "stdout",
       "text": [
        " MN_ASOS 2 23.6825396825396825\n",
        "PNT"
       ]
      },
      {
       "output_type": "stream",
       "stream": "stdout",
       "text": [
        " IL_ASOS 14 20.6190476190476190\n",
        "BCK"
       ]
      },
      {
       "output_type": "stream",
       "stream": "stdout",
       "text": [
        " WI_ASOS 2 13.5079365079365079\n",
        "BUU"
       ]
      },
      {
       "output_type": "stream",
       "stream": "stdout",
       "text": [
        " WI_ASOS 0 10.9682539682539683\n",
        "PVB"
       ]
      },
      {
       "output_type": "stream",
       "stream": "stdout",
       "text": [
        " WI_ASOS 1 11.8253968253968254\n",
        "I67"
       ]
      },
      {
       "output_type": "stream",
       "stream": "stdout",
       "text": [
        " OH_ASOS 0 12.7142857142857143\n",
        "MDS"
       ]
      },
      {
       "output_type": "stream",
       "stream": "stdout",
       "text": [
        " SD_ASOS 0 14.9682539682539683\n",
        "MKC"
       ]
      },
      {
       "output_type": "stream",
       "stream": "stdout",
       "text": [
        " MO_ASOS 36 45.2063492063492063\n",
        "TQE"
       ]
      },
      {
       "output_type": "stream",
       "stream": "stdout",
       "text": [
        " NE_ASOS 18 36.2539682539682540\n",
        "OFF"
       ]
      },
      {
       "output_type": "stream",
       "stream": "stdout",
       "text": [
        " NE_ASOS 15 32.5714285714285714\n",
        "BMG"
       ]
      },
      {
       "output_type": "stream",
       "stream": "stdout",
       "text": [
        " IN_ASOS 5 23.2857142857142857\n",
        "CFV"
       ]
      },
      {
       "output_type": "stream",
       "stream": "stdout",
       "text": [
        " KS_ASOS 46 59.7936507936507937\n",
        "VIH"
       ]
      },
      {
       "output_type": "stream",
       "stream": "stdout",
       "text": [
        " MO_ASOS 27 41.7777777777777778\n",
        "MPZ"
       ]
      },
      {
       "output_type": "stream",
       "stream": "stdout",
       "text": [
        " AWOS 9 22.8095238095238095\n",
        "CFE"
       ]
      },
      {
       "output_type": "stream",
       "stream": "stdout",
       "text": [
        " MN_ASOS 1 10.7619047619047619\n",
        "DWU"
       ]
      },
      {
       "output_type": "stream",
       "stream": "stdout",
       "text": [
        " KY_ASOS 3 34.6349206349206349\n",
        "LCK"
       ]
      },
      {
       "output_type": "stream",
       "stream": "stdout",
       "text": [
        " OH_ASOS 9 16.1111111111111111\n",
        "FAM"
       ]
      },
      {
       "output_type": "stream",
       "stream": "stdout",
       "text": [
        " MO_ASOS 30 38.0000000000000000\n",
        "MYZ"
       ]
      },
      {
       "output_type": "stream",
       "stream": "stdout",
       "text": [
        " KS_ASOS 31 47.8888888888888889\n",
        "AOH"
       ]
      },
      {
       "output_type": "stream",
       "stream": "stdout",
       "text": [
        " OH_ASOS 3 16.0793650793650794\n"
       ]
      }
     ],
     "prompt_number": 4
    },
    {
     "cell_type": "code",
     "collapsed": false,
     "input": [
      "lons = []\n",
      "lats = []\n",
      "vals = []\n",
      "labels = []\n",
      "for line in open('/tmp/a.txt'):\n",
      "    tokens = line.split()\n",
      "    lons.append( float(nt.sts[tokens[0]]['lon']) )\n",
      "    lats.append( float(nt.sts[tokens[0]]['lat']) )\n",
      "    vals.append( float(tokens[2]) - float(tokens[3]) )\n",
      "    labels.append( \"%s\\n%.0f\" % (tokens[2], float(tokens[2]) - float(tokens[3])))"
     ],
     "language": "python",
     "metadata": {},
     "outputs": [],
     "prompt_number": 19
    },
    {
     "cell_type": "code",
     "collapsed": false,
     "input": [
      "from pyiem.plot import MapPlot\n",
      "import matplotlib.cm as cm\n",
      "cmap = cm.get_cmap('RdBu_r')\n",
      "cmap.set_under('black')\n",
      "cmap.set_over('pink')\n",
      "m = MapPlot(sector='midwest', title=\"1 Jan - 7 Oct 2014 Days over and Departure of 90$^\\circ$F Days\",\n",
      "            subtitle='vs 1951-2013 Average number of days to date', axisbg='white')\n",
      "m.contourf(lons, lats, vals, range(-30,31,5) , cmap=cmap, label='days')\n",
      "#m.plot_values(lons, lats, labels, '%s')\n",
      "m.postprocess(filename='test.ps')"
     ],
     "language": "python",
     "metadata": {},
     "outputs": [
      {
       "metadata": {},
       "output_type": "display_data",
       "png": "[encoded data removed]",
       "text": [
        "<matplotlib.figure.Figure at 0x4e8e890>"
       ]
      }
     ],
     "prompt_number": 20
    },
    {
     "cell_type": "code",
     "collapsed": false,
     "input": [
      "import iemplot\n",
      "iemplot.makefeature('test')"
     ],
     "language": "python",
     "metadata": {},
     "outputs": [
      {
       "output_type": "stream",
       "stream": "stderr",
       "text": [
        "/usr/lib64/python2.6/site-packages/matplotlib/__init__.py:1256: UserWarning:  This call to matplotlib.use() has no effect\n",
        "because the backend has already been chosen;\n",
        "matplotlib.use() must be called *before* pylab, matplotlib.pyplot,\n",
        "or matplotlib.backends is imported for the first time.\n",
        "\n",
        "  warnings.warn(_use_error_msg)\n"
       ]
      }
     ],
     "prompt_number": 21
    },
    {
     "cell_type": "code",
     "collapsed": false,
     "input": [],
     "language": "python",
     "metadata": {},
     "outputs": []
    }
   ],
   "metadata": {}
  }
 ]
}