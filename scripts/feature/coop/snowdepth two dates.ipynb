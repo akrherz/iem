{
 "metadata": {
  "name": "",
  "signature": "sha256:2e1456a7fc2572fcdf8beae9c77dfc325c75a38143b6ba0e612a41278191de47"
 },
 "nbformat": 3,
 "nbformat_minor": 0,
 "worksheets": [
  {
   "cells": [
    {
     "cell_type": "code",
     "collapsed": false,
     "input": [
      "%matplotlib inline\n",
      "import urllib\n",
      "import urllib2\n",
      "import json\n",
      "\n",
      "data = {'sql': \"\"\"SELECT to_char(day, 'YYYYmmdd') as d, snowd from alldata_ia where station = 'IA2203' and\n",
      "        (month = 11 or sday = '1225')\"\"\"}\n",
      "url = \"http://mesonet.agron.iastate.edu/api/sql/database/coop?%s\" % (urllib.urlencode(data),)\n",
      "\n",
      "jdata = json.load( urllib2.urlopen(url) )"
     ],
     "language": "python",
     "metadata": {},
     "outputs": [
      {
       "output_type": "stream",
       "stream": "stdout",
       "text": [
        "Populating the interactive namespace from numpy and matplotlib\n"
       ]
      }
     ],
     "prompt_number": 2
    },
    {
     "cell_type": "code",
     "collapsed": false,
     "input": [
      "data = {}\n",
      "for row in jdata['results']:\n",
      "    data[ row['d'] ] = row['snowd']"
     ],
     "language": "python",
     "metadata": {},
     "outputs": [],
     "prompt_number": 3
    },
    {
     "cell_type": "code",
     "collapsed": false,
     "input": [
      "import mx.DateTime\n",
      "iChristmas = 0\n",
      "iTurkey = 0\n",
      "iBoth = 0\n",
      "years = 0\n",
      "for yr in range(1893,2013):\n",
      "    years += 1\n",
      "    nov1 = mx.DateTime.DateTime(yr, 11, 1)\n",
      "    turkey = nov1 + mx.DateTime.RelativeDateTime(weekday=(mx.DateTime.Thursday,4))\n",
      "    thanksgiving = data[turkey.strftime(\"%Y%m%d\")]\n",
      "    christmas = data['%s1225' % (yr,)]\n",
      "    if christmas > 0:\n",
      "        iChristmas += 1\n",
      "    if thanksgiving > 0:\n",
      "        iTurkey += 1\n",
      "    if thanksgiving > 0 and christmas > 0:\n",
      "        iBoth += 1"
     ],
     "language": "python",
     "metadata": {},
     "outputs": [],
     "prompt_number": 6
    },
    {
     "cell_type": "code",
     "collapsed": false,
     "input": [
      "import matplotlib.pyplot as plt\n",
      "\n",
      "(fig, ax) = plt.subplots(1,1)\n",
      "\n",
      "ax.set_title(\"1893-2012 Des Moines Snow Cover\")\n",
      "ax.set_ylabel(\"Percent of Years\")\n",
      "bars = ax.bar([1,2,3], [iTurkey/float(years)*100., iChristmas/float(years)*100.,iBoth/float(years)*100.])\n",
      "\n",
      "for bar in bars:\n",
      "    ax.text(bar.get_x() + 0.4, bar.get_height()+1.4, '%.1f %%' % (bar.get_height(),), ha='center') \n",
      "\n",
      "ax.set_ylim(top=50)\n",
      "ax.grid(True)\n",
      "ax.set_xticks([1.4, 2.4, 3.4])\n",
      "ax.set_xticklabels(['White\\nThanksgiving', 'White\\nChristmas', 'Both White\\non same year'])\n"
     ],
     "language": "python",
     "metadata": {},
     "outputs": [
      {
       "metadata": {},
       "output_type": "pyout",
       "prompt_number": 18,
       "text": [
        "[<matplotlib.text.Text at 0x4a93050>,\n",
        " <matplotlib.text.Text at 0x4738390>,\n",
        " <matplotlib.text.Text at 0x4c547d0>]"
       ]
      },
      {
       "metadata": {},
       "output_type": "display_data",
       "png": "[encoded data removed]",
       "text": [
        "<matplotlib.figure.Figure at 0x4a85e10>"
       ]
      }
     ],
     "prompt_number": 18
    },
    {
     "cell_type": "code",
     "collapsed": false,
     "input": [
      "fig.savefig('test.png')"
     ],
     "language": "python",
     "metadata": {},
     "outputs": [
      {
       "output_type": "stream",
       "stream": "stderr",
       "text": [
        "/usr/lib64/python2.6/site-packages/matplotlib/__init__.py:1141: UserWarning:  This call to matplotlib.use() has no effect\n",
        "because the the backend has already been chosen;\n",
        "matplotlib.use() must be called *before* pylab, matplotlib.pyplot,\n",
        "or matplotlib.backends is imported for the first time.\n",
        "\n",
        "  warnings.warn(_use_error_msg)\n"
       ]
      }
     ],
     "prompt_number": 19
    },
    {
     "cell_type": "code",
     "collapsed": false,
     "input": [],
     "language": "python",
     "metadata": {},
     "outputs": []
    }
   ],
   "metadata": {}
  }
 ]
}