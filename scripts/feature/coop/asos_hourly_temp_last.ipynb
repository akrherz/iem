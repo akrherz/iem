{
 "cells": [
  {
   "cell_type": "code",
   "execution_count": 4,
   "metadata": {
    "collapsed": false
   },
   "outputs": [
    {
     "name": "stdout",
     "output_type": "stream",
     "text": [
      "[0.0, 1.0, 2.0, 3.0, 4.0, 5.0, 6.0, 7.0, 8.0, 9.0, 10.0, 11.0, 12.0, 13.0, 14.0, 15.0, 16.0, 17.0, 18.0, 19.0, 20.0, 21.0, 22.0, 23.0]\n"
     ]
    }
   ],
   "source": [
    "%matplotlib inline\n",
    "import psycopg2\n",
    "ASOS = psycopg2.connect(database='asos', host='iemdb', user='nobody')\n",
    "acursor = ASOS.cursor()\n",
    "\n",
    "hrs = []\n",
    "tmpf = []\n",
    "days = []\n",
    "acursor.execute(\"\"\"SELECT date(valid ) as d,\n",
    "  extract(hour  from valid + '10 minutes'::interval) as hr\n",
    "  , min(round(tmpf::numeric,0)) from t2016\n",
    "  where station = 'DSM' and valid > '2016-03-07 23:50' \n",
    "  and valid < '2016-03-08 23:00' GROUP by d, hr ORDER by d, hr ASC\"\"\")\n",
    "for row in acursor:\n",
    "    tmpf.append( float(row[2]) )\n",
    "    hrs.append( row[1] )\n",
    "    days.append( row[0]) \n",
    "\n",
    "print hrs"
   ]
  },
  {
   "cell_type": "code",
   "execution_count": 2,
   "metadata": {
    "collapsed": false
   },
   "outputs": [],
   "source": [
    "import mx.DateTime\n",
    "thursdays =[]\n",
    "for yr in range(1880,2015):\n",
    "  nov1 = mx.DateTime.DateTime(yr, 2, 14)\n",
    "  turkey = nov1\n",
    "  #turkey = nov1 + mx.DateTime.RelativeDateTime(weekday=(mx.DateTime.Thursday,4))\n",
    "  thursdays.append(turkey.strftime(\"%Y-%m-%d\"))"
   ]
  },
  {
   "cell_type": "code",
   "execution_count": 5,
   "metadata": {
    "collapsed": false
   },
   "outputs": [
    {
     "name": "stdout",
     "output_type": "stream",
     "text": [
      "0.0 64.0 2016-03-07 2000-03-07 23:54:00-06:00\n",
      "1.0 64.0 2016-03-08 2016-03-08\n",
      "2.0 65.0 2016-03-08 2016-03-08\n",
      "3.0 64.0 2016-03-08 2016-03-08\n",
      "4.0 63.0 2016-03-08 2000-03-08 03:54:00-06:00\n",
      "5.0 62.0 2016-03-08 2000-03-08 04:54:00-06:00\n",
      "6.0 61.0 2016-03-08 2012-03-07 05:54:00-06:00\n",
      "7.0 61.0 2016-03-08 2000-03-08 06:54:00-06:00\n",
      "8.0 62.0 2016-03-08 2012-03-07 07:54:00-06:00\n",
      "9.0 66.0 2016-03-08 2016-03-08\n",
      "10.0 68.0 2016-03-08 2000-03-07 09:54:00-06:00\n",
      "11.0 69.0 2016-03-08 2000-03-08 10:54:00-06:00\n",
      "12.0 71.0 2016-03-08 2016-03-07 11:54:00-06:00\n",
      "13.0 70.0 2016-03-08 2016-03-07 12:54:00-06:00\n",
      "14.0 72.0 2016-03-08 2012-03-06 13:54:00-06:00\n",
      "15.0 71.0 2016-03-08 2016-03-07 14:54:00-06:00\n",
      "16.0 72.0 2016-03-08 2012-03-06 15:54:00-06:00\n",
      "17.0 70.0 2016-03-08 2016-03-07 16:54:00-06:00\n",
      "18.0 68.0 2016-03-08 2016-03-07 17:54:00-06:00\n",
      "19.0 66.0 2016-03-08 2016-03-07 18:54:00-06:00\n",
      "20.0 63.0 2016-03-08 2016-03-07 19:54:00-06:00\n",
      "21.0 58.0 2016-03-08 2016-03-07 20:54:00-06:00\n",
      "22.0 53.0 2016-03-08 2016-03-07 21:54:00-06:00\n",
      "23.0 50.0 2016-03-08 2016-03-07 22:54:00-06:00\n"
     ]
    }
   ],
   "source": [
    "COOP = psycopg2.connect(database='coop', host='iemdb', user='nobody')\n",
    "ccursor = COOP.cursor()\n",
    "dates = []\n",
    "highs = []\n",
    "for h, t, d in zip(hrs, tmpf, days):\n",
    "    \n",
    "    acursor.execute(\"\"\"SELECT valid, tmpf from alldata WHERE \n",
    "extract(hour from valid + '10 minutes') = %s and station = 'DSM' \n",
    "and round(tmpf::numeric,0) >= %s\n",
    "and valid < '%s' and extract(doy from valid) <= extract(doy from '%s'::date)\n",
    "ORDER by valid DESC LIMIT 1\"\"\" % (h, t, d, d))\n",
    "    row = acursor.fetchone()\n",
    "    if row is None:\n",
    "        dates.append( d )\n",
    "        highs.append( -99 )\n",
    "    else:\n",
    "        dates.append( row[0] )\n",
    "    \n",
    "        ccursor.execute(\"\"\"SELECT high from alldata_ia where station = 'IA2203'\n",
    "    and day = '%s'\"\"\" % (row[0].strftime(\"%Y-%m-%d\"),))\n",
    "        row2 = ccursor.fetchone()\n",
    "        highs.append( row2[0] )\n",
    "        \n",
    "    print h, t, d, dates[-1]\n"
   ]
  },
  {
   "cell_type": "code",
   "execution_count": 10,
   "metadata": {
    "collapsed": false
   },
   "outputs": [
    {
     "data": {
      "image/png": "[encoded data removed]",
      "text/plain": [
       "<matplotlib.figure.Figure at 0x4aebc10>"
      ]
     },
     "metadata": {},
     "output_type": "display_data"
    }
   ],
   "source": [
    "import datetime\n",
    "import matplotlib.pyplot as plt\n",
    "\n",
    "\n",
    "(fig, ax) = plt.subplots(1,1, figsize=(7,9))\n",
    "\n",
    "ax.text(0.5, 0.97, '7 Mar 2016 Des Moines Hourly Temperatures', ha='center', size=16)\n",
    "ax.text(0.5, 0.94, 'Last date [1 Jan to 8 Mar] with as warm a temperature [1933-2016]', ha='center', size=12)\n",
    "\n",
    "ax.text(0.1, 0.90, 'Hour', ha='center')\n",
    "ax.text(0.25, 0.90, 'Temp [F]', ha='center')\n",
    "ax.text(0.5, 0.90, 'Previous Date', ha='center')\n",
    "ax.text(0.8, 0.90, 'High that Date', ha='center')\n",
    "\n",
    "ax.plot([0.,1.], [0.89,0.89])\n",
    "\n",
    "y = 0.865\n",
    "for h, t, d, hi in zip(hrs, tmpf, dates, highs):\n",
    "    ts = datetime.datetime(2000,1,1, int(h))\n",
    "    color = 'k'\n",
    "    if d.year < 2000:\n",
    "        color = 'r'\n",
    "    ax.text(0.1, y, \"%s\" % (ts.strftime(\"%-I %p\"),), ha='center', color=color)\n",
    "    ax.text(0.25, y, \"%.0f\" % (t,), ha='center', color=color)\n",
    "    if d.strftime(\"%Y%m%d\") < datetime.datetime(2016, 3, 8).strftime(\"%Y%m%d\"):\n",
    "        ax.text(0.5, y, \"%s\" % (d.strftime(\"%-d %b %Y\"),), ha='center', color=color)\n",
    "        ax.text(0.8, y, \"%s\" % (hi,), ha='center', color=color)\n",
    "    else:\n",
    "        ax.text(0.5, y, \"---\", ha='center', color=color)\n",
    "        ax.text(0.8, y, \"--\", ha='center', color=color)\n",
    "    if h in (5,11,17):\n",
    "        ax.plot([0,1], [y-0.01,y-0.01], color='k')\n",
    "    y -= 0.035\n",
    "\n",
    "ax.set_ylim(-0.2,1)\n",
    "ax.get_xaxis().set_visible(False)\n",
    "ax.get_yaxis().set_visible(False)\n",
    "ax.set_xlim(0,1)\n",
    "ax.axis('off')\n",
    "    \n",
    "fig.savefig('160309.png')\n"
   ]
  },
  {
   "cell_type": "code",
   "execution_count": null,
   "metadata": {
    "collapsed": false
   },
   "outputs": [],
   "source": []
  }
 ],
 "metadata": {
  "kernelspec": {
   "display_name": "Python 2",
   "language": "python",
   "name": "python2"
  },
  "language_info": {
   "codemirror_mode": {
    "name": "ipython",
    "version": 2
   },
   "file_extension": ".py",
   "mimetype": "text/x-python",
   "name": "python",
   "nbconvert_exporter": "python",
   "pygments_lexer": "ipython2",
   "version": "2.7.5"
  }
 },
 "nbformat": 4,
 "nbformat_minor": 0
}
