{
 "metadata": {
  "name": "",
  "signature": "sha256:41e3a79de037ea2aadc815c82af219eb780cdad2dd1dbb71dabd5c0db86b7b98"
 },
 "nbformat": 3,
 "nbformat_minor": 0,
 "worksheets": [
  {
   "cells": [
    {
     "cell_type": "code",
     "collapsed": false,
     "input": [
      "%matplotlib inline\n",
      "import psycopg2\n",
      "ASOS = psycopg2.connect(database='asos', host='iemdb', user='nobody')\n",
      "acursor = ASOS.cursor()\n",
      "\n",
      "hrs = []\n",
      "tmpf = []\n",
      "days = []\n",
      "acursor.execute(\"\"\"SELECT date(valid ) as d, extract(hour  from valid + '10 minutes'::interval) as hr\n",
      "  , min(round(tmpf::numeric,0)) from t2015\n",
      "  where station = 'DSM' and valid > '2015-02-13 23:50' \n",
      "  and valid < '2015-02-14 23:00' GROUP by d, hr ORDER by d, hr ASC\"\"\")\n",
      "for row in acursor:\n",
      "    tmpf.append( float(row[2]) )\n",
      "    hrs.append( row[1] )\n",
      "    days.append( row[0]) \n",
      "\n",
      "print hrs"
     ],
     "language": "python",
     "metadata": {},
     "outputs": [
      {
       "output_type": "stream",
       "stream": "stdout",
       "text": [
        "[0.0, 1.0, 2.0, 3.0, 4.0, 5.0, 6.0, 7.0, 8.0, 9.0, 10.0, 11.0, 12.0, 13.0, 14.0, 15.0, 16.0, 17.0, 18.0, 19.0, 20.0, 21.0, 22.0, 23.0]\n"
       ]
      }
     ],
     "prompt_number": 1
    },
    {
     "cell_type": "code",
     "collapsed": false,
     "input": [
      "import mx.DateTime\n",
      "thursdays =[]\n",
      "for yr in range(1880,2015):\n",
      "  nov1 = mx.DateTime.DateTime(yr, 2, 14)\n",
      "  turkey = nov1\n",
      "  #turkey = nov1 + mx.DateTime.RelativeDateTime(weekday=(mx.DateTime.Thursday,4))\n",
      "  thursdays.append(turkey.strftime(\"%Y-%m-%d\"))"
     ],
     "language": "python",
     "metadata": {},
     "outputs": [],
     "prompt_number": 2
    },
    {
     "cell_type": "code",
     "collapsed": false,
     "input": [
      "COOP = psycopg2.connect(database='coop', host='iemdb', user='nobody')\n",
      "ccursor = COOP.cursor()\n",
      "dates = []\n",
      "highs = []\n",
      "for h, t, d in zip(hrs, tmpf, days):\n",
      "    \n",
      "    acursor.execute(\"\"\"SELECT valid, tmpf from alldata WHERE \n",
      "extract(hour from valid + '10 minutes') = %s and station = 'DSM' \n",
      "and round(tmpf::numeric,0) <= %s\n",
      "and valid < '%s' and date(valid) in %s\n",
      "ORDER by valid DESC LIMIT 1\"\"\" % (h, t, d, str(tuple(thursdays))))\n",
      "    row = acursor.fetchone()\n",
      "    if row is None:\n",
      "        dates.append( d )\n",
      "        highs.append( 22 )\n",
      "    else:\n",
      "        dates.append( row[0] )\n",
      "    \n",
      "        ccursor.execute(\"\"\"SELECT high from alldata_ia where station = 'IA2203'\n",
      "    and day = '%s'\"\"\" % (row[0].strftime(\"%Y-%m-%d\"),))\n",
      "        row2 = ccursor.fetchone()\n",
      "        highs.append( row2[0] )\n",
      "        \n",
      "    print h, t, d, dates[-1]\n"
     ],
     "language": "python",
     "metadata": {},
     "outputs": [
      {
       "output_type": "stream",
       "stream": "stdout",
       "text": [
        "0.0 36.0 2015-02-13 2014-02-14 23:54:00-06:00\n",
        "1.0"
       ]
      },
      {
       "output_type": "stream",
       "stream": "stdout",
       "text": [
        " 35.0 2015-02-14 2014-02-14 00:54:00-06:00\n",
        "2.0"
       ]
      },
      {
       "output_type": "stream",
       "stream": "stdout",
       "text": [
        " 32.0 2015-02-14 2014-02-14 01:54:00-06:00\n",
        "3.0"
       ]
      },
      {
       "output_type": "stream",
       "stream": "stdout",
       "text": [
        " 30.0 2015-02-14 2014-02-14 02:54:00-06:00\n",
        "4.0"
       ]
      },
      {
       "output_type": "stream",
       "stream": "stdout",
       "text": [
        " 27.0 2015-02-14 2014-02-14 04:02:00-06:00\n",
        "5.0"
       ]
      },
      {
       "output_type": "stream",
       "stream": "stdout",
       "text": [
        " 25.0 2015-02-14 2014-02-14 05:42:00-06:00\n",
        "6.0"
       ]
      },
      {
       "output_type": "stream",
       "stream": "stdout",
       "text": [
        " 23.0 2015-02-14 2014-02-14 06:33:00-06:00\n",
        "7.0"
       ]
      },
      {
       "output_type": "stream",
       "stream": "stdout",
       "text": [
        " 22.0 2015-02-14 2014-02-14 07:37:00-06:00\n",
        "8.0"
       ]
      },
      {
       "output_type": "stream",
       "stream": "stdout",
       "text": [
        " 19.0 2015-02-14 2014-02-14 07:54:00-06:00\n",
        "9.0"
       ]
      },
      {
       "output_type": "stream",
       "stream": "stdout",
       "text": [
        " 16.0 2015-02-14 2014-02-14 09:43:00-06:00\n",
        "10.0"
       ]
      },
      {
       "output_type": "stream",
       "stream": "stdout",
       "text": [
        " 14.0 2015-02-14 2007-02-14 09:54:00-06:00\n",
        "11.0"
       ]
      },
      {
       "output_type": "stream",
       "stream": "stdout",
       "text": [
        " 14.0 2015-02-14 2007-02-14 10:54:00-06:00\n",
        "12.0"
       ]
      },
      {
       "output_type": "stream",
       "stream": "stdout",
       "text": [
        " 14.0 2015-02-14 2007-02-14 11:54:00-06:00\n",
        "13.0"
       ]
      },
      {
       "output_type": "stream",
       "stream": "stdout",
       "text": [
        " 14.0 2015-02-14 2007-02-14 12:54:00-06:00\n",
        "14.0"
       ]
      },
      {
       "output_type": "stream",
       "stream": "stdout",
       "text": [
        " 13.0 2015-02-14 2007-02-14 13:54:00-06:00\n",
        "15.0"
       ]
      },
      {
       "output_type": "stream",
       "stream": "stdout",
       "text": [
        " 13.0 2015-02-14 2007-02-14 14:54:00-06:00\n",
        "16.0"
       ]
      },
      {
       "output_type": "stream",
       "stream": "stdout",
       "text": [
        " 13.0 2015-02-14 2007-02-14 15:54:00-06:00\n",
        "17.0"
       ]
      },
      {
       "output_type": "stream",
       "stream": "stdout",
       "text": [
        " 12.0 2015-02-14 2007-02-14 16:54:00-06:00\n",
        "18.0"
       ]
      },
      {
       "output_type": "stream",
       "stream": "stdout",
       "text": [
        " 12.0 2015-02-14 2007-02-14 17:54:00-06:00\n",
        "19.0"
       ]
      },
      {
       "output_type": "stream",
       "stream": "stdout",
       "text": [
        " 11.0 2015-02-14 2007-02-14 18:54:00-06:00\n",
        "20.0"
       ]
      },
      {
       "output_type": "stream",
       "stream": "stdout",
       "text": [
        " 10.0 2015-02-14 2007-02-14 19:54:00-06:00\n",
        "21.0"
       ]
      },
      {
       "output_type": "stream",
       "stream": "stdout",
       "text": [
        " 8.0 2015-02-14 2007-02-14 20:54:00-06:00\n",
        "22.0"
       ]
      },
      {
       "output_type": "stream",
       "stream": "stdout",
       "text": [
        " 7.0 2015-02-14 2007-02-14 21:54:00-06:00\n",
        "23.0"
       ]
      },
      {
       "output_type": "stream",
       "stream": "stdout",
       "text": [
        " 6.0 2015-02-14 2007-02-14 22:54:00-06:00\n"
       ]
      }
     ],
     "prompt_number": 3
    },
    {
     "cell_type": "code",
     "collapsed": false,
     "input": [
      "import datetime\n",
      "import matplotlib.pyplot as plt\n",
      "\n",
      "\n",
      "(fig, ax) = plt.subplots(1,1, figsize=(7,9))\n",
      "\n",
      "ax.text(0.5, 0.97, '14 Feb 2015 Des Moines Hourly Temperatures', ha='center', size=16)\n",
      "ax.text(0.5, 0.94, 'Last Valentines date with as cold hourly temperature', ha='center', size=14)\n",
      "\n",
      "ax.text(0.1, 0.90, 'Hour', ha='center')\n",
      "ax.text(0.25, 0.90, 'Temp [F]', ha='center')\n",
      "ax.text(0.5, 0.90, 'Previous Date', ha='center')\n",
      "ax.text(0.8, 0.90, 'High that Date', ha='center')\n",
      "\n",
      "ax.plot([0.,1.], [0.89,0.89])\n",
      "\n",
      "y = 0.865\n",
      "for h, t, d, hi in zip(hrs, tmpf, dates, highs):\n",
      "    ts = datetime.datetime(2000,1,1, int(h))\n",
      "    color = 'k'\n",
      "    if d.year < 2000:\n",
      "        color = 'r'\n",
      "    ax.text(0.1, y, \"%s\" % (ts.strftime(\"%-I %p\"),), ha='center', color=color)\n",
      "    ax.text(0.25, y, \"%.0f\" % (t,), ha='center', color=color)\n",
      "    if d.year < 2015:\n",
      "        ax.text(0.5, y, \"%s\" % (d.strftime(\"%-d %b %Y\"),), ha='center', color=color)\n",
      "        ax.text(0.8, y, \"%s\" % (hi,), ha='center', color=color)\n",
      "    else:\n",
      "        ax.text(0.5, y, \"---\", ha='center', color=color)\n",
      "        ax.text(0.8, y, \"--\", ha='center', color=color)\n",
      "    if h in (0,6,12,18):\n",
      "        ax.plot([0,1], [y-0.01,y-0.01], color='k')\n",
      "    y -= 0.035\n",
      "\n",
      "ax.set_ylim(-0.2,1)\n",
      "ax.get_xaxis().set_visible(False)\n",
      "ax.get_yaxis().set_visible(False)\n",
      "ax.set_xlim(0,1)\n",
      "ax.axis('off')\n",
      "    \n",
      "fig.savefig('test.png')\n"
     ],
     "language": "python",
     "metadata": {},
     "outputs": [
      {
       "metadata": {},
       "output_type": "display_data",
       "png": "[encoded data removed]",
       "text": [
        "<matplotlib.figure.Figure at 0x4eed5d0>"
       ]
      }
     ],
     "prompt_number": 8
    },
    {
     "cell_type": "code",
     "collapsed": false,
     "input": [],
     "language": "python",
     "metadata": {},
     "outputs": []
    }
   ],
   "metadata": {}
  }
 ]
}