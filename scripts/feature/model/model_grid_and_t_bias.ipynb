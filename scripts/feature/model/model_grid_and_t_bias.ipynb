{
 "metadata": {
  "name": "",
  "signature": "sha256:28ecdadc5727d0fc77971463fbd85523edacf581984ea1c73da9ae041e6e849c"
 },
 "nbformat": 3,
 "nbformat_minor": 0,
 "worksheets": [
  {
   "cells": [
    {
     "cell_type": "code",
     "collapsed": false,
     "input": [
      "%matplotlib inline\n",
      "import netCDF4\n",
      "nc = netCDF4.Dataset('namanl_218_20131113_0000_000.grb.nc')\n",
      "lat = nc.variables['lat'][:]\n",
      "lon = nc.variables['lon'][:]\n",
      "snow = nc.variables['Snow_depth'][0,:,:]\n",
      "nc.close()"
     ],
     "language": "python",
     "metadata": {},
     "outputs": [
      {
       "ename": "RuntimeError",
       "evalue": "No such file or directory",
       "output_type": "pyerr",
       "traceback": [
        "\u001b[1;31m---------------------------------------------------------------------------\u001b[0m\n\u001b[1;31mRuntimeError\u001b[0m                              Traceback (most recent call last)",
        "\u001b[1;32m<ipython-input-1-8f0800780c2a>\u001b[0m in \u001b[0;36m<module>\u001b[1;34m()\u001b[0m\n\u001b[0;32m      1\u001b[0m \u001b[0mget_ipython\u001b[0m\u001b[1;33m(\u001b[0m\u001b[1;33m)\u001b[0m\u001b[1;33m.\u001b[0m\u001b[0mmagic\u001b[0m\u001b[1;33m(\u001b[0m\u001b[1;34mu'matplotlib inline'\u001b[0m\u001b[1;33m)\u001b[0m\u001b[1;33m\u001b[0m\u001b[0m\n\u001b[0;32m      2\u001b[0m \u001b[1;32mimport\u001b[0m \u001b[0mnetCDF4\u001b[0m\u001b[1;33m\u001b[0m\u001b[0m\n\u001b[1;32m----> 3\u001b[1;33m \u001b[0mnc\u001b[0m \u001b[1;33m=\u001b[0m \u001b[0mnetCDF4\u001b[0m\u001b[1;33m.\u001b[0m\u001b[0mDataset\u001b[0m\u001b[1;33m(\u001b[0m\u001b[1;34m'namanl_218_20131113_0000_000.grb.nc'\u001b[0m\u001b[1;33m)\u001b[0m\u001b[1;33m\u001b[0m\u001b[0m\n\u001b[0m\u001b[0;32m      4\u001b[0m \u001b[0mlat\u001b[0m \u001b[1;33m=\u001b[0m \u001b[0mnc\u001b[0m\u001b[1;33m.\u001b[0m\u001b[0mvariables\u001b[0m\u001b[1;33m[\u001b[0m\u001b[1;34m'lat'\u001b[0m\u001b[1;33m]\u001b[0m\u001b[1;33m[\u001b[0m\u001b[1;33m:\u001b[0m\u001b[1;33m]\u001b[0m\u001b[1;33m\u001b[0m\u001b[0m\n\u001b[0;32m      5\u001b[0m \u001b[0mlon\u001b[0m \u001b[1;33m=\u001b[0m \u001b[0mnc\u001b[0m\u001b[1;33m.\u001b[0m\u001b[0mvariables\u001b[0m\u001b[1;33m[\u001b[0m\u001b[1;34m'lon'\u001b[0m\u001b[1;33m]\u001b[0m\u001b[1;33m[\u001b[0m\u001b[1;33m:\u001b[0m\u001b[1;33m]\u001b[0m\u001b[1;33m\u001b[0m\u001b[0m\n",
        "\u001b[1;32m/usr/lib64/python2.7/site-packages/netCDF4.so\u001b[0m in \u001b[0;36mnetCDF4.Dataset.__init__ (netCDF4.c:19807)\u001b[1;34m()\u001b[0m\n",
        "\u001b[1;31mRuntimeError\u001b[0m: No such file or directory"
       ]
      }
     ],
     "prompt_number": 1
    },
    {
     "cell_type": "code",
     "collapsed": false,
     "input": [
      "import psycopg2\n",
      "from pyiem import iemre\n",
      "MOS = psycopg2.connect(database='mos', host='iemdb', user='nobody')\n",
      "IEM = psycopg2.connect(database='iem', host='iemdb', user='nobody')\n",
      "mcursor = MOS.cursor()\n",
      "icursor = IEM.cursor()\n",
      "\n",
      "mcursor.execute(\"\"\"\n",
      "      SELECT station, tmp FROM alldata\n",
      "    WHERE model = 'NAM' and runtime = '2013-11-13 00:00+00' and \n",
      "    ftime = '2013-11-13 18:00+00' and tmp < 999\n",
      "    \"\"\")\n",
      "forecast = {}\n",
      "for row in mcursor:\n",
      "    if row[0][0] == 'K':\n",
      "        forecast[ row[0][1:] ] = row[1]\n",
      "\n",
      "icursor.execute(\"\"\"\n",
      "SELECT \n",
      "  s.id, s.network, tmpf, ST_x(s.geom) as lon, ST_y(s.geom) as lat\n",
      "FROM \n",
      "  current_log c, stations s\n",
      "WHERE\n",
      "  c.iemid = s.iemid and\n",
      "  (s.network ~* 'ASOS') and s.country = 'US' and\n",
      "  extract(year from s.archive_begin) < 1990 and \n",
      "  valid > '2013-11-13 11:50' and valid < '2013-11-13 12:01' and\n",
      "  tmpf > -50\n",
      "    \"\"\")\n",
      "\n",
      "lats = []\n",
      "lons = []\n",
      "vals = []\n",
      "for row in icursor:\n",
      "    if not forecast.has_key( row[0] ):\n",
      "        continue\n",
      "\n",
      "    diff = forecast[row[0]] - row[2]\n",
      "    if row[4] < iemre.SOUTH or row[4] > iemre.NORTH or row[3] < iemre.WEST or row[3] > iemre.EAST:\n",
      "        continue\n",
      "    lats.append( row[4] )\n",
      "    lons.append( row[3] )\n",
      "    vals.append( diff )\n",
      "\n",
      "print len(vals)"
     ],
     "language": "python",
     "metadata": {},
     "outputs": [
      {
       "output_type": "stream",
       "stream": "stdout",
       "text": [
        "242\n"
       ]
      }
     ],
     "prompt_number": 30
    },
    {
     "cell_type": "code",
     "collapsed": false,
     "input": [
      "from pyiem.plot import MapPlot\n",
      "import numpy as np\n",
      "m = MapPlot(sector='midwest',\n",
      "            title='6 PM 12 Nov 2013 NAM Snow Depth Analysis + 18 Hr MOS Temp bias',\n",
      "            subtitle='Values plotted are MOS temp bias ($^\\circ$F) at noon 13 Nov 2013')\n",
      "print np.shape(lon), np.shape(snow)\n",
      "m.pcolormesh(lon, lat, snow * 1000.0 / 25.4, np.arange(0,3.1,0.25), label='inch')\n",
      "m.plot_values(lons, lats, vals, '%.0f')\n",
      "m.postprocess(filename='test.ps')"
     ],
     "language": "python",
     "metadata": {},
     "outputs": [
      {
       "output_type": "stream",
       "stream": "stdout",
       "text": [
        "(428, 614) (428, 614)\n"
       ]
      }
     ],
     "prompt_number": 33
    },
    {
     "cell_type": "code",
     "collapsed": false,
     "input": [
      "import iemplot\n",
      "iemplot.makefeature('test')"
     ],
     "language": "python",
     "metadata": {},
     "outputs": [],
     "prompt_number": 34
    },
    {
     "cell_type": "code",
     "collapsed": false,
     "input": [],
     "language": "python",
     "metadata": {},
     "outputs": []
    }
   ],
   "metadata": {}
  }
 ]
}